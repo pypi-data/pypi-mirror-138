{
 "cells": [
  {
   "cell_type": "markdown",
   "metadata": {},
   "source": [
    "# Complex NetCDF to Zarr Recipe: TerraClimate \n",
    "\n",
    "## About the Dataset\n",
    "\n",
    "From http://www.climatologylab.org/terraclimate.html:\n",
    "\n",
    "> TerraClimate is a dataset of monthly climate and climatic water balance for global terrestrial surfaces from 1958-2019. These data provide important inputs for ecological and hydrological studies at global scales that require high spatial resolution and time-varying data. All data have monthly temporal resolution and a ~4-km (1/24th degree) spatial resolution. The data cover the period from 1958-2019. We plan to update these data periodically (annually).\n",
    "\n",
    "## What makes it tricky\n",
    "\n",
    "This is an advanced example that illustrates the following concepts\n",
    "- _Multiple variables in different files_: There is one file per year for a dozen different variables.\n",
    "- _Complex Preprocessing_: We want to apply different preprocessing depending on the variable. This example shows how.\n",
    "- _Inconsistent size of data in input files_: This means we have to scan each input file and cache its metadata before we can start writing the target.\n",
    "\n",
    "This recipe requires a new storage target, a `metadata_cache`. In this example, this is just another directory. You could hypothetically use a database or other key/value store for this."
   ]
  },
  {
   "cell_type": "code",
   "execution_count": null,
   "metadata": {},
   "outputs": [],
   "source": [
    "from pangeo_forge_recipes.recipes import XarrayZarrRecipe\n",
    "from pangeo_forge_recipes.patterns import FilePattern, ConcatDim, MergeDim\n",
    "import xarray as xr"
   ]
  },
  {
   "cell_type": "markdown",
   "metadata": {},
   "source": [
    "## Define Filename Pattern \n",
    "\n",
    "To keep this example smaller, we just use two years instead of the whole record."
   ]
  },
  {
   "cell_type": "code",
   "execution_count": null,
   "metadata": {},
   "outputs": [],
   "source": [
    "target_chunks = {\"lat\": 1024, \"lon\": 1024, \"time\": 12}\n",
    "# only do two years to keep the example small; it's still big!\n",
    "years = list(range(1958, 1960))\n",
    "variables = [\n",
    "    \"aet\",\n",
    "    \"def\",\n",
    "    \"pet\",\n",
    "    \"ppt\",\n",
    "    \"q\",\n",
    "    \"soil\",\n",
    "    \"srad\",\n",
    "    \"swe\",\n",
    "    \"tmax\",\n",
    "    \"tmin\",\n",
    "    \"vap\",\n",
    "    \"ws\",\n",
    "    \"vpd\",\n",
    "    \"PDSI\",\n",
    "]\n",
    "\n",
    "def make_filename(variable, time):\n",
    "    return f\"http://thredds.northwestknowledge.net:8080/thredds/fileServer/TERRACLIMATE_ALL/data/TerraClimate_{variable}_{time}.nc\"\n",
    "\n",
    "pattern = FilePattern(\n",
    "    make_filename,\n",
    "    ConcatDim(name=\"time\", keys=years),\n",
    "    MergeDim(name=\"variable\", keys=variables)\n",
    ")\n",
    "pattern"
   ]
  },
  {
   "cell_type": "markdown",
   "metadata": {},
   "source": [
    "Check out the pattern:"
   ]
  },
  {
   "cell_type": "code",
   "execution_count": null,
   "metadata": {},
   "outputs": [],
   "source": [
    "for key, filename in pattern.items():\n",
    "    break\n",
    "key, filename"
   ]
  },
  {
   "cell_type": "markdown",
   "metadata": {},
   "source": [
    "## Define Preprocessing Functions\n",
    "\n",
    "These functions apply masks for each variable to remove invalid data."
   ]
  },
  {
   "cell_type": "code",
   "execution_count": null,
   "metadata": {},
   "outputs": [],
   "source": [
    "rename_vars = {'PDSI': 'pdsi'}\n",
    "\n",
    "mask_opts = {\n",
    "    \"PDSI\": (\"lt\", 10),\n",
    "    \"aet\": (\"lt\", 32767),\n",
    "    \"def\": (\"lt\", 32767),\n",
    "    \"pet\": (\"lt\", 32767),\n",
    "    \"ppt\": (\"lt\", 32767),\n",
    "    \"ppt_station_influence\": None,\n",
    "    \"q\": (\"lt\", 2147483647),\n",
    "    \"soil\": (\"lt\", 32767),\n",
    "    \"srad\": (\"lt\", 32767),\n",
    "    \"swe\": (\"lt\", 10000),\n",
    "    \"tmax\": (\"lt\", 200),\n",
    "    \"tmax_station_influence\": None,\n",
    "    \"tmin\": (\"lt\", 200),\n",
    "    \"tmin_station_influence\": None,\n",
    "    \"vap\": (\"lt\", 300),\n",
    "    \"vap_station_influence\": None,\n",
    "    \"vpd\": (\"lt\", 300),\n",
    "    \"ws\": (\"lt\", 200),\n",
    "}\n",
    "\n",
    "def apply_mask(key, da):\n",
    "    \"\"\"helper function to mask DataArrays based on a threshold value\"\"\"\n",
    "    if mask_opts.get(key, None):\n",
    "        op, val = mask_opts[key]\n",
    "        if op == \"lt\":\n",
    "            da = da.where(da < val)\n",
    "        elif op == \"neq\":\n",
    "            da = da.where(da != val)\n",
    "    return da\n",
    "\n",
    "\n",
    "def preproc(ds):\n",
    "    \"\"\"custom preprocessing function for terraclimate data\"\"\"\n",
    "    \n",
    "    rename = {}\n",
    "\n",
    "    station_influence = ds.get(\"station_influence\", None)\n",
    "\n",
    "    if station_influence is not None:\n",
    "        ds = ds.drop_vars(\"station_influence\")\n",
    "\n",
    "    var = list(ds.data_vars)[0]\n",
    "\n",
    "    if var in rename_vars:\n",
    "        rename[var] = rename_vars[var]\n",
    "\n",
    "    if \"day\" in ds.coords:\n",
    "        rename[\"day\"] = \"time\"\n",
    "\n",
    "    if station_influence is not None:\n",
    "        ds[f\"{var}_station_influence\"] = station_influence\n",
    "\n",
    "    with xr.set_options(keep_attrs=True):\n",
    "        ds[var] = apply_mask(var, ds[var])\n",
    "\n",
    "    if rename:\n",
    "        ds = ds.rename(rename)\n",
    "                \n",
    "    return ds\n"
   ]
  },
  {
   "cell_type": "markdown",
   "metadata": {},
   "source": [
    "## Define Recipe\n",
    "\n",
    "We are now ready to define the recipe.\n",
    "We also specify the desired chunks of the target dataset.\n",
    "\n",
    "A key property of this recipe is `nitems_per_input=None`, which triggers caching of input metadata."
   ]
  },
  {
   "cell_type": "code",
   "execution_count": null,
   "metadata": {},
   "outputs": [],
   "source": [
    "chunks = {\"lat\": 1024, \"lon\": 1024, \"time\": 12}\n",
    "\n",
    "recipe = XarrayZarrRecipe(\n",
    "    file_pattern=pattern,\n",
    "    target_chunks=target_chunks,\n",
    "    process_chunk=preproc\n",
    ")\n",
    "recipe"
   ]
  },
  {
   "cell_type": "markdown",
   "metadata": {},
   "source": [
    "## Define Storage Targets\n",
    "\n",
    "Since we did not specify `nitems_per_file` in our `ConcatDim`, the recipe needs to cache input metadata.\n",
    "So we need to suply a `metadata_cache` target."
   ]
  },
  {
   "cell_type": "code",
   "execution_count": null,
   "metadata": {},
   "outputs": [],
   "source": [
    "import tempfile\n",
    "from fsspec.implementations.local import LocalFileSystem\n",
    "from pangeo_forge_recipes.storage import FSSpecTarget, CacheFSSpecTarget, MetadataTarget\n",
    "\n",
    "fs_local = LocalFileSystem()\n",
    "\n",
    "target_dir = tempfile.TemporaryDirectory()\n",
    "target = FSSpecTarget(fs_local, target_dir.name)\n",
    "\n",
    "cache_dir = tempfile.TemporaryDirectory()\n",
    "cache_target = CacheFSSpecTarget(fs_local, cache_dir.name)\n",
    "\n",
    "meta_dir = tempfile.TemporaryDirectory()\n",
    "meta_store = MetadataTarget(fs_local, meta_dir.name)\n",
    "\n",
    "recipe.target = target\n",
    "recipe.input_cache = cache_target\n",
    "recipe.metadata_cache = meta_store\n",
    "recipe"
   ]
  },
  {
   "cell_type": "markdown",
   "metadata": {},
   "source": [
    "## Execute with Prefect\n",
    "\n",
    "This produces A LOT of output because we turn on logging."
   ]
  },
  {
   "cell_type": "code",
   "execution_count": null,
   "metadata": {},
   "outputs": [],
   "source": [
    "# logging will display some interesting information about our recipe during execution\n",
    "import logging\n",
    "import sys\n",
    "\n",
    "logging.basicConfig(\n",
    "    format='%(asctime)s [%(levelname)s] %(name)s - %(message)s',\n",
    "    level=logging.INFO,\n",
    "    datefmt='%Y-%m-%d %H:%M:%S',\n",
    "    stream=sys.stdout,\n",
    ")\n",
    "logger = logging.getLogger(\"pangeo_forge_recipes\")\n",
    "logger.setLevel(logging.INFO)"
   ]
  },
  {
   "cell_type": "code",
   "execution_count": null,
   "metadata": {},
   "outputs": [],
   "source": [
    "flow = recipe.to_prefect()\n",
    "flow.run()"
   ]
  },
  {
   "cell_type": "markdown",
   "metadata": {},
   "source": [
    "## Check and Plot Target"
   ]
  },
  {
   "cell_type": "code",
   "execution_count": null,
   "metadata": {},
   "outputs": [],
   "source": [
    "ds_target = xr.open_zarr(target.get_mapper(), consolidated=True)\n",
    "ds_target"
   ]
  },
  {
   "cell_type": "markdown",
   "metadata": {},
   "source": [
    "As an example calculation, we compute and plot the seasonal climatology of soil moisture."
   ]
  },
  {
   "cell_type": "code",
   "execution_count": null,
   "metadata": {},
   "outputs": [],
   "source": [
    "with xr.set_options(keep_attrs=True):\n",
    "    soil_clim = ds_target.soil.groupby('time.season').mean('time').coarsen(lon=12, lat=12).mean()\n",
    "soil_clim"
   ]
  },
  {
   "cell_type": "code",
   "execution_count": null,
   "metadata": {},
   "outputs": [],
   "source": [
    "soil_clim.plot(col='season', col_wrap=2, robust=True, figsize=(18, 8))"
   ]
  },
  {
   "cell_type": "code",
   "execution_count": null,
   "metadata": {},
   "outputs": [],
   "source": []
  }
 ],
 "metadata": {
  "kernelspec": {
   "display_name": "Python 3 (ipykernel)",
   "language": "python",
   "name": "python3"
  },
  "execution": {
    "allow_errors": false,
    "timeout": 3000
  },
  "language_info": {
   "codemirror_mode": {
    "name": "ipython",
    "version": 3
   },
   "file_extension": ".py",
   "mimetype": "text/x-python",
   "name": "python",
   "nbconvert_exporter": "python",
   "pygments_lexer": "ipython3",
   "version": "3.9.6"
  }
 },
 "nbformat": 4,
 "nbformat_minor": 4
}
