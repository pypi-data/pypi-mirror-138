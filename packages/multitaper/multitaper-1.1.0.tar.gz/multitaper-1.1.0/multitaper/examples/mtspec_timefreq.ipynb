{
 "cells": [
  {
   "cell_type": "markdown",
   "id": "99948750",
   "metadata": {},
   "source": [
    "## Load libraries"
   ]
  },
  {
   "cell_type": "code",
   "execution_count": null,
   "id": "15719e30",
   "metadata": {},
   "outputs": [],
   "source": [
    "import multitaper.mtspec as mtspec\n",
    "import multitaper.utils as utils\n",
    "#import multitaper.mtcross as mtcross\n",
    "import numpy as np\n",
    "import matplotlib.pyplot as plt"
   ]
  },
  {
   "cell_type": "markdown",
   "id": "8322c85d",
   "metadata": {},
   "source": [
    "## Load building data"
   ]
  },
  {
   "cell_type": "code",
   "execution_count": null,
   "id": "9e48b6a7",
   "metadata": {},
   "outputs": [],
   "source": [
    "data     = utils.get_data('crisanto_mesetas.dat')\n",
    "dt       = 1/200.\n",
    "npts,ntr = np.shape(data)\n",
    "\n",
    "print('npts, # of traces, dt ',npts, ntr, dt)"
   ]
  },
  {
   "cell_type": "markdown",
   "id": "3e7528ef",
   "metadata": {},
   "source": [
    "## Plot time series"
   ]
  },
  {
   "cell_type": "code",
   "execution_count": null,
   "id": "00db599e",
   "metadata": {},
   "outputs": [],
   "source": [
    "# create time vector\n",
    "qtime = 3*60+55   # in seconds\n",
    "t    = np.arange(npts)*dt - qtime\n",
    "dmax = np.amax(data)/2\n",
    "\n",
    "fig = plt.figure()\n",
    "ax  = fig.add_subplot()\n",
    "for i in range(ntr):\n",
    "    ax.plot(t/60,data[:,i]/dmax+(i*3)+2,'k')\n",
    "ax.set_xlabel('Time since M6.0 earthquake (min)')\n",
    "ax.set_ylabel('Floor')\n",
    "ax.set_yticks([2, 5, 8, 11, 14]);\n",
    "ax.plot((0,0),(1,16),'r--')\n",
    "ax.plot((1.66,1.66),(1,16),'r--')\n",
    "fig = plt.figure()\n",
    "ax  = fig.add_subplot()\n",
    "for i in range(ntr):\n",
    "    ax.plot(t,data[:,i]/dmax+(i*3)+2,'k')\n",
    "ax.set_xlabel('Time since M6.0 earthquake (s)')\n",
    "ax.set_xlim(0,100)\n",
    "ax.set_ylabel('Floor')\n",
    "ax.set_yticks([2, 5, 8, 11, 14]);\n",
    "#plt.savefig('cr_spectrogram00.jpg')"
   ]
  },
  {
   "cell_type": "code",
   "execution_count": null,
   "id": "b86d860a",
   "metadata": {},
   "outputs": [],
   "source": [
    "nw = 3.5\n",
    "itrace = 4\n",
    "x = data[:,itrace]\n",
    "t2,freq,QIspec,MTspec = mtspec.spectrogram(x,dt,twin=20.,olap=0.5,\n",
    "                               nw=nw,kspec=5,fmin=0.05,fmax=20.)"
   ]
  },
  {
   "cell_type": "markdown",
   "id": "4b0fe371",
   "metadata": {},
   "source": [
    "# Plot spectrogram and time series"
   ]
  },
  {
   "cell_type": "code",
   "execution_count": null,
   "id": "17126128",
   "metadata": {},
   "outputs": [],
   "source": [
    "tspec = (t2-qtime)/60.     \n",
    "\n",
    "df   = freq[2]-freq[1]\n",
    "fnw  = nw*df\n",
    "lfnw = np.array((-fnw,+fnw))\n",
    "\n",
    "fl_1 = 3.0\n",
    "fh_1 = 4.5\n",
    "fl_2 = 0.7\n",
    "fh_2 = 1.6\n",
    "\n",
    "iloc1 = np.where((freq>=fl_1) & (freq<=fh_1))[0]\n",
    "iloc2 = np.where((freq>=fl_2) & (freq<=fh_2))[0]\n",
    "\n",
    "tbox  = np.array((np.min(tspec),np.max(tspec),\n",
    "                 np.max(tspec),np.min(tspec),np.min(tspec)))\n",
    "f2box = np.array((fl_2,fl_2,fh_2,fh_2,fl_2))\n",
    "f1box = np.array((fl_1,fl_1,fh_1,fh_1,fl_1))\n",
    "\n",
    "fig = plt.figure(figsize=(10, 6)) \n",
    "ax2 = fig.add_subplot(2,1,1)\n",
    "ax2.plot(t/60,data[:,itrace]/dmax,'k')\n",
    "ax2.set_xlim(np.min(tspec),np.max(tspec))\n",
    "ax2.set_xticks([])\n",
    "ax2.set_yticks([])\n",
    "box    = ax2.get_position()\n",
    "box.y0 = box.y0 + 0.24\n",
    "ax2.set_position(box)\n",
    "\n",
    "ax1 = fig.add_subplot(2,1,2)\n",
    "X,Y = np.meshgrid(tspec,freq)\n",
    "c = ax1.pcolor(X,Y,np.log10(QIspec),cmap='Greys', shading='auto',)\n",
    "        # vmax=1e7)\n",
    "\n",
    "ax1.plot(tbox,f2box,'w--',linewidth=1)\n",
    "ax1.plot(tbox,f1box,'w--',linewidth=1)\n",
    "ax1.set_xlabel('Time after M6.0 earthquake (min)')\n",
    "ax1.set_ylabel('Frequency (Hz)')\n",
    "ax1.set_ylim((0.05,15))\n",
    "box    = ax1.get_position()\n",
    "box.y1 = box.y1 + 0.30\n",
    "ax1.set_position(box)\n",
    "\n",
    "plt.savefig('figures/tf_waveforms.jpg')"
   ]
  },
  {
   "cell_type": "markdown",
   "id": "b027139b",
   "metadata": {},
   "source": [
    "# Zoomed spectrogram"
   ]
  },
  {
   "cell_type": "code",
   "execution_count": null,
   "id": "5bef2ad3",
   "metadata": {
    "scrolled": false
   },
   "outputs": [],
   "source": [
    "#------------------------------------------\n",
    "# Plot spectrograms zoomed\n",
    "#------------------------------------------\n",
    "props = dict(facecolor='white', alpha=1.0)\n",
    "\n",
    "f1    = freq[iloc1]\n",
    "X1,Y1 = np.meshgrid(tspec,f1)\n",
    "s1    = QIspec[iloc1,:]\n",
    "s1b   = MTspec[iloc1,:]\n",
    "for i in range(len(tspec)):\n",
    "    s1[:,i]  = s1[:,i] /np.max(s1[:,i])\n",
    "    s1b[:,i] = s1b[:,i]/np.max(s1b[:,i])\n",
    "f2  = freq[iloc2]\n",
    "X,Y = np.meshgrid(tspec,f2)\n",
    "s2  = QIspec[iloc2,:]\n",
    "s2b = MTspec[iloc2,:]\n",
    "for i in range(len(tspec)):\n",
    "    s2[:,i]  = s2[:,i] /np.max(s2[:,i])\n",
    "    s2b[:,i] = s2b[:,i]/np.max(s2b[:,i])\n",
    "\n",
    "fig = plt.figure(figsize=(10, 6)) \n",
    "ax1 = fig.add_subplot(2,2,1)\n",
    "c = ax1.pcolor(X1,Y1,(s1),cmap='binary', shading='auto',vmin=0.1)\n",
    "ax1.set_xticks([])\n",
    "ax1.set_ylabel('Frequency (Hz)')\n",
    "ax1.text(-3.5, 3.08, 'Quadratic',bbox=props, fontsize=10)\n",
    "\n",
    "ax2 = fig.add_subplot(2,2,3)\n",
    "c = ax2.pcolor(X,Y,(s2),cmap='binary', shading='auto',vmin=0.1)\n",
    "ax2.set_ylabel('Frequency (Hz)')\n",
    "ax2.set_xlabel('Time after M6.0 earthquake (min)')\n",
    "ax2.text(-3.5, 0.75, 'Quadratic',bbox=props, fontsize=10)\n",
    "box    = ax2.get_position()\n",
    "box.y0 = box.y0 + 0.05\n",
    "box.y1 = box.y1 + 0.05\n",
    "ax2.set_position(box)\n",
    "\n",
    "\n",
    "ax3 = fig.add_subplot(2,2,2)\n",
    "c = ax3.pcolor(X1,Y1,(s1b),cmap='binary', shading='auto',vmin=0.1)\n",
    "ax3.set_xticks([])\n",
    "ax3.set_yticks([])\n",
    "ax3.text(-3.5, 3.08, 'Adaptive',bbox=props, fontsize=10)\n",
    "box    = ax3.get_position()\n",
    "box.x0 = box.x0 - 0.05\n",
    "box.x1 = box.x1 - 0.05\n",
    "ax3.set_position(box)\n",
    "\n",
    "ax4 = fig.add_subplot(2,2,4)\n",
    "c = ax4.pcolor(X,Y,(s2b),cmap='binary', shading='auto',vmin=0.1)\n",
    "ax4.set_xlabel('Time after M6.0 earthquake (min)')\n",
    "ax4.set_yticks([])\n",
    "ax4.text(-3.5, 0.75, 'Adaptive',bbox=props, fontsize=10)\n",
    "\n",
    "box    = ax4.get_position()\n",
    "box.x0 = box.x0 - 0.05\n",
    "box.x1 = box.x1 - 0.05\n",
    "box.y0 = box.y0 + 0.05\n",
    "box.y1 = box.y1 + 0.05\n",
    "ax4.set_position(box)\n",
    "\n",
    "plt.savefig('figures/tf_spec2.jpg')\n"
   ]
  },
  {
   "cell_type": "markdown",
   "id": "0febf9e6",
   "metadata": {},
   "source": [
    "# Temporal behavior of peaks\n"
   ]
  },
  {
   "cell_type": "code",
   "execution_count": null,
   "id": "e1c21487",
   "metadata": {},
   "outputs": [],
   "source": [
    "#------------------------------------------\n",
    "# Select time windows\n",
    "#------------------------------------------\n",
    "k1 = 10\n",
    "k2 = 28\n",
    "k3 = 44\n",
    "\n",
    "fig2 = plt.figure(figsize=(6,8))\n",
    "ax2 = fig2.add_subplot(2,1,2)\n",
    "ax2.plot(freq,QIspec[:,k1]/np.max(QIspec[iloc1,k1]),'b',\n",
    "         label=r'time=%5.2f'%(tspec[10]));\n",
    "ax2.plot(freq,QIspec[:,k2]/np.max(QIspec[iloc1,k2]),'r',\n",
    "        label=r'time=%5.2f'%(tspec[28]));\n",
    "ax2.plot(freq,QIspec[:,k3]/np.max(QIspec[iloc1,k3]),'m',\n",
    "        label=r'time=%5.2f'%(tspec[44]));\n",
    "ax2.set_xlim(fl_1,fh_1)\n",
    "ax2.set_ylim(0,1.1)\n",
    "ax2.plot(lfnw+4.28,[0.8,0.8],'k')\n",
    "ax2.text(4.25,0.82,'2W')\n",
    "ax2.set_xlabel('Frequency (Hz)')\n",
    "ax2.set_ylabel('PSD (normalized)')\n",
    "\n",
    "ax3 = fig2.add_subplot(2,1,1)\n",
    "ax3.plot(freq,QIspec[:,k1]/np.max(QIspec[iloc2,k1]),'b',\n",
    "         label='Pre-event');\n",
    "ax3.plot(freq,QIspec[:,k2]/np.max(QIspec[iloc2,k2]),'r',\n",
    "        label='Co-event');\n",
    "ax3.plot(freq,QIspec[:,k3]/np.max(QIspec[iloc2,k3]),'m',\n",
    "        label='Post-event');\n",
    "ax3.set_xlim(0.4,fh_2+0.2)\n",
    "ax3.set_ylim(0,1.1)\n",
    "ax3.plot(lfnw+1.6,[0.8,0.8],'k')\n",
    "ax3.text(1.57,0.83,'2W')\n",
    "ax3.legend(loc='upper left')\n",
    "ax3.set_xlabel('Frequency (Hz)')\n",
    "ax3.set_ylabel('PSD (normalized)')\n",
    "plt.savefig('figures/tf_spec1.jpg')\n",
    "\n",
    "\n"
   ]
  },
  {
   "cell_type": "code",
   "execution_count": null,
   "id": "6c1a0ada",
   "metadata": {},
   "outputs": [],
   "source": []
  }
 ],
 "metadata": {
  "kernelspec": {
   "display_name": "Python 3 (ipykernel)",
   "language": "python",
   "name": "python3"
  },
  "language_info": {
   "codemirror_mode": {
    "name": "ipython",
    "version": 3
   },
   "file_extension": ".py",
   "mimetype": "text/x-python",
   "name": "python",
   "nbconvert_exporter": "python",
   "pygments_lexer": "ipython3",
   "version": "3.9.10"
  }
 },
 "nbformat": 4,
 "nbformat_minor": 5
}
