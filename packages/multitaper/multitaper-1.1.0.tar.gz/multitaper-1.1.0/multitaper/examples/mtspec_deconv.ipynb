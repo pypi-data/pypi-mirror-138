{
 "cells": [
  {
   "cell_type": "markdown",
   "id": "99948750",
   "metadata": {},
   "source": [
    "# Perform deconvolution to obtain building IRF"
   ]
  },
  {
   "cell_type": "markdown",
   "id": "455d1d31",
   "metadata": {},
   "source": [
    "## Load libraries"
   ]
  },
  {
   "cell_type": "code",
   "execution_count": null,
   "id": "15719e30",
   "metadata": {},
   "outputs": [],
   "source": [
    "import multitaper.mtspec as mtspec\n",
    "import multitaper.utils as utils\n",
    "import multitaper.mtcross as mtcross\n",
    "import numpy as np\n",
    "import matplotlib.pyplot as plt\n",
    "import scipy.signal as signal"
   ]
  },
  {
   "cell_type": "markdown",
   "id": "8322c85d",
   "metadata": {},
   "source": [
    "## Load building data"
   ]
  },
  {
   "cell_type": "code",
   "execution_count": null,
   "id": "9e48b6a7",
   "metadata": {},
   "outputs": [],
   "source": [
    "data = utils.get_data('crisanto_mesetas.dat')\n",
    "dt   = 1/200.\n",
    "npts,ntr = np.shape(data)\n",
    "\n",
    "print('npts, # of traces, dt ',npts, ntr, dt)"
   ]
  },
  {
   "cell_type": "markdown",
   "id": "3e7528ef",
   "metadata": {},
   "source": [
    "## Plot time series"
   ]
  },
  {
   "cell_type": "code",
   "execution_count": null,
   "id": "00db599e",
   "metadata": {},
   "outputs": [],
   "source": [
    "# create time vector\n",
    "qtime = 3*60+55   # in seconds\n",
    "t    = np.arange(npts)*dt - qtime\n",
    "dmax = np.amax(data)/2\n",
    "\n",
    "#-------------------------------------\n",
    "# Define windows for deconvolution\n",
    "#-------------------------------------\n",
    "ta_1 = -3.9*60\n",
    "ta_2 = -0.1*60\n",
    "tb_1 = 0*60\n",
    "tb_2 = 2*60\n",
    "tc_1 = 7*60\n",
    "tc_2 = 12*60\n",
    "iloc1 = np.where((t>=ta_1) & (t<=ta_2))[0]\n",
    "iloc2 = np.where((t>=tb_1) & (t<=tb_2))[0]\n",
    "iloc3 = np.where((t>=tc_1) & (t<=tc_2))[0]\n",
    "\n",
    "fig = plt.figure()\n",
    "ax  = fig.add_subplot()\n",
    "for i in range(ntr):\n",
    "    ax.plot(t/60,data[:,i]/dmax+(i*3)+2,'k')\n",
    "ax.set_xlabel('Time since M6.0 earthquake (min)')\n",
    "ax.set_ylabel('Floor')\n",
    "ax.set_yticks([2, 5, 8, 11, 14]);\n",
    "ax.plot((ta_1/60,ta_1/60),(1,16),'b--')\n",
    "ax.plot((ta_2/60,ta_2/60),(1,16),'b--')\n",
    "ax.plot((tb_1/60,tb_1/60),(1,16),'r--')\n",
    "ax.plot((tb_2/60,tb_2/60),(1,16),'r--')\n",
    "ax.plot((tc_1/60,tc_1/60),(1,16),'k--')\n",
    "ax.plot((tc_2/60,tc_2/60),(1,16),'k--')\n",
    "ax.set_xlim(-5, 15)\n",
    "ax.set_ylim(-1.5,16)\n",
    "ax.text(-3.0,-0.8,'    Pre \\nshaking',color='b')\n",
    "ax.text(-0.2,-0.8,' During\\nshaking',color='r')\n",
    "ax.text(+8.5,-0.8,'   After\\nshaking',color='k')\n",
    "plt.savefig('figures/irf_waveforms.jpg')"
   ]
  },
  {
   "cell_type": "code",
   "execution_count": null,
   "id": "cae340d3",
   "metadata": {},
   "outputs": [],
   "source": [
    "def cross_2d(data,i0,dt,nw,kspec,fmin,fmax,tmin,tmax):\n",
    "\n",
    "    fnyq = 0.5/dt\n",
    "    wn   = [fmin/fnyq,fmax/fnyq]\n",
    "    b, a = signal.butter(4, wn,'bandpass')\n",
    "\n",
    "    ntr = np.shape(data)[1] \n",
    "    x   = data[:,i0]\n",
    "    for i in range(ntr):\n",
    "        y = data[:,i]\n",
    "        Pxy  = mtcross.MTCross(y,x,nw,kspec,dt)\n",
    "        xcorr, dcohe, dconv  = Pxy.mt_corr()\n",
    "        dconv = signal.filtfilt(b, a, dcohe[:,0])\n",
    "        if (i==0):\n",
    "            k    = np.linspace(-Pxy.npts,Pxy.npts,len(xcorr),dtype=int)\n",
    "            t2   = k*dt\n",
    "            tloc = np.where((t2>=-2.0) & (t2<=2))[0]\n",
    "            irf  = np.zeros((len(tloc),ntr))\n",
    "        irf[:,i] = dconv[tloc]\n",
    "        t        = t2[tloc]\n",
    "\n",
    "    return [irf,t]"
   ]
  },
  {
   "cell_type": "code",
   "execution_count": null,
   "id": "73b8c986",
   "metadata": {},
   "outputs": [],
   "source": [
    "\n",
    "#------------------------------------------------\n",
    "# Define desired parameters\n",
    "#------------------------------------------------\n",
    "nw      = 3.5\n",
    "kspec   = 5 \n",
    "ifloor1 = 0\n",
    "fmin    = 0.5\n",
    "fmax    = 10.0\n",
    "tmin    = -2.0\n",
    "tmax    = +2.0\n",
    "\n",
    "irf1,tirf = cross_2d(data[iloc1,:],ifloor1,dt,nw,kspec,\n",
    "               fmin,fmax,tmin,tmax)\n",
    "\n",
    "irf2,tirf = cross_2d(data[iloc2,:],ifloor1,dt,nw,kspec,\n",
    "               fmin,fmax,tmin,tmax)\n",
    "\n",
    "irf3,tirf = cross_2d(data[iloc3,:],ifloor1,dt,nw,kspec,\n",
    "               fmin,fmax,tmin,tmax)\n",
    "\n"
   ]
  },
  {
   "cell_type": "code",
   "execution_count": null,
   "id": "5286fc0e",
   "metadata": {},
   "outputs": [],
   "source": [
    "ntr = np.shape(data)[1] \n",
    "\n",
    "fig = plt.figure(figsize=(10,6))\n",
    "ax  = fig.add_subplot(1,2,1)\n",
    "for i in range(ntr):\n",
    "    ax.plot(tirf,2*irf1[:,i]/np.max(irf1[:,i])+(i*3)+2,'b')\n",
    "    ax.plot(tirf,2*irf2[:,i]/np.max(irf2[:,i])+(i*3)+2,'r')\n",
    "    ax.plot(tirf,2*irf3[:,i]/np.max(irf3[:,i])+(i*3)+2,'k')\n",
    "ax.set_yticks([2, 5, 8, 11, 14]);\n",
    "ax.set_ylabel('Floor')\n",
    "ax.set_xlabel('Time (s)')\n",
    "\n",
    "ax2    = fig.add_subplot(1,2,2)\n",
    "box    = ax2.get_position()\n",
    "box.x0 = box.x0 -0.15\n",
    "box.x1 = box.x1 -0.13\n",
    "box.y0 = box.y0 + 0.44\n",
    "box.y1 = box.y1 - 0.01\n",
    "ax2.set_position(box)\n",
    "for i in range(3,ntr):\n",
    "    if (i==3):\n",
    "        ax2.plot(tirf,2*irf1[:,i]/np.max(irf1[:,i])+(i*3)+2,'b',\n",
    "             label='Pre shaking')\n",
    "        ax2.plot(tirf,2*irf2[:,i]/np.max(irf2[:,i])+(i*3)+2,'r',\n",
    "            label='During shaking')\n",
    "        ax2.plot(tirf,2*irf3[:,i]/np.max(irf3[:,i])+(i*3)+2,'k',\n",
    "            label='After shaking')\n",
    "    else:\n",
    "        ax2.plot(tirf,2*irf1[:,i]/np.max(irf1[:,i])+(i*3)+2,'b')\n",
    "        ax2.plot(tirf,2*irf2[:,i]/np.max(irf2[:,i])+(i*3)+2,'r')\n",
    "        ax2.plot(tirf,2*irf3[:,i]/np.max(irf3[:,i])+(i*3)+2,'k')\n",
    "\n",
    "ax2.set_xlim(-0.01,0.3)\n",
    "ax2.set_yticks([11, 14]);\n",
    "ax2.set_xticks([0.0, 0.1, 0.2,0.3]);\n",
    "ax2.set_ylabel('Floor')\n",
    "ax2.set_xlabel('Time (s)')\n",
    "ax2.xaxis.tick_top()\n",
    "ax2.yaxis.tick_right()\n",
    "ax2.yaxis.set_label_position(\"right\")\n",
    "ax2.xaxis.set_label_position(\"top\")\n",
    "ax2.legend(bbox_to_anchor=(0.3,-0.5), loc=\"upper left\")\n",
    "plt.savefig('figures/irf_compare.jpg')\n",
    "plt.show()\n"
   ]
  },
  {
   "cell_type": "code",
   "execution_count": null,
   "id": "066d5102",
   "metadata": {},
   "outputs": [],
   "source": []
  }
 ],
 "metadata": {
  "kernelspec": {
   "display_name": "Python 3 (ipykernel)",
   "language": "python",
   "name": "python3"
  },
  "language_info": {
   "codemirror_mode": {
    "name": "ipython",
    "version": 3
   },
   "file_extension": ".py",
   "mimetype": "text/x-python",
   "name": "python",
   "nbconvert_exporter": "python",
   "pygments_lexer": "ipython3",
   "version": "3.9.10"
  }
 },
 "nbformat": 4,
 "nbformat_minor": 5
}
