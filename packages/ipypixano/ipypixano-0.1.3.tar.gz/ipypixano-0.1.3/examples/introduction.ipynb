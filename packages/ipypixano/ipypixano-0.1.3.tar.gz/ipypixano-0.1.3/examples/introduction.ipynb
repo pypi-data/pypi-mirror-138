{
 "cells": [
  {
   "cell_type": "code",
   "execution_count": 1,
   "metadata": {},
   "outputs": [],
   "source": [
    "import ipypixano\n",
    "import cv2\n",
    "from PIL import Image as pImage\n",
    "import ipywidgets\n",
    "from IPython.display import display\n",
    "\n",
    "def array2Image(arr):\n",
    "    return pImage.fromarray(arr)"
   ]
  },
  {
   "cell_type": "code",
   "execution_count": 2,
   "metadata": {},
   "outputs": [],
   "source": [
    "w = ipypixano.ipypixano(pixano_element='pxn-rectangle',image_path='loup.jpg',)\n",
    "w.current_category='titi'"
   ]
  },
  {
   "cell_type": "code",
   "execution_count": 18,
   "metadata": {},
   "outputs": [],
   "source": [
    "\n",
    "im=cv2.imread(\"./loup.jpg\")\n",
    "w.setImage(im)"
   ]
  },
  {
   "cell_type": "code",
   "execution_count": 3,
   "metadata": {},
   "outputs": [
    {
     "data": {
      "application/vnd.jupyter.widget-view+json": {
       "model_id": "9d3e436cf22c43b1b4b987e7d2201cc9",
       "version_major": 2,
       "version_minor": 0
      },
      "text/plain": [
       "ipypixano(value=None, current_category='titi', image_path='loup.jpg', shapes_in=[None])"
      ]
     },
     "metadata": {},
     "output_type": "display_data"
    }
   ],
   "source": [
    "w"
   ]
  },
  {
   "cell_type": "code",
   "execution_count": 11,
   "metadata": {},
   "outputs": [],
   "source": [
    "w.current_category='azer'"
   ]
  },
  {
   "cell_type": "code",
   "execution_count": 6,
   "metadata": {
    "scrolled": true
   },
   "outputs": [],
   "source": [
    "w.setShapes([{'id': 'e7jeco',\n",
    "  'color': 'red',\n",
    "  'geometry': {'vertices': [0.4838709677419355,\n",
    "    0.2175,\n",
    "    0.6048387096774194,\n",
    "    0.365],\n",
    "   'type': 'rectangle'},\n",
    "  'category': 'titi'},\n",
    " {'id': 'r43mz3',\n",
    "  'color': 'red',\n",
    "  'geometry': {'vertices': [0.1967741935483871,\n",
    "    0.395,\n",
    "    0.3258064516129032,\n",
    "    0.59],\n",
    "   'type': 'rectangle'},\n",
    "  'category': 'titi'}])"
   ]
  },
  {
   "cell_type": "code",
   "execution_count": 4,
   "metadata": {},
   "outputs": [
    {
     "data": {
      "text/plain": [
       "[{'id': 'z571ak',\n",
       "  'color': 'red',\n",
       "  'geometry': {'vertices': [0.532258064516129,\n",
       "    0.175,\n",
       "    0.6693548387096774,\n",
       "    0.3125],\n",
       "   'type': 'rectangle'},\n",
       "  'category': 'titi'},\n",
       " {'id': 'laxf3',\n",
       "  'color': 'red',\n",
       "  'geometry': {'vertices': [0.33064516129032256,\n",
       "    0.315,\n",
       "    0.4306451612903226,\n",
       "    0.4225],\n",
       "   'type': 'rectangle'},\n",
       "  'category': 'titi'},\n",
       " {'id': 'dh019j',\n",
       "  'color': 'red',\n",
       "  'geometry': {'vertices': [0.47580645161290325,\n",
       "    0.52,\n",
       "    0.6129032258064516,\n",
       "    0.66],\n",
       "   'type': 'rectangle'},\n",
       "  'category': 'titi'},\n",
       " {'id': '2wcedf',\n",
       "  'color': 'red',\n",
       "  'geometry': {'vertices': [0.6741935483870968,\n",
       "    0.4975,\n",
       "    0.7677419354838709,\n",
       "    0.63],\n",
       "   'type': 'rectangle'},\n",
       "  'category': 'titi'}]"
      ]
     },
     "execution_count": 4,
     "metadata": {},
     "output_type": "execute_result"
    }
   ],
   "source": [
    "w.shapes"
   ]
  },
  {
   "cell_type": "code",
   "execution_count": 8,
   "metadata": {},
   "outputs": [
    {
     "data": {
      "application/vnd.jupyter.widget-view+json": {
       "model_id": "dae60d58decd43059af78205256ca0ec",
       "version_major": 2,
       "version_minor": 0
      },
      "text/plain": [
       "VBox(children=(ipypixano(value=None, current_category='titi', image_path='loup.jpg', selectedShapeIds=['2wcedf…"
      ]
     },
     "metadata": {},
     "output_type": "display_data"
    }
   ],
   "source": [
    "\n",
    "selected=ipywidgets.Label(value=\"shape selected\")\n",
    "\n",
    "    \n",
    "def on_change_selected(change):\n",
    "    if len(change['new'])>0:\n",
    "        idseleted=change['new'][0]\n",
    "       \n",
    "        shapes=w.shapes\n",
    "        #print(shapes)\n",
    "        for s in shapes:\n",
    "            if s['id']==idseleted:\n",
    "                vertices=s[\"geometry\"][\"vertices\"] \n",
    "                vertices_str=\",\".join(list(map(lambda x:\"{:.2f}\".format(x),vertices)))\n",
    "                selected.value=\"Shape selected : \"+change['new'][0]+ \"\\nvertices :\\n\"+vertices_str\n",
    "                \n",
    "    else:\n",
    "        selected.value=\"Shape selected : None\"\n",
    "    \n",
    "w.observe(on_change_selected, names='selectedShapeIds')\n",
    "\n",
    "ipywidgets.VBox([w,selected])\n"
   ]
  },
  {
   "cell_type": "code",
   "execution_count": 8,
   "metadata": {},
   "outputs": [],
   "source": [
    "w.categories_colors={'dog':'green','azer':'gray','titi':'yellow'}"
   ]
  },
  {
   "cell_type": "code",
   "execution_count": 5,
   "metadata": {},
   "outputs": [],
   "source": [
    "w.clearShapes()"
   ]
  },
  {
   "cell_type": "code",
   "execution_count": 29,
   "metadata": {},
   "outputs": [],
   "source": []
  },
  {
   "cell_type": "code",
   "execution_count": 7,
   "metadata": {},
   "outputs": [
    {
     "ename": "AttributeError",
     "evalue": "'NoneType' object has no attribute '__array_interface__'",
     "output_type": "error",
     "traceback": [
      "\u001b[0;31m---------------------------------------------------------------------------\u001b[0m",
      "\u001b[0;31mAttributeError\u001b[0m                            Traceback (most recent call last)",
      "Input \u001b[0;32mIn [7]\u001b[0m, in \u001b[0;36m<module>\u001b[0;34m\u001b[0m\n\u001b[1;32m      1\u001b[0m img\u001b[38;5;241m=\u001b[39mw\u001b[38;5;241m.\u001b[39mgetMask()\n\u001b[0;32m----> 2\u001b[0m \u001b[43marray2Image\u001b[49m\u001b[43m(\u001b[49m\u001b[43mimg\u001b[49m\u001b[43m)\u001b[49m\n",
      "Input \u001b[0;32mIn [1]\u001b[0m, in \u001b[0;36marray2Image\u001b[0;34m(arr)\u001b[0m\n\u001b[1;32m      7\u001b[0m \u001b[38;5;28;01mdef\u001b[39;00m \u001b[38;5;21marray2Image\u001b[39m(arr):\n\u001b[0;32m----> 8\u001b[0m     \u001b[38;5;28;01mreturn\u001b[39;00m \u001b[43mpImage\u001b[49m\u001b[38;5;241;43m.\u001b[39;49m\u001b[43mfromarray\u001b[49m\u001b[43m(\u001b[49m\u001b[43marr\u001b[49m\u001b[43m)\u001b[49m\n",
      "File \u001b[0;32m~/anaconda3/envs/ipyemail/lib/python3.10/site-packages/PIL/Image.py:2803\u001b[0m, in \u001b[0;36mfromarray\u001b[0;34m(obj, mode)\u001b[0m\n\u001b[1;32m   2764\u001b[0m \u001b[38;5;28;01mdef\u001b[39;00m \u001b[38;5;21mfromarray\u001b[39m(obj, mode\u001b[38;5;241m=\u001b[39m\u001b[38;5;28;01mNone\u001b[39;00m):\n\u001b[1;32m   2765\u001b[0m     \u001b[38;5;124;03m\"\"\"\u001b[39;00m\n\u001b[1;32m   2766\u001b[0m \u001b[38;5;124;03m    Creates an image memory from an object exporting the array interface\u001b[39;00m\n\u001b[1;32m   2767\u001b[0m \u001b[38;5;124;03m    (using the buffer protocol).\u001b[39;00m\n\u001b[0;32m   (...)\u001b[0m\n\u001b[1;32m   2801\u001b[0m \u001b[38;5;124;03m    .. versionadded:: 1.1.6\u001b[39;00m\n\u001b[1;32m   2802\u001b[0m \u001b[38;5;124;03m    \"\"\"\u001b[39;00m\n\u001b[0;32m-> 2803\u001b[0m     arr \u001b[38;5;241m=\u001b[39m \u001b[43mobj\u001b[49m\u001b[38;5;241;43m.\u001b[39;49m\u001b[43m__array_interface__\u001b[49m\n\u001b[1;32m   2804\u001b[0m     shape \u001b[38;5;241m=\u001b[39m arr[\u001b[38;5;124m\"\u001b[39m\u001b[38;5;124mshape\u001b[39m\u001b[38;5;124m\"\u001b[39m]\n\u001b[1;32m   2805\u001b[0m     ndim \u001b[38;5;241m=\u001b[39m \u001b[38;5;28mlen\u001b[39m(shape)\n",
      "\u001b[0;31mAttributeError\u001b[0m: 'NoneType' object has no attribute '__array_interface__'"
     ]
    }
   ],
   "source": [
    "img=w.getMask()\n",
    "array2Image(img)"
   ]
  }
 ],
 "metadata": {
  "hide_input": false,
  "kernelspec": {
   "display_name": "ipyemail",
   "language": "python",
   "name": "ipyemail"
  },
  "language_info": {
   "codemirror_mode": {
    "name": "ipython",
    "version": 3
   },
   "file_extension": ".py",
   "mimetype": "text/x-python",
   "name": "python",
   "nbconvert_exporter": "python",
   "pygments_lexer": "ipython3",
   "version": "3.10.2"
  },
  "toc": {
   "base_numbering": 1,
   "nav_menu": {},
   "number_sections": true,
   "sideBar": true,
   "skip_h1_title": false,
   "title_cell": "Table of Contents",
   "title_sidebar": "Contents",
   "toc_cell": false,
   "toc_position": {},
   "toc_section_display": true,
   "toc_window_display": false
  },
  "varInspector": {
   "cols": {
    "lenName": 16,
    "lenType": 16,
    "lenVar": 40
   },
   "kernels_config": {
    "python": {
     "delete_cmd_postfix": "",
     "delete_cmd_prefix": "del ",
     "library": "var_list.py",
     "varRefreshCmd": "print(var_dic_list())"
    },
    "r": {
     "delete_cmd_postfix": ") ",
     "delete_cmd_prefix": "rm(",
     "library": "var_list.r",
     "varRefreshCmd": "cat(var_dic_list()) "
    }
   },
   "types_to_exclude": [
    "module",
    "function",
    "builtin_function_or_method",
    "instance",
    "_Feature"
   ],
   "window_display": false
  }
 },
 "nbformat": 4,
 "nbformat_minor": 2
}
