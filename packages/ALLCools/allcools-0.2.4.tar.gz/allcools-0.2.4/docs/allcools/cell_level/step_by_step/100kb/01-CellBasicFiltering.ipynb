{
 "cells": [
  {
   "cell_type": "markdown",
   "metadata": {},
   "source": [
    "# Cell Basic Filtering\n",
    "\n",
    "## Content\n",
    "The purpose of this step is to get rid of cells having **obvious** issues, including the cells with low mapping rate (potentially contaminated), low final reads (empty well or lost a large amount of DNA during library prep.), or abnormal methylation fractions (failed in bisulfite conversion or contaminated).\n",
    "\n",
    "We have two principles when applying these filters:\n",
    "1. **We set the cutoff based on the distribution of the whole dataset**, where we assume the input dataset is largely successful (mostly > 80-90% cells will pass QC). The cutoffs below are typical values we used in brain methylome analysis. Still, you may need to adjust cutoffs based on different data quality or sample source.\n",
    "2. **The cutoff is intended to be loose.** We do not use stringent cutoffs here to prevent potential data loss. Abormal cells may remain after basic filtering, and will likely be identified in the analysis based filtering (see later notebooks about doublet score and outliers in clustering)\n",
    "\n",
    "## Input\n",
    "- Cell metadata table that contains mapping metric for basic QC filtering.\n",
    "\n",
    "## Output\n",
    "- Filtered cell metadata table that contains only cells passed QC.\n",
    "\n",
    "## About Cell Mapping Metrics\n",
    "We usually gather many mapping metrics from each processing step, but not all of the metrics are relevant to the cell filtering. Below are the most relevant metrics that we use to filter cells. The name of these metrics might be different in your dataset. Change it according to the file you have.\n",
    "\n",
    "If you use [YAP](https://hq-1.gitbook.io/mc) to do mapping, you can find up-to-date mapping metrics documentation for [key metrics](https://hq-1.gitbook.io/mc/mapping-metrics/key-mapping-metrics) and [all metrics](https://hq-1.gitbook.io/mc/mapping-metrics/all-mapping-metrics) in YAP doc."
   ]
  },
  {
   "cell_type": "markdown",
   "metadata": {},
   "source": [
    "## Import"
   ]
  },
  {
   "cell_type": "code",
   "execution_count": 1,
   "metadata": {
    "ExecuteTime": {
     "end_time": "2021-08-29T04:38:47.578852Z",
     "start_time": "2021-08-29T04:38:47.189764Z"
    }
   },
   "outputs": [],
   "source": [
    "import pandas as pd\n",
    "import seaborn as sns"
   ]
  },
  {
   "cell_type": "code",
   "execution_count": 2,
   "metadata": {
    "ExecuteTime": {
     "end_time": "2021-08-29T04:38:47.582786Z",
     "start_time": "2021-08-29T04:38:47.580508Z"
    }
   },
   "outputs": [],
   "source": [
    "sns.set_context(context='notebook', font_scale=1.3)"
   ]
  },
  {
   "cell_type": "markdown",
   "metadata": {},
   "source": [
    "## Parameters"
   ]
  },
  {
   "cell_type": "code",
   "execution_count": 3,
   "metadata": {
    "ExecuteTime": {
     "end_time": "2021-08-29T04:38:47.586961Z",
     "start_time": "2021-08-29T04:38:47.584350Z"
    },
    "tags": [
     "parameters"
    ]
   },
   "outputs": [],
   "source": [
    "# change this to the path to your metadata\n",
    "metadata_path = '../../../data/Brain/snmC-seq2/HIP.CellMetadata.csv.gz'\n",
    "\n",
    "# Basic filtering parameters\n",
    "mapping_rate_cutoff = 0.5\n",
    "mapping_rate_col_name = 'MappingRate'  # Name may change\n",
    "final_reads_cutoff = 500000\n",
    "final_reads_col_name = 'FinalReads'  # Name may change\n",
    "mccc_cutoff = 0.03\n",
    "mccc_col_name = 'mCCCFrac'  # Name may change\n",
    "mch_cutoff = 0.2\n",
    "mch_col_name = 'mCHFrac'  # Name may change\n",
    "mcg_cutoff = 0.5\n",
    "mcg_col_name = 'mCGFrac'  # Name may change"
   ]
  },
  {
   "cell_type": "markdown",
   "metadata": {},
   "source": [
    "## Load metadata"
   ]
  },
  {
   "cell_type": "code",
   "execution_count": 4,
   "metadata": {
    "ExecuteTime": {
     "end_time": "2021-08-29T04:38:47.708188Z",
     "start_time": "2021-08-29T04:38:47.588212Z"
    }
   },
   "outputs": [
    {
     "name": "stdout",
     "output_type": "stream",
     "text": [
      "Metadata of 16985 cells\n"
     ]
    }
   ],
   "source": [
    "metadata = pd.read_csv(metadata_path, index_col=0)\n",
    "total_cells = metadata.shape[0]\n",
    "print(f'Metadata of {total_cells} cells')"
   ]
  },
  {
   "cell_type": "code",
   "execution_count": 5,
   "metadata": {
    "ExecuteTime": {
     "end_time": "2021-08-29T04:38:47.725934Z",
     "start_time": "2021-08-29T04:38:47.709633Z"
    }
   },
   "outputs": [
    {
     "data": {
      "text/html": [
       "<div>\n",
       "<style scoped>\n",
       "    .dataframe tbody tr th:only-of-type {\n",
       "        vertical-align: middle;\n",
       "    }\n",
       "\n",
       "    .dataframe tbody tr th {\n",
       "        vertical-align: top;\n",
       "    }\n",
       "\n",
       "    .dataframe thead th {\n",
       "        text-align: right;\n",
       "    }\n",
       "</style>\n",
       "<table border=\"1\" class=\"dataframe\">\n",
       "  <thead>\n",
       "    <tr style=\"text-align: right;\">\n",
       "      <th></th>\n",
       "      <th>AllcPath</th>\n",
       "      <th>mCCCFrac</th>\n",
       "      <th>mCGFrac</th>\n",
       "      <th>mCGFracAdj</th>\n",
       "      <th>mCHFrac</th>\n",
       "      <th>mCHFracAdj</th>\n",
       "      <th>FinalReads</th>\n",
       "      <th>InputReads</th>\n",
       "      <th>MappedReads</th>\n",
       "      <th>DissectionRegion</th>\n",
       "      <th>BamFilteringRate</th>\n",
       "      <th>MappingRate</th>\n",
       "      <th>Plate</th>\n",
       "      <th>Col384</th>\n",
       "      <th>Row384</th>\n",
       "      <th>FANSDate</th>\n",
       "      <th>Slice</th>\n",
       "      <th>Sample</th>\n",
       "    </tr>\n",
       "  </thead>\n",
       "  <tbody>\n",
       "    <tr>\n",
       "      <th>10E_M_0</th>\n",
       "      <td>/gale/raidix/rdx-4/mapping/10E/CEMBA190625-10E...</td>\n",
       "      <td>0.008198</td>\n",
       "      <td>0.822633</td>\n",
       "      <td>0.821166</td>\n",
       "      <td>0.041640</td>\n",
       "      <td>0.033718</td>\n",
       "      <td>1626504.0</td>\n",
       "      <td>4407752</td>\n",
       "      <td>2892347.0</td>\n",
       "      <td>10E</td>\n",
       "      <td>0.562347</td>\n",
       "      <td>0.656195</td>\n",
       "      <td>CEMBA190625-10E-1</td>\n",
       "      <td>0</td>\n",
       "      <td>0</td>\n",
       "      <td>190625</td>\n",
       "      <td>10</td>\n",
       "      <td>10E_190625</td>\n",
       "    </tr>\n",
       "    <tr>\n",
       "      <th>10E_M_1</th>\n",
       "      <td>/gale/raidix/rdx-4/mapping/10E/CEMBA190625-10E...</td>\n",
       "      <td>0.006019</td>\n",
       "      <td>0.743035</td>\n",
       "      <td>0.741479</td>\n",
       "      <td>0.024127</td>\n",
       "      <td>0.018218</td>\n",
       "      <td>2009998.0</td>\n",
       "      <td>5524084</td>\n",
       "      <td>3657352.0</td>\n",
       "      <td>10E</td>\n",
       "      <td>0.549577</td>\n",
       "      <td>0.662074</td>\n",
       "      <td>CEMBA190625-10E-1</td>\n",
       "      <td>0</td>\n",
       "      <td>1</td>\n",
       "      <td>190625</td>\n",
       "      <td>10</td>\n",
       "      <td>10E_190625</td>\n",
       "    </tr>\n",
       "    <tr>\n",
       "      <th>10E_M_10</th>\n",
       "      <td>/gale/raidix/rdx-4/mapping/10E/CEMBA190625-10E...</td>\n",
       "      <td>0.006569</td>\n",
       "      <td>0.750172</td>\n",
       "      <td>0.748520</td>\n",
       "      <td>0.027665</td>\n",
       "      <td>0.021235</td>\n",
       "      <td>1383636.0</td>\n",
       "      <td>3455260</td>\n",
       "      <td>2172987.0</td>\n",
       "      <td>10E</td>\n",
       "      <td>0.636744</td>\n",
       "      <td>0.628892</td>\n",
       "      <td>CEMBA190625-10E-1</td>\n",
       "      <td>19</td>\n",
       "      <td>0</td>\n",
       "      <td>190625</td>\n",
       "      <td>10</td>\n",
       "      <td>10E_190625</td>\n",
       "    </tr>\n",
       "    <tr>\n",
       "      <th>10E_M_101</th>\n",
       "      <td>/gale/raidix/rdx-4/mapping/10E/CEMBA190625-10E...</td>\n",
       "      <td>0.006353</td>\n",
       "      <td>0.760898</td>\n",
       "      <td>0.759369</td>\n",
       "      <td>0.026547</td>\n",
       "      <td>0.020323</td>\n",
       "      <td>2474670.0</td>\n",
       "      <td>7245482</td>\n",
       "      <td>4778768.0</td>\n",
       "      <td>10E</td>\n",
       "      <td>0.517847</td>\n",
       "      <td>0.659551</td>\n",
       "      <td>CEMBA190625-10E-1</td>\n",
       "      <td>18</td>\n",
       "      <td>3</td>\n",
       "      <td>190625</td>\n",
       "      <td>10</td>\n",
       "      <td>10E_190625</td>\n",
       "    </tr>\n",
       "    <tr>\n",
       "      <th>10E_M_102</th>\n",
       "      <td>/gale/raidix/rdx-4/mapping/10E/CEMBA190625-10E...</td>\n",
       "      <td>0.005409</td>\n",
       "      <td>0.752980</td>\n",
       "      <td>0.751637</td>\n",
       "      <td>0.019497</td>\n",
       "      <td>0.014164</td>\n",
       "      <td>2430290.0</td>\n",
       "      <td>7004754</td>\n",
       "      <td>4609570.0</td>\n",
       "      <td>10E</td>\n",
       "      <td>0.527227</td>\n",
       "      <td>0.658063</td>\n",
       "      <td>CEMBA190625-10E-1</td>\n",
       "      <td>19</td>\n",
       "      <td>2</td>\n",
       "      <td>190625</td>\n",
       "      <td>10</td>\n",
       "      <td>10E_190625</td>\n",
       "    </tr>\n",
       "  </tbody>\n",
       "</table>\n",
       "</div>"
      ],
      "text/plain": [
       "                                                    AllcPath  mCCCFrac  \\\n",
       "10E_M_0    /gale/raidix/rdx-4/mapping/10E/CEMBA190625-10E...  0.008198   \n",
       "10E_M_1    /gale/raidix/rdx-4/mapping/10E/CEMBA190625-10E...  0.006019   \n",
       "10E_M_10   /gale/raidix/rdx-4/mapping/10E/CEMBA190625-10E...  0.006569   \n",
       "10E_M_101  /gale/raidix/rdx-4/mapping/10E/CEMBA190625-10E...  0.006353   \n",
       "10E_M_102  /gale/raidix/rdx-4/mapping/10E/CEMBA190625-10E...  0.005409   \n",
       "\n",
       "            mCGFrac  mCGFracAdj   mCHFrac  mCHFracAdj  FinalReads  InputReads  \\\n",
       "10E_M_0    0.822633    0.821166  0.041640    0.033718   1626504.0     4407752   \n",
       "10E_M_1    0.743035    0.741479  0.024127    0.018218   2009998.0     5524084   \n",
       "10E_M_10   0.750172    0.748520  0.027665    0.021235   1383636.0     3455260   \n",
       "10E_M_101  0.760898    0.759369  0.026547    0.020323   2474670.0     7245482   \n",
       "10E_M_102  0.752980    0.751637  0.019497    0.014164   2430290.0     7004754   \n",
       "\n",
       "           MappedReads DissectionRegion  BamFilteringRate  MappingRate  \\\n",
       "10E_M_0      2892347.0              10E          0.562347     0.656195   \n",
       "10E_M_1      3657352.0              10E          0.549577     0.662074   \n",
       "10E_M_10     2172987.0              10E          0.636744     0.628892   \n",
       "10E_M_101    4778768.0              10E          0.517847     0.659551   \n",
       "10E_M_102    4609570.0              10E          0.527227     0.658063   \n",
       "\n",
       "                       Plate  Col384  Row384  FANSDate  Slice      Sample  \n",
       "10E_M_0    CEMBA190625-10E-1       0       0    190625     10  10E_190625  \n",
       "10E_M_1    CEMBA190625-10E-1       0       1    190625     10  10E_190625  \n",
       "10E_M_10   CEMBA190625-10E-1      19       0    190625     10  10E_190625  \n",
       "10E_M_101  CEMBA190625-10E-1      18       3    190625     10  10E_190625  \n",
       "10E_M_102  CEMBA190625-10E-1      19       2    190625     10  10E_190625  "
      ]
     },
     "execution_count": 5,
     "metadata": {},
     "output_type": "execute_result"
    }
   ],
   "source": [
    "metadata.head()"
   ]
  },
  {
   "cell_type": "markdown",
   "metadata": {},
   "source": [
    "## Filter by key mapping metrics"
   ]
  },
  {
   "cell_type": "markdown",
   "metadata": {},
   "source": [
    "### Bismark Mapping Rate\n",
    "\n",
    "- Low mapping rate indicates potential contamination.\n",
    "- Usually R1 mapping rate is 8-10% higher than R2 mapping rate for snmC based technologies, but they should be highly correlated. Here I am using the combined mapping rate. If you are using the R1MappingRate or R2MappingRate, change the cutoff accordingly.\n",
    "- Usually there is a peak on the left, which corresponding to the empty wells."
   ]
  },
  {
   "cell_type": "code",
   "execution_count": 6,
   "metadata": {
    "ExecuteTime": {
     "end_time": "2021-08-29T04:38:48.584275Z",
     "start_time": "2021-08-29T04:38:47.727211Z"
    }
   },
   "outputs": [
    {
     "name": "stdout",
     "output_type": "stream",
     "text": [
      "16985 / 16985 cells (100.0%) passed the MappingRate cutoff 0.5.\n"
     ]
    },
    {
     "data": {
      "image/png": "[encoded data removed]",
      "text/plain": [
       "<Figure size 360x360 with 1 Axes>"
      ]
     },
     "metadata": {
      "needs_background": "light"
     },
     "output_type": "display_data"
    }
   ],
   "source": [
    "_cutoff = mapping_rate_cutoff\n",
    "_col_name = mapping_rate_col_name\n",
    "\n",
    "# plot distribution to make sure cutoff is appropriate\n",
    "g = sns.displot(metadata[_col_name], binrange=(0, 1))\n",
    "g.ax.plot((_cutoff, _cutoff), g.ax.get_ylim(), c='r', linestyle='--')\n",
    "\n",
    "mapping_rate_judge = metadata[_col_name] > _cutoff\n",
    "_passed_cells = mapping_rate_judge.sum()\n",
    "print(\n",
    "    f'{_passed_cells} / {total_cells} cells ({_passed_cells / total_cells * 100:.1f}%) '\n",
    "    f'passed the {_col_name} cutoff {_cutoff}.')"
   ]
  },
  {
   "cell_type": "markdown",
   "metadata": {},
   "source": [
    "### Final Reads\n",
    "\n",
    "- The cutoff may change depending on how deep the library has been sequenced.\n",
    "- Usually there is a peak on the left, which corresponding to the empty wells.\n",
    "- There are also some cells having small number of reads, these wells may lost most of the DNA during library prep. Cells having too less reads can be hard to classify, since the methylome sequencing is an untargeted whole-genome sequencing."
   ]
  },
  {
   "cell_type": "code",
   "execution_count": 7,
   "metadata": {
    "ExecuteTime": {
     "end_time": "2021-08-29T04:38:48.905792Z",
     "start_time": "2021-08-29T04:38:48.586501Z"
    }
   },
   "outputs": [
    {
     "name": "stdout",
     "output_type": "stream",
     "text": [
      "16985 / 16985 cells (100.0%) passed the FinalReads cutoff 500000.\n"
     ]
    },
    {
     "data": {
      "image/png": "[encoded data removed]",
      "text/plain": [
       "<Figure size 360x360 with 1 Axes>"
      ]
     },
     "metadata": {
      "needs_background": "light"
     },
     "output_type": "display_data"
    }
   ],
   "source": [
    "_cutoff = final_reads_cutoff\n",
    "_col_name = final_reads_col_name\n",
    "\n",
    "# plot distribution to make sure cutoff is appropriate\n",
    "g = sns.displot(metadata[_col_name], binrange=(0, 5e6))\n",
    "g.ax.plot((_cutoff, _cutoff), g.ax.get_ylim(), c='r', linestyle='--')\n",
    "\n",
    "final_reads_judge = metadata[_col_name] > _cutoff\n",
    "_passed_cells = final_reads_judge.sum()\n",
    "print(\n",
    "    f'{_passed_cells} / {total_cells} cells ({_passed_cells / total_cells * 100:.1f}%) '\n",
    "    f'passed the {_col_name} cutoff {_cutoff}.')"
   ]
  },
  {
   "cell_type": "markdown",
   "metadata": {
    "ExecuteTime": {
     "end_time": "2020-11-20T06:02:55.688824Z",
     "start_time": "2020-11-20T06:02:55.685441Z"
    }
   },
   "source": [
    "### mCCC / CCC\n",
    "\n",
    "- The mCCC fraction is used as the proxy of the upper bound of the non-conversion rate for cell-level QC. The methylation level at CCC sites is the lowest among all of the different 3 base-contexts (CNN), and, in fact, it is very close to the unmethylated lambda mC fraction.\n",
    "- However, mCCC fraction is correlated with mCH (especially in brain data), so you can see a similar shape of distribution of mCCC and mCH, but the range is different."
   ]
  },
  {
   "cell_type": "code",
   "execution_count": 8,
   "metadata": {
    "ExecuteTime": {
     "end_time": "2021-08-29T04:38:49.795350Z",
     "start_time": "2021-08-29T04:38:48.907280Z"
    }
   },
   "outputs": [
    {
     "name": "stdout",
     "output_type": "stream",
     "text": [
      "16985 / 16985 cells (100.0%) passed the mCCCFrac cutoff 0.03.\n"
     ]
    },
    {
     "data": {
      "image/png": "[encoded data removed]",
      "text/plain": [
       "<Figure size 360x360 with 1 Axes>"
      ]
     },
     "metadata": {
      "needs_background": "light"
     },
     "output_type": "display_data"
    }
   ],
   "source": [
    "_cutoff = mccc_cutoff\n",
    "_col_name = mccc_col_name\n",
    "\n",
    "# plot distribution to make sure cutoff is appropriate\n",
    "g = sns.displot(metadata[_col_name], binrange=(0, 0.05))\n",
    "g.ax.plot((_cutoff, _cutoff), g.ax.get_ylim(), c='r', linestyle='--')\n",
    "\n",
    "mccc_judge = metadata[_col_name] < _cutoff\n",
    "_passed_cells = mccc_judge.sum()\n",
    "print(\n",
    "    f'{_passed_cells} / {total_cells} cells ({_passed_cells / total_cells * 100:.1f}%) '\n",
    "    f'passed the {_col_name} cutoff {_cutoff}.')"
   ]
  },
  {
   "cell_type": "markdown",
   "metadata": {},
   "source": [
    "### mCH / CH\n",
    "\n",
    "- Usually failed cells (empty well or contaminated) tend to have abormal methylation level as well."
   ]
  },
  {
   "cell_type": "code",
   "execution_count": 9,
   "metadata": {
    "ExecuteTime": {
     "end_time": "2021-08-29T04:38:50.427394Z",
     "start_time": "2021-08-29T04:38:49.796968Z"
    }
   },
   "outputs": [
    {
     "name": "stdout",
     "output_type": "stream",
     "text": [
      "16985 / 16985 cells (100.0%) passed the mCHFrac cutoff 0.2.\n"
     ]
    },
    {
     "data": {
      "image/png": "[encoded data removed]",
      "text/plain": [
       "<Figure size 360x360 with 1 Axes>"
      ]
     },
     "metadata": {
      "needs_background": "light"
     },
     "output_type": "display_data"
    }
   ],
   "source": [
    "_cutoff = mch_cutoff\n",
    "_col_name = mch_col_name\n",
    "\n",
    "# plot distribution to make sure cutoff is appropriate\n",
    "g = sns.displot(metadata[_col_name], binrange=(0, 0.3))\n",
    "g.ax.plot((_cutoff, _cutoff), g.ax.get_ylim(), c='r', linestyle='--')\n",
    "\n",
    "mch_judge = metadata[_col_name] < _cutoff\n",
    "_passed_cells = mch_judge.sum()\n",
    "print(\n",
    "    f'{_passed_cells} / {total_cells} cells ({_passed_cells / total_cells * 100:.1f}%) '\n",
    "    f'passed the {_col_name} cutoff {_cutoff}.')"
   ]
  },
  {
   "cell_type": "markdown",
   "metadata": {
    "ExecuteTime": {
     "end_time": "2020-11-20T06:03:55.014141Z",
     "start_time": "2020-11-20T06:03:55.011844Z"
    }
   },
   "source": [
    "### mCG\n",
    "\n",
    "- Usually failed cells (empty well or contaminated) tend to have abormal methylation level as well."
   ]
  },
  {
   "cell_type": "code",
   "execution_count": 10,
   "metadata": {
    "ExecuteTime": {
     "end_time": "2021-08-29T04:38:51.030124Z",
     "start_time": "2021-08-29T04:38:50.428933Z"
    },
    "scrolled": false
   },
   "outputs": [
    {
     "name": "stdout",
     "output_type": "stream",
     "text": [
      "16985 / 16985 cells (100.0%) passed the mCGFrac cutoff 0.5.\n"
     ]
    },
    {
     "data": {
      "image/png": "[encoded data removed]",
      "text/plain": [
       "<Figure size 360x360 with 1 Axes>"
      ]
     },
     "metadata": {
      "needs_background": "light"
     },
     "output_type": "display_data"
    }
   ],
   "source": [
    "_cutoff = mcg_cutoff\n",
    "_col_name = mcg_col_name\n",
    "\n",
    "# plot distribution to make sure cutoff is appropriate\n",
    "g = sns.displot(metadata[_col_name], binrange=(0.3, 1))\n",
    "g.ax.plot((_cutoff, _cutoff), g.ax.get_ylim(), c='r', linestyle='--')\n",
    "\n",
    "mcg_judge = metadata[_col_name] > _cutoff\n",
    "_passed_cells = mcg_judge.sum()\n",
    "print(\n",
    "    f'{_passed_cells} / {total_cells} cells ({_passed_cells / total_cells * 100:.1f}%) '\n",
    "    f'passed the {_col_name} cutoff {_cutoff}.')"
   ]
  },
  {
   "cell_type": "markdown",
   "metadata": {},
   "source": [
    "## Combine filters"
   ]
  },
  {
   "cell_type": "code",
   "execution_count": 11,
   "metadata": {
    "ExecuteTime": {
     "end_time": "2021-08-29T04:38:51.035689Z",
     "start_time": "2021-08-29T04:38:51.031574Z"
    }
   },
   "outputs": [
    {
     "name": "stdout",
     "output_type": "stream",
     "text": [
      "16985 / 16985 cells (100.0%) passed all the filters.\n"
     ]
    }
   ],
   "source": [
    "judge = mapping_rate_judge & final_reads_judge & mccc_judge & mch_judge & mcg_judge\n",
    "passed_cells = judge.sum()\n",
    "print(\n",
    "    f'{passed_cells} / {total_cells} cells ({passed_cells / total_cells * 100:.1f}%) '\n",
    "    f'passed all the filters.')"
   ]
  },
  {
   "cell_type": "markdown",
   "metadata": {},
   "source": [
    "## Sanity Test"
   ]
  },
  {
   "cell_type": "code",
   "execution_count": 12,
   "metadata": {
    "ExecuteTime": {
     "end_time": "2021-08-29T04:38:51.040456Z",
     "start_time": "2021-08-29T04:38:51.036875Z"
    }
   },
   "outputs": [
    {
     "name": "stdout",
     "output_type": "stream",
     "text": [
      "Feel good\n"
     ]
    }
   ],
   "source": [
    "try:\n",
    "    assert (passed_cells / total_cells) > 0.6\n",
    "except AssertionError as e:\n",
    "    e.args += (\n",
    "        'A large amount of the cells do not pass filter, check your cutoffs or overall dataset quality.',\n",
    "    )\n",
    "    raise e\n",
    "\n",
    "try:\n",
    "    assert passed_cells > 0\n",
    "except AssertionError as e:\n",
    "    e.args += ('No cell remained after all the filters.', )\n",
    "    raise e\n",
    "\n",
    "print('Feel good')"
   ]
  },
  {
   "cell_type": "markdown",
   "metadata": {},
   "source": [
    "## Save filtered metadata"
   ]
  },
  {
   "cell_type": "code",
   "execution_count": 13,
   "metadata": {
    "ExecuteTime": {
     "end_time": "2021-08-29T04:38:51.760421Z",
     "start_time": "2021-08-29T04:38:51.041849Z"
    }
   },
   "outputs": [],
   "source": [
    "metadata_filtered = metadata[judge].copy()\n",
    "\n",
    "metadata_filtered.to_csv('CellMetadata.PassQC.csv.gz')"
   ]
  },
  {
   "cell_type": "code",
   "execution_count": 14,
   "metadata": {
    "ExecuteTime": {
     "end_time": "2021-08-29T04:38:51.775420Z",
     "start_time": "2021-08-29T04:38:51.761882Z"
    }
   },
   "outputs": [
    {
     "data": {
      "text/html": [
       "<div>\n",
       "<style scoped>\n",
       "    .dataframe tbody tr th:only-of-type {\n",
       "        vertical-align: middle;\n",
       "    }\n",
       "\n",
       "    .dataframe tbody tr th {\n",
       "        vertical-align: top;\n",
       "    }\n",
       "\n",
       "    .dataframe thead th {\n",
       "        text-align: right;\n",
       "    }\n",
       "</style>\n",
       "<table border=\"1\" class=\"dataframe\">\n",
       "  <thead>\n",
       "    <tr style=\"text-align: right;\">\n",
       "      <th></th>\n",
       "      <th>AllcPath</th>\n",
       "      <th>mCCCFrac</th>\n",
       "      <th>mCGFrac</th>\n",
       "      <th>mCGFracAdj</th>\n",
       "      <th>mCHFrac</th>\n",
       "      <th>mCHFracAdj</th>\n",
       "      <th>FinalReads</th>\n",
       "      <th>InputReads</th>\n",
       "      <th>MappedReads</th>\n",
       "      <th>DissectionRegion</th>\n",
       "      <th>BamFilteringRate</th>\n",
       "      <th>MappingRate</th>\n",
       "      <th>Plate</th>\n",
       "      <th>Col384</th>\n",
       "      <th>Row384</th>\n",
       "      <th>FANSDate</th>\n",
       "      <th>Slice</th>\n",
       "      <th>Sample</th>\n",
       "    </tr>\n",
       "  </thead>\n",
       "  <tbody>\n",
       "    <tr>\n",
       "      <th>10E_M_0</th>\n",
       "      <td>/gale/raidix/rdx-4/mapping/10E/CEMBA190625-10E...</td>\n",
       "      <td>0.008198</td>\n",
       "      <td>0.822633</td>\n",
       "      <td>0.821166</td>\n",
       "      <td>0.041640</td>\n",
       "      <td>0.033718</td>\n",
       "      <td>1626504.0</td>\n",
       "      <td>4407752</td>\n",
       "      <td>2892347.0</td>\n",
       "      <td>10E</td>\n",
       "      <td>0.562347</td>\n",
       "      <td>0.656195</td>\n",
       "      <td>CEMBA190625-10E-1</td>\n",
       "      <td>0</td>\n",
       "      <td>0</td>\n",
       "      <td>190625</td>\n",
       "      <td>10</td>\n",
       "      <td>10E_190625</td>\n",
       "    </tr>\n",
       "    <tr>\n",
       "      <th>10E_M_1</th>\n",
       "      <td>/gale/raidix/rdx-4/mapping/10E/CEMBA190625-10E...</td>\n",
       "      <td>0.006019</td>\n",
       "      <td>0.743035</td>\n",
       "      <td>0.741479</td>\n",
       "      <td>0.024127</td>\n",
       "      <td>0.018218</td>\n",
       "      <td>2009998.0</td>\n",
       "      <td>5524084</td>\n",
       "      <td>3657352.0</td>\n",
       "      <td>10E</td>\n",
       "      <td>0.549577</td>\n",
       "      <td>0.662074</td>\n",
       "      <td>CEMBA190625-10E-1</td>\n",
       "      <td>0</td>\n",
       "      <td>1</td>\n",
       "      <td>190625</td>\n",
       "      <td>10</td>\n",
       "      <td>10E_190625</td>\n",
       "    </tr>\n",
       "    <tr>\n",
       "      <th>10E_M_10</th>\n",
       "      <td>/gale/raidix/rdx-4/mapping/10E/CEMBA190625-10E...</td>\n",
       "      <td>0.006569</td>\n",
       "      <td>0.750172</td>\n",
       "      <td>0.748520</td>\n",
       "      <td>0.027665</td>\n",
       "      <td>0.021235</td>\n",
       "      <td>1383636.0</td>\n",
       "      <td>3455260</td>\n",
       "      <td>2172987.0</td>\n",
       "      <td>10E</td>\n",
       "      <td>0.636744</td>\n",
       "      <td>0.628892</td>\n",
       "      <td>CEMBA190625-10E-1</td>\n",
       "      <td>19</td>\n",
       "      <td>0</td>\n",
       "      <td>190625</td>\n",
       "      <td>10</td>\n",
       "      <td>10E_190625</td>\n",
       "    </tr>\n",
       "    <tr>\n",
       "      <th>10E_M_101</th>\n",
       "      <td>/gale/raidix/rdx-4/mapping/10E/CEMBA190625-10E...</td>\n",
       "      <td>0.006353</td>\n",
       "      <td>0.760898</td>\n",
       "      <td>0.759369</td>\n",
       "      <td>0.026547</td>\n",
       "      <td>0.020323</td>\n",
       "      <td>2474670.0</td>\n",
       "      <td>7245482</td>\n",
       "      <td>4778768.0</td>\n",
       "      <td>10E</td>\n",
       "      <td>0.517847</td>\n",
       "      <td>0.659551</td>\n",
       "      <td>CEMBA190625-10E-1</td>\n",
       "      <td>18</td>\n",
       "      <td>3</td>\n",
       "      <td>190625</td>\n",
       "      <td>10</td>\n",
       "      <td>10E_190625</td>\n",
       "    </tr>\n",
       "    <tr>\n",
       "      <th>10E_M_102</th>\n",
       "      <td>/gale/raidix/rdx-4/mapping/10E/CEMBA190625-10E...</td>\n",
       "      <td>0.005409</td>\n",
       "      <td>0.752980</td>\n",
       "      <td>0.751637</td>\n",
       "      <td>0.019497</td>\n",
       "      <td>0.014164</td>\n",
       "      <td>2430290.0</td>\n",
       "      <td>7004754</td>\n",
       "      <td>4609570.0</td>\n",
       "      <td>10E</td>\n",
       "      <td>0.527227</td>\n",
       "      <td>0.658063</td>\n",
       "      <td>CEMBA190625-10E-1</td>\n",
       "      <td>19</td>\n",
       "      <td>2</td>\n",
       "      <td>190625</td>\n",
       "      <td>10</td>\n",
       "      <td>10E_190625</td>\n",
       "    </tr>\n",
       "  </tbody>\n",
       "</table>\n",
       "</div>"
      ],
      "text/plain": [
       "                                                    AllcPath  mCCCFrac  \\\n",
       "10E_M_0    /gale/raidix/rdx-4/mapping/10E/CEMBA190625-10E...  0.008198   \n",
       "10E_M_1    /gale/raidix/rdx-4/mapping/10E/CEMBA190625-10E...  0.006019   \n",
       "10E_M_10   /gale/raidix/rdx-4/mapping/10E/CEMBA190625-10E...  0.006569   \n",
       "10E_M_101  /gale/raidix/rdx-4/mapping/10E/CEMBA190625-10E...  0.006353   \n",
       "10E_M_102  /gale/raidix/rdx-4/mapping/10E/CEMBA190625-10E...  0.005409   \n",
       "\n",
       "            mCGFrac  mCGFracAdj   mCHFrac  mCHFracAdj  FinalReads  InputReads  \\\n",
       "10E_M_0    0.822633    0.821166  0.041640    0.033718   1626504.0     4407752   \n",
       "10E_M_1    0.743035    0.741479  0.024127    0.018218   2009998.0     5524084   \n",
       "10E_M_10   0.750172    0.748520  0.027665    0.021235   1383636.0     3455260   \n",
       "10E_M_101  0.760898    0.759369  0.026547    0.020323   2474670.0     7245482   \n",
       "10E_M_102  0.752980    0.751637  0.019497    0.014164   2430290.0     7004754   \n",
       "\n",
       "           MappedReads DissectionRegion  BamFilteringRate  MappingRate  \\\n",
       "10E_M_0      2892347.0              10E          0.562347     0.656195   \n",
       "10E_M_1      3657352.0              10E          0.549577     0.662074   \n",
       "10E_M_10     2172987.0              10E          0.636744     0.628892   \n",
       "10E_M_101    4778768.0              10E          0.517847     0.659551   \n",
       "10E_M_102    4609570.0              10E          0.527227     0.658063   \n",
       "\n",
       "                       Plate  Col384  Row384  FANSDate  Slice      Sample  \n",
       "10E_M_0    CEMBA190625-10E-1       0       0    190625     10  10E_190625  \n",
       "10E_M_1    CEMBA190625-10E-1       0       1    190625     10  10E_190625  \n",
       "10E_M_10   CEMBA190625-10E-1      19       0    190625     10  10E_190625  \n",
       "10E_M_101  CEMBA190625-10E-1      18       3    190625     10  10E_190625  \n",
       "10E_M_102  CEMBA190625-10E-1      19       2    190625     10  10E_190625  "
      ]
     },
     "execution_count": 14,
     "metadata": {},
     "output_type": "execute_result"
    }
   ],
   "source": [
    "metadata_filtered.head()"
   ]
  },
  {
   "cell_type": "code",
   "execution_count": null,
   "metadata": {},
   "outputs": [],
   "source": []
  }
 ],
 "metadata": {
  "hide_input": false,
  "kernelspec": {
   "display_name": "Python 3",
   "language": "python",
   "name": "python3"
  },
  "language_info": {
   "codemirror_mode": {
    "name": "ipython",
    "version": 3
   },
   "file_extension": ".py",
   "mimetype": "text/x-python",
   "name": "python",
   "nbconvert_exporter": "python",
   "pygments_lexer": "ipython3",
   "version": "3.8.6"
  },
  "toc": {
   "base_numbering": 1,
   "nav_menu": {},
   "number_sections": true,
   "sideBar": true,
   "skip_h1_title": true,
   "title_cell": "Table of Contents",
   "title_sidebar": "Contents",
   "toc_cell": false,
   "toc_position": {},
   "toc_section_display": true,
   "toc_window_display": true
  }
 },
 "nbformat": 4,
 "nbformat_minor": 4
}
