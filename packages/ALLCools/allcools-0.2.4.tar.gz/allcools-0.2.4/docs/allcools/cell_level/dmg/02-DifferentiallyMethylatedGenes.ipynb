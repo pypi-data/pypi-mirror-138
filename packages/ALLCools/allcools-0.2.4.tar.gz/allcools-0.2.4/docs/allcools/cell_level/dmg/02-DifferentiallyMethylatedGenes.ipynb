{
 "cells": [
  {
   "cell_type": "markdown",
   "metadata": {},
   "source": [
    "# Cluster Differentially Methylated Genes"
   ]
  },
  {
   "cell_type": "markdown",
   "metadata": {},
   "source": [
    "## Load"
   ]
  },
  {
   "cell_type": "code",
   "execution_count": 1,
   "metadata": {
    "ExecuteTime": {
     "end_time": "2021-10-04T07:49:30.354408Z",
     "start_time": "2021-10-04T07:49:19.440185Z"
    }
   },
   "outputs": [],
   "source": [
    "import pandas as pd\n",
    "import anndata\n",
    "import scanpy as sc\n",
    "from ALLCools.mcds import MCDS\n",
    "from ALLCools.clustering import one_vs_rest_dmg"
   ]
  },
  {
   "cell_type": "markdown",
   "metadata": {},
   "source": [
    "## Parameters"
   ]
  },
  {
   "cell_type": "code",
   "execution_count": 2,
   "metadata": {
    "ExecuteTime": {
     "end_time": "2021-10-04T07:49:30.359149Z",
     "start_time": "2021-10-04T07:49:30.356278Z"
    }
   },
   "outputs": [],
   "source": [
    "mcds_paths = f'gene_frac/*_da_frac.mcds'\n",
    "cell_meta_path = '../step_by_step/100kb/L1.ClusteringResults.csv.gz'\n",
    "cluster_col = 'L1'\n",
    "\n",
    "obs_dim = 'cell'\n",
    "var_dim = 'gene'\n",
    "mc_type = 'CHN'\n",
    "\n",
    "top_n = 1000\n",
    "auroc_cutoff = 0.8\n",
    "adj_p_cutoff = 0.001\n",
    "fc_cutoff = 0.8\n",
    "max_cluster_cells = 2000\n",
    "max_other_fold = 5\n",
    "cpu = 10"
   ]
  },
  {
   "cell_type": "markdown",
   "metadata": {},
   "source": [
    "## Load"
   ]
  },
  {
   "cell_type": "code",
   "execution_count": 3,
   "metadata": {
    "ExecuteTime": {
     "end_time": "2021-10-04T07:49:30.513003Z",
     "start_time": "2021-10-04T07:49:30.360639Z"
    }
   },
   "outputs": [
    {
     "data": {
      "text/html": [
       "<div>\n",
       "<style scoped>\n",
       "    .dataframe tbody tr th:only-of-type {\n",
       "        vertical-align: middle;\n",
       "    }\n",
       "\n",
       "    .dataframe tbody tr th {\n",
       "        vertical-align: top;\n",
       "    }\n",
       "\n",
       "    .dataframe thead th {\n",
       "        text-align: right;\n",
       "    }\n",
       "</style>\n",
       "<table border=\"1\" class=\"dataframe\">\n",
       "  <thead>\n",
       "    <tr style=\"text-align: right;\">\n",
       "      <th></th>\n",
       "      <th>AllcPath</th>\n",
       "      <th>mCCCFrac</th>\n",
       "      <th>mCGFrac</th>\n",
       "      <th>mCGFracAdj</th>\n",
       "      <th>mCHFrac</th>\n",
       "      <th>mCHFracAdj</th>\n",
       "      <th>FinalReads</th>\n",
       "      <th>InputReads</th>\n",
       "      <th>MappedReads</th>\n",
       "      <th>DissectionRegion</th>\n",
       "      <th>...</th>\n",
       "      <th>Sample</th>\n",
       "      <th>leiden</th>\n",
       "      <th>mCHFrac.1</th>\n",
       "      <th>tsne_0</th>\n",
       "      <th>tsne_1</th>\n",
       "      <th>umap_0</th>\n",
       "      <th>umap_1</th>\n",
       "      <th>L1</th>\n",
       "      <th>L1_proba</th>\n",
       "      <th>CellTypeAnno</th>\n",
       "    </tr>\n",
       "  </thead>\n",
       "  <tbody>\n",
       "    <tr>\n",
       "      <th>10E_M_0</th>\n",
       "      <td>/gale/raidix/rdx-4/mapping/10E/CEMBA190625-10E...</td>\n",
       "      <td>0.008198</td>\n",
       "      <td>0.822633</td>\n",
       "      <td>0.821166</td>\n",
       "      <td>0.041640</td>\n",
       "      <td>0.033718</td>\n",
       "      <td>1626504.0</td>\n",
       "      <td>4407752</td>\n",
       "      <td>2892347.0</td>\n",
       "      <td>10E</td>\n",
       "      <td>...</td>\n",
       "      <td>10E_190625</td>\n",
       "      <td>14</td>\n",
       "      <td>0.041640</td>\n",
       "      <td>4.422312</td>\n",
       "      <td>32.817532</td>\n",
       "      <td>-2.776936</td>\n",
       "      <td>0.910858</td>\n",
       "      <td>c7</td>\n",
       "      <td>0.718517</td>\n",
       "      <td>MGE-Sst</td>\n",
       "    </tr>\n",
       "    <tr>\n",
       "      <th>10E_M_1</th>\n",
       "      <td>/gale/raidix/rdx-4/mapping/10E/CEMBA190625-10E...</td>\n",
       "      <td>0.006019</td>\n",
       "      <td>0.743035</td>\n",
       "      <td>0.741479</td>\n",
       "      <td>0.024127</td>\n",
       "      <td>0.018218</td>\n",
       "      <td>2009998.0</td>\n",
       "      <td>5524084</td>\n",
       "      <td>3657352.0</td>\n",
       "      <td>10E</td>\n",
       "      <td>...</td>\n",
       "      <td>10E_190625</td>\n",
       "      <td>8</td>\n",
       "      <td>0.024127</td>\n",
       "      <td>-44.612333</td>\n",
       "      <td>-33.222181</td>\n",
       "      <td>9.975079</td>\n",
       "      <td>10.775970</td>\n",
       "      <td>c4</td>\n",
       "      <td>0.724762</td>\n",
       "      <td>CA3</td>\n",
       "    </tr>\n",
       "    <tr>\n",
       "      <th>10E_M_10</th>\n",
       "      <td>/gale/raidix/rdx-4/mapping/10E/CEMBA190625-10E...</td>\n",
       "      <td>0.006569</td>\n",
       "      <td>0.750172</td>\n",
       "      <td>0.748520</td>\n",
       "      <td>0.027665</td>\n",
       "      <td>0.021235</td>\n",
       "      <td>1383636.0</td>\n",
       "      <td>3455260</td>\n",
       "      <td>2172987.0</td>\n",
       "      <td>10E</td>\n",
       "      <td>...</td>\n",
       "      <td>10E_190625</td>\n",
       "      <td>8</td>\n",
       "      <td>0.027665</td>\n",
       "      <td>-43.991445</td>\n",
       "      <td>-28.466108</td>\n",
       "      <td>9.412707</td>\n",
       "      <td>9.894364</td>\n",
       "      <td>c4</td>\n",
       "      <td>0.828400</td>\n",
       "      <td>CA3</td>\n",
       "    </tr>\n",
       "    <tr>\n",
       "      <th>10E_M_101</th>\n",
       "      <td>/gale/raidix/rdx-4/mapping/10E/CEMBA190625-10E...</td>\n",
       "      <td>0.006353</td>\n",
       "      <td>0.760898</td>\n",
       "      <td>0.759369</td>\n",
       "      <td>0.026547</td>\n",
       "      <td>0.020323</td>\n",
       "      <td>2474670.0</td>\n",
       "      <td>7245482</td>\n",
       "      <td>4778768.0</td>\n",
       "      <td>10E</td>\n",
       "      <td>...</td>\n",
       "      <td>10E_190625</td>\n",
       "      <td>8</td>\n",
       "      <td>0.026547</td>\n",
       "      <td>-40.476595</td>\n",
       "      <td>-17.625580</td>\n",
       "      <td>7.975397</td>\n",
       "      <td>7.598768</td>\n",
       "      <td>c4</td>\n",
       "      <td>0.714865</td>\n",
       "      <td>CA3</td>\n",
       "    </tr>\n",
       "    <tr>\n",
       "      <th>10E_M_102</th>\n",
       "      <td>/gale/raidix/rdx-4/mapping/10E/CEMBA190625-10E...</td>\n",
       "      <td>0.005409</td>\n",
       "      <td>0.752980</td>\n",
       "      <td>0.751637</td>\n",
       "      <td>0.019497</td>\n",
       "      <td>0.014164</td>\n",
       "      <td>2430290.0</td>\n",
       "      <td>7004754</td>\n",
       "      <td>4609570.0</td>\n",
       "      <td>10E</td>\n",
       "      <td>...</td>\n",
       "      <td>10E_190625</td>\n",
       "      <td>23</td>\n",
       "      <td>0.019497</td>\n",
       "      <td>-26.758905</td>\n",
       "      <td>16.534931</td>\n",
       "      <td>-0.437397</td>\n",
       "      <td>10.436956</td>\n",
       "      <td>c5</td>\n",
       "      <td>0.503633</td>\n",
       "      <td>CA1</td>\n",
       "    </tr>\n",
       "  </tbody>\n",
       "</table>\n",
       "<p>5 rows × 27 columns</p>\n",
       "</div>"
      ],
      "text/plain": [
       "                                                    AllcPath  mCCCFrac  \\\n",
       "10E_M_0    /gale/raidix/rdx-4/mapping/10E/CEMBA190625-10E...  0.008198   \n",
       "10E_M_1    /gale/raidix/rdx-4/mapping/10E/CEMBA190625-10E...  0.006019   \n",
       "10E_M_10   /gale/raidix/rdx-4/mapping/10E/CEMBA190625-10E...  0.006569   \n",
       "10E_M_101  /gale/raidix/rdx-4/mapping/10E/CEMBA190625-10E...  0.006353   \n",
       "10E_M_102  /gale/raidix/rdx-4/mapping/10E/CEMBA190625-10E...  0.005409   \n",
       "\n",
       "            mCGFrac  mCGFracAdj   mCHFrac  mCHFracAdj  FinalReads  InputReads  \\\n",
       "10E_M_0    0.822633    0.821166  0.041640    0.033718   1626504.0     4407752   \n",
       "10E_M_1    0.743035    0.741479  0.024127    0.018218   2009998.0     5524084   \n",
       "10E_M_10   0.750172    0.748520  0.027665    0.021235   1383636.0     3455260   \n",
       "10E_M_101  0.760898    0.759369  0.026547    0.020323   2474670.0     7245482   \n",
       "10E_M_102  0.752980    0.751637  0.019497    0.014164   2430290.0     7004754   \n",
       "\n",
       "           MappedReads DissectionRegion  ...      Sample  leiden mCHFrac.1  \\\n",
       "10E_M_0      2892347.0              10E  ...  10E_190625      14  0.041640   \n",
       "10E_M_1      3657352.0              10E  ...  10E_190625       8  0.024127   \n",
       "10E_M_10     2172987.0              10E  ...  10E_190625       8  0.027665   \n",
       "10E_M_101    4778768.0              10E  ...  10E_190625       8  0.026547   \n",
       "10E_M_102    4609570.0              10E  ...  10E_190625      23  0.019497   \n",
       "\n",
       "              tsne_0     tsne_1    umap_0     umap_1  L1  L1_proba  \\\n",
       "10E_M_0     4.422312  32.817532 -2.776936   0.910858  c7  0.718517   \n",
       "10E_M_1   -44.612333 -33.222181  9.975079  10.775970  c4  0.724762   \n",
       "10E_M_10  -43.991445 -28.466108  9.412707   9.894364  c4  0.828400   \n",
       "10E_M_101 -40.476595 -17.625580  7.975397   7.598768  c4  0.714865   \n",
       "10E_M_102 -26.758905  16.534931 -0.437397  10.436956  c5  0.503633   \n",
       "\n",
       "           CellTypeAnno  \n",
       "10E_M_0         MGE-Sst  \n",
       "10E_M_1             CA3  \n",
       "10E_M_10            CA3  \n",
       "10E_M_101           CA3  \n",
       "10E_M_102           CA1  \n",
       "\n",
       "[5 rows x 27 columns]"
      ]
     },
     "execution_count": 3,
     "metadata": {},
     "output_type": "execute_result"
    }
   ],
   "source": [
    "cell_meta = pd.read_csv('../../cell_level/step_by_step/100kb/L1.ClusteringResults.csv.gz', index_col=0)\n",
    "cell_meta.head()"
   ]
  },
  {
   "cell_type": "markdown",
   "metadata": {},
   "source": [
    "## Calculate DMG"
   ]
  },
  {
   "cell_type": "code",
   "execution_count": 4,
   "metadata": {
    "ExecuteTime": {
     "end_time": "2021-10-04T07:51:11.928588Z",
     "start_time": "2021-10-04T07:49:30.514387Z"
    },
    "scrolled": true
   },
   "outputs": [
    {
     "name": "stdout",
     "output_type": "stream",
     "text": [
      "Calculating cluster c0 DMGs.\n",
      "Calculating cluster c1 DMGs.\n",
      "Calculating cluster c10 DMGs.\n",
      "Calculating cluster c11 DMGs.\n",
      "Calculating cluster c12 DMGs.\n",
      "Calculating cluster c13 DMGs.\n",
      "Calculating cluster c14 DMGs.\n",
      "Calculating cluster c15 DMGs.\n",
      "Calculating cluster c16 DMGs.\n",
      "Calculating cluster c17 DMGs.\n",
      "c17 Finished.\n",
      "Calculating cluster c18 DMGs.\n",
      "c16 Finished.\n",
      "Calculating cluster c19 DMGs.\n",
      "c15 Finished.\n",
      "Calculating cluster c2 DMGs.\n",
      "c14 Finished.\n",
      "Calculating cluster c20 DMGs.\n",
      "c13 Finished.\n",
      "Calculating cluster c21 DMGs.\n",
      "c12 Finished.\n",
      "Calculating cluster c22 DMGs.\n",
      "c11 Finished.\n",
      "Calculating cluster c23 DMGs.\n",
      "c10 Finished.\n",
      "Calculating cluster c24 DMGs.\n",
      "c19 Finished.\n",
      "Calculating cluster c25 DMGs.\n",
      "c18 Finished.\n",
      "Calculating cluster c3 DMGs.\n",
      "c21 Finished.\n",
      "Calculating cluster c4 DMGs.\n",
      "c22 Finished.\n",
      "Calculating cluster c5 DMGs.\n",
      "c20 Finished.\n",
      "Calculating cluster c6 DMGs.\n",
      "c23 Finished.\n",
      "Calculating cluster c7 DMGs.\n",
      "c24 Finished.\n",
      "Calculating cluster c8 DMGs.\n",
      "c25 Finished.\n",
      "Calculating cluster c9 DMGs.\n",
      "c9 Finished.\n",
      "c8 Finished.\n",
      "c7 Finished.\n",
      "c6 Finished.\n",
      "c5 Finished.\n",
      "c2 Finished.\n",
      "c4 Finished.\n",
      "c3 Finished.\n",
      "c0 Finished.\n",
      "c1 Finished.\n"
     ]
    }
   ],
   "source": [
    "dmg_table = one_vs_rest_dmg(cell_meta,\n",
    "                            group=cluster_col,\n",
    "                            mcds_paths=mcds_paths,\n",
    "                            obs_dim=obs_dim,\n",
    "                            var_dim=var_dim,\n",
    "                            mc_type=mc_type,\n",
    "                            top_n=top_n,\n",
    "                            adj_p_cutoff=adj_p_cutoff,\n",
    "                            fc_cutoff=fc_cutoff,\n",
    "                            auroc_cutoff=auroc_cutoff,\n",
    "                            max_cluster_cells=max_cluster_cells,\n",
    "                            max_other_fold=max_other_fold,\n",
    "                            cpu=cpu)"
   ]
  },
  {
   "cell_type": "markdown",
   "metadata": {},
   "source": [
    "## Save"
   ]
  },
  {
   "cell_type": "code",
   "execution_count": 5,
   "metadata": {
    "ExecuteTime": {
     "end_time": "2021-10-04T07:51:12.029276Z",
     "start_time": "2021-10-04T07:51:11.931424Z"
    }
   },
   "outputs": [],
   "source": [
    "dmg_table.to_hdf(f'{cluster_col}.OneVsRestDMG.hdf', key='data')"
   ]
  },
  {
   "cell_type": "code",
   "execution_count": null,
   "metadata": {},
   "outputs": [],
   "source": []
  }
 ],
 "metadata": {
  "hide_input": false,
  "kernelspec": {
   "display_name": "Python 3",
   "language": "python",
   "name": "python3"
  },
  "language_info": {
   "codemirror_mode": {
    "name": "ipython",
    "version": 3
   },
   "file_extension": ".py",
   "mimetype": "text/x-python",
   "name": "python",
   "nbconvert_exporter": "python",
   "pygments_lexer": "ipython3",
   "version": "3.8.6"
  },
  "toc": {
   "base_numbering": 1,
   "nav_menu": {},
   "number_sections": true,
   "sideBar": true,
   "skip_h1_title": true,
   "title_cell": "Table of Contents",
   "title_sidebar": "Contents",
   "toc_cell": false,
   "toc_position": {},
   "toc_section_display": true,
   "toc_window_display": true
  }
 },
 "nbformat": 4,
 "nbformat_minor": 4
}