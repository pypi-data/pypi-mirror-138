{
 "cells": [
  {
   "cell_type": "markdown",
   "id": "cec61087-0b16-416b-b215-fe8aebab52d2",
   "metadata": {},
   "source": [
    "# 📈 Structure Function\n",
    "\n",
    "This is an example on how to use the structure function calculation and how to plot it"
   ]
  },
  {
   "cell_type": "code",
   "execution_count": null,
   "id": "004e92a8-9fb8-4b80-8a91-e3731f1755f7",
   "metadata": {},
   "outputs": [],
   "source": [
    "import matplotlib.pyplot as plt\n",
    "import numpy as np\n",
    "import pandas as pd"
   ]
  },
  {
   "cell_type": "code",
   "execution_count": null,
   "id": "717f71a2-e8de-4186-9395-1159fb56e927",
   "metadata": {},
   "outputs": [],
   "source": [
    "import parmesan\n",
    "from parmesan.analysis import structure, structure_function"
   ]
  },
  {
   "cell_type": "code",
   "execution_count": null,
   "id": "406c87e9-f62a-4b32-a367-ac445de2f9ec",
   "metadata": {},
   "outputs": [],
   "source": [
    "plt.rcParams[\"figure.figsize\"] = (20, 10)\n",
    "plt.rcParams[\"axes.grid\"] = True\n",
    "plt.rcParams[\"axes.axisbelow\"] = True\n",
    "plt.rcParams[\"font.size\"] = 20\n",
    "plt.rcParams[\"legend.fontsize\"] = \"medium\"\n",
    "plt.rcParams[\"font.family\"] = \"monospace\""
   ]
  },
  {
   "cell_type": "markdown",
   "id": "bb2e5d5a-f155-44b6-af8f-58c75a89897f",
   "metadata": {},
   "source": [
    "## Creation or a dummy signal"
   ]
  },
  {
   "cell_type": "code",
   "execution_count": null,
   "id": "902be65b-c2ee-4bba-8290-9c6c2257747c",
   "metadata": {},
   "outputs": [],
   "source": [
    "ns = 7000\n",
    "t_arr = pd.date_range(\n",
    "    start=\"2021-04-29 10:00:00\", periods=ns, end=\"2021-04-29 10:00:40\"\n",
    ")  # array\n",
    "t1 = np.array(t_arr)  # array\n",
    "epoch = t1.astype(np.int64) / 10**9\n",
    "wave = np.sin(2 * np.pi * (epoch - epoch[0]))  # array"
   ]
  },
  {
   "cell_type": "markdown",
   "id": "8157c41e-b07e-4687-baae-df5b7c2474c3",
   "metadata": {},
   "source": [
    "## Array Inputs"
   ]
  },
  {
   "cell_type": "code",
   "execution_count": null,
   "id": "89a6eb31-d72c-4aa5-b01d-ed6868963442",
   "metadata": {},
   "outputs": [],
   "source": [
    "# Test array\n",
    "sh_arr, D_arr = structure(wave, t_arr)\n",
    "fig = plt.figure()\n",
    "plt.loglog(sh_arr, D_arr)\n",
    "\n",
    "print(max(D_arr), sh_arr[np.argmax(D_arr)])"
   ]
  },
  {
   "cell_type": "markdown",
   "id": "705e2462-ed95-41d9-bb51-1a17e4d0c647",
   "metadata": {},
   "source": [
    "## DataFrame Input"
   ]
  },
  {
   "cell_type": "code",
   "execution_count": null,
   "id": "ef54aa6b-b9a1-42d9-86f8-17ea61e0dd99",
   "metadata": {},
   "outputs": [],
   "source": [
    "w_df = pd.DataFrame(np.transpose(wave), columns=[\"wave\"], index=t_arr)\n",
    "\n",
    "# Test DataFrame\n",
    "D_df = structure(w_df)\n",
    "fig = plt.figure(figsize=(10, 5))\n",
    "plt.loglog(D_df.index, D_df[\"wave\"])\n",
    "\n",
    "print(D_df[\"wave\"].max(), D_df.index[D_df[\"wave\"].argmax()])"
   ]
  },
  {
   "cell_type": "markdown",
   "id": "8a2f08d5-664a-4609-90f2-794daad1c409",
   "metadata": {},
   "source": [
    "## Serie Input"
   ]
  },
  {
   "cell_type": "code",
   "execution_count": null,
   "id": "83d9eb80-fe2e-4b96-93a8-b2f267ea5d55",
   "metadata": {},
   "outputs": [],
   "source": [
    "D_s = w_df.squeeze().parmesan.structure()\n",
    "fig = plt.figure(figsize=(10, 5))\n",
    "plt.loglog(D_s.index, D_s)\n",
    "\n",
    "print(D_s.max(), D_s.index[D_s.argmax()])"
   ]
  }
 ],
 "metadata": {
  "kernelspec": {
   "display_name": "Python 3",
   "language": "python",
   "name": "python3"
  },
  "language_info": {
   "codemirror_mode": {
    "name": "ipython",
    "version": 3
   },
   "file_extension": ".py",
   "mimetype": "text/x-python",
   "name": "python",
   "nbconvert_exporter": "python",
   "pygments_lexer": "ipython3",
   "version": "3.10.2"
  }
 },
 "nbformat": 4,
 "nbformat_minor": 5
}
