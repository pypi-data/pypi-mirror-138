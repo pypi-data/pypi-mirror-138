{
 "cells": [
  {
   "cell_type": "code",
   "execution_count": 116,
   "id": "8c34ddbc",
   "metadata": {},
   "outputs": [],
   "source": [
    "from FrozenYoghourt.mode import Mode as r\n",
    "from FrozenYoghourt.gates import Gates as g\n",
    "from FrozenYoghourt.maths import Maths as m\n",
    "from FrozenYoghourt.quantum import Quantum as q"
   ]
  },
  {
   "cell_type": "code",
   "execution_count": 117,
   "id": "d175b617",
   "metadata": {},
   "outputs": [],
   "source": [
    "from typing import *"
   ]
  },
  {
   "cell_type": "code",
   "execution_count": 119,
   "id": "c3250de0",
   "metadata": {},
   "outputs": [
    {
     "ename": "AttributeError",
     "evalue": "'numpy.ndarray' object has no attribute 'det'",
     "output_type": "error",
     "traceback": [
      "\u001b[0;31m---------------------------------------------------------------------------\u001b[0m",
      "\u001b[0;31mAttributeError\u001b[0m                            Traceback (most recent call last)",
      "\u001b[0;32m<ipython-input-119-2bf471e150d0>\u001b[0m in \u001b[0;36m<module>\u001b[0;34m\u001b[0m\n\u001b[0;32m----> 1\u001b[0;31m \u001b[0mu\u001b[0m \u001b[0;34m=\u001b[0m \u001b[0mm\u001b[0m\u001b[0;34m.\u001b[0m\u001b[0mto_su\u001b[0m\u001b[0;34m(\u001b[0m\u001b[0mrandom_unitary\u001b[0m\u001b[0;34m(\u001b[0m\u001b[0;36m4\u001b[0m\u001b[0;34m)\u001b[0m\u001b[0;34m.\u001b[0m\u001b[0mdata\u001b[0m\u001b[0;34m)\u001b[0m\u001b[0;34m\u001b[0m\u001b[0;34m\u001b[0m\u001b[0m\n\u001b[0m\u001b[1;32m      2\u001b[0m \u001b[0mL\u001b[0m\u001b[0;34m,\u001b[0m \u001b[0mR\u001b[0m \u001b[0;34m=\u001b[0m \u001b[0mto_su\u001b[0m\u001b[0;34m(\u001b[0m\u001b[0mrandom_local_ops\u001b[0m\u001b[0;34m(\u001b[0m\u001b[0;36m2\u001b[0m\u001b[0;34m,\u001b[0m \u001b[0;36m2\u001b[0m\u001b[0;34m)\u001b[0m\u001b[0;34m)\u001b[0m\u001b[0;34m\u001b[0m\u001b[0;34m\u001b[0m\u001b[0m\n\u001b[1;32m      3\u001b[0m \u001b[0mv\u001b[0m \u001b[0;34m=\u001b[0m \u001b[0mL\u001b[0m\u001b[0;34m@\u001b[0m\u001b[0mu\u001b[0m\u001b[0;34m@\u001b[0m\u001b[0mR\u001b[0m\u001b[0;34m\u001b[0m\u001b[0;34m\u001b[0m\u001b[0m\n",
      "\u001b[0;32m~/Documents/Python/FrozenYoghourt/FrozenYoghourt/maths/__init__.py\u001b[0m in \u001b[0;36mto_su\u001b[0;34m(u)\u001b[0m\n\u001b[1;32m     55\u001b[0m         \u001b[0;32mif\u001b[0m \u001b[0mMode\u001b[0m\u001b[0;34m.\u001b[0m\u001b[0mrepresentation\u001b[0m \u001b[0;34m==\u001b[0m \u001b[0;34m'numpy'\u001b[0m\u001b[0;34m:\u001b[0m\u001b[0;34m\u001b[0m\u001b[0;34m\u001b[0m\u001b[0m\n\u001b[1;32m     56\u001b[0m             \u001b[0;32mif\u001b[0m \u001b[0mtype\u001b[0m\u001b[0;34m(\u001b[0m\u001b[0mu\u001b[0m\u001b[0;34m)\u001b[0m \u001b[0;34m==\u001b[0m \u001b[0mlist\u001b[0m\u001b[0;34m:\u001b[0m\u001b[0;34m\u001b[0m\u001b[0;34m\u001b[0m\u001b[0m\n\u001b[0;32m---> 57\u001b[0;31m                 \u001b[0mto_su_list\u001b[0m \u001b[0;34m=\u001b[0m \u001b[0;34m[\u001b[0m\u001b[0mmat\u001b[0m \u001b[0;34m*\u001b[0m \u001b[0mcomplex\u001b[0m\u001b[0;34m(\u001b[0m\u001b[0mnp\u001b[0m\u001b[0;34m.\u001b[0m\u001b[0mlinalg\u001b[0m\u001b[0;34m.\u001b[0m\u001b[0mdet\u001b[0m\u001b[0;34m(\u001b[0m\u001b[0mmat\u001b[0m\u001b[0;34m)\u001b[0m\u001b[0;34m)\u001b[0m \u001b[0;34m**\u001b[0m \u001b[0;34m(\u001b[0m\u001b[0;34m-\u001b[0m\u001b[0;36m1\u001b[0m \u001b[0;34m/\u001b[0m \u001b[0mnp\u001b[0m\u001b[0;34m.\u001b[0m\u001b[0mshape\u001b[0m\u001b[0;34m(\u001b[0m\u001b[0mmat\u001b[0m\u001b[0;34m)\u001b[0m\u001b[0;34m[\u001b[0m\u001b[0;36m0\u001b[0m\u001b[0;34m]\u001b[0m\u001b[0;34m)\u001b[0m \u001b[0;32mfor\u001b[0m \u001b[0mmat\u001b[0m \u001b[0;32min\u001b[0m \u001b[0mu\u001b[0m\u001b[0;34m]\u001b[0m\u001b[0;34m\u001b[0m\u001b[0;34m\u001b[0m\u001b[0m\n\u001b[0m\u001b[1;32m     58\u001b[0m                 \u001b[0;32mreturn\u001b[0m \u001b[0mto_su_list\u001b[0m\u001b[0;34m\u001b[0m\u001b[0;34m\u001b[0m\u001b[0m\n\u001b[1;32m     59\u001b[0m             \u001b[0;32melse\u001b[0m\u001b[0;34m:\u001b[0m\u001b[0;34m\u001b[0m\u001b[0;34m\u001b[0m\u001b[0m\n",
      "\u001b[0;31mAttributeError\u001b[0m: 'numpy.ndarray' object has no attribute 'det'"
     ]
    }
   ],
   "source": [
    "g = m.to_su(random_unitary(4).data)\n",
    "L, R = to_su(random_local_ops(2, 2))\n",
    "h = L@g@R"
   ]
  },
  {
   "cell_type": "code",
   "execution_count": null,
   "id": "f19d7fc3",
   "metadata": {},
   "outputs": [],
   "source": [
    "E = g.Magic()"
   ]
  },
  {
   "cell_type": "code",
   "execution_count": 346,
   "id": "cc1f99a2",
   "metadata": {},
   "outputs": [
    {
     "name": "stdout",
     "output_type": "stream",
     "text": [
      "Case 1\n"
     ]
    }
   ],
   "source": [
    "g = m.to_su(random_unitary(4).data)\n",
    "L, R = to_su(random_local_ops(2, 2))\n",
    "h = L@g@R\n",
    "\n",
    "g, h = m.to_su(g), m.to_su(h)\n",
    "\n",
    "u, v = np.conj(E).T @ g @ E, np.conj(E).T @ h @ E\n",
    "\n",
    "D1, P1 = np.linalg.eig(u @ u.T)\n",
    "D2, P2 = np.linalg.eig(v @ v.T)\n",
    "\n",
    "idx = np.abs(np.real(D1)).argsort()[::-1]\n",
    "D1 = D1[idx]\n",
    "P1 = P1[:, idx]\n",
    "\n",
    "aae(P1@np.diag(D1)@P1.T, u@u.T)\n",
    "\n",
    "idx = np.abs(np.real(D2)).argsort()[::-1]\n",
    "D2 = D2[idx]\n",
    "\n",
    "P2 = P2[:, idx]\n",
    "\n",
    "if not np.all(np.isclose(D1, D2)):\n",
    "    print('Case 2')\n",
    "    D2 = -D2\n",
    "    aae(P2@np.diag(D2)@P2.T, -v@v.T)\n",
    "\n",
    "else:\n",
    "    print('Case 1')\n",
    "    aae(P2@np.diag(D2)@P2.T, v@v.T)"
   ]
  },
  {
   "cell_type": "code",
   "execution_count": 347,
   "id": "8bc33ddc",
   "metadata": {},
   "outputs": [],
   "source": [
    "a = P1.T\n",
    "b = P2.T"
   ]
  },
  {
   "cell_type": "code",
   "execution_count": 350,
   "id": "829de6a3",
   "metadata": {},
   "outputs": [],
   "source": [
    "aae(a@u@u.T@a.T, b@v@v.T@b.T)"
   ]
  },
  {
   "cell_type": "code",
   "execution_count": 351,
   "id": "4495d5e9",
   "metadata": {},
   "outputs": [],
   "source": [
    "c = np.conj(v).T @ b.T @ a @ u\n",
    "\n",
    "left_coset = E @ b.T @ a @ np.conj(E).T\n",
    "right_coset = E @ c.T @ np.conj(E).T"
   ]
  },
  {
   "cell_type": "code",
   "execution_count": 352,
   "id": "7ca81d2a",
   "metadata": {},
   "outputs": [
    {
     "data": {
      "text/latex": [
       "$\\displaystyle \\left[\\begin{matrix}1.0 & 0 & 0 & 0\\\\0 & 1.0 & 0 & 0\\\\0 & 0 & 1.0 & 0\\\\0 & 0 & 0 & 1.0\\end{matrix}\\right]$"
      ],
      "text/plain": [
       "Matrix([\n",
       "[1.0,   0,   0,   0],\n",
       "[  0, 1.0,   0,   0],\n",
       "[  0,   0, 1.0,   0],\n",
       "[  0,   0,   0, 1.0]])"
      ]
     },
     "metadata": {},
     "output_type": "display_data"
    }
   ],
   "source": [
    "view(q.gamma(left_coset))"
   ]
  },
  {
   "cell_type": "code",
   "execution_count": 353,
   "id": "3db8468b",
   "metadata": {},
   "outputs": [
    {
     "data": {
      "text/latex": [
       "$\\displaystyle \\left[\\begin{matrix}1.0 & 0 & 0 & 0\\\\0 & 1.0 & 0 & 0\\\\0 & 0 & 1.0 & 0\\\\0 & 0 & 0 & 1.0\\end{matrix}\\right]$"
      ],
      "text/plain": [
       "Matrix([\n",
       "[1.0,   0,   0,   0],\n",
       "[  0, 1.0,   0,   0],\n",
       "[  0,   0, 1.0,   0],\n",
       "[  0,   0,   0, 1.0]])"
      ]
     },
     "metadata": {},
     "output_type": "display_data"
    }
   ],
   "source": [
    "view(q.gamma(right_coset))"
   ]
  },
  {
   "cell_type": "code",
   "execution_count": 197,
   "id": "f7352c14",
   "metadata": {},
   "outputs": [
    {
     "data": {
      "text/latex": [
       "$\\displaystyle \\left[\\begin{matrix}1.0\\\\-0.6501620451 + 0.0873356367 i\\\\1.78908392\\\\-0.6501620451 - 0.0873356367 i\\\\1.0\\end{matrix}\\right]$"
      ],
      "text/plain": [
       "Matrix([\n",
       "[                           1.0],\n",
       "[-0.6501620451 + 0.0873356367*I],\n",
       "[                    1.78908392],\n",
       "[-0.6501620451 - 0.0873356367*I],\n",
       "[                           1.0]])"
      ]
     },
     "metadata": {},
     "output_type": "display_data"
    }
   ],
   "source": [
    "view(q.chi(u@u.T))"
   ]
  },
  {
   "cell_type": "code",
   "execution_count": 264,
   "id": "600b9822",
   "metadata": {},
   "outputs": [
    {
     "data": {
      "text/plain": [
       "array([ 0.8649451 +0.50186649j, -0.69587342+0.71816445j,\n",
       "        0.46223007-0.88676004j, -0.2036678 -0.97904005j])"
      ]
     },
     "execution_count": 264,
     "metadata": {},
     "output_type": "execute_result"
    }
   ],
   "source": [
    "D1"
   ]
  },
  {
   "cell_type": "code",
   "execution_count": 257,
   "id": "65c10bd6",
   "metadata": {},
   "outputs": [
    {
     "data": {
      "text/plain": [
       "(array([ 0.8649451 +0.50186649j, -0.69587342+0.71816445j,\n",
       "         0.46223007-0.88676004j, -0.2036678 -0.97904005j]),\n",
       " array([-0.8649451 -0.50186649j,  0.69587342-0.71816445j,\n",
       "        -0.46223007+0.88676004j,  0.2036678 +0.97904005j]))"
      ]
     },
     "execution_count": 257,
     "metadata": {},
     "output_type": "execute_result"
    }
   ],
   "source": [
    "D1, D2"
   ]
  },
  {
   "cell_type": "code",
   "execution_count": null,
   "id": "0af4867c",
   "metadata": {},
   "outputs": [],
   "source": [
    "if not np.isclose(D1[0], D2[0]):\n",
    "    D2 = -D2\n",
    "    P2 = 1j*P2"
   ]
  },
  {
   "cell_type": "code",
   "execution_count": 187,
   "id": "bb10c2b7",
   "metadata": {},
   "outputs": [
    {
     "data": {
      "text/latex": [
       "$\\displaystyle \\left[\\begin{matrix}1.0\\\\0.0652594175 + 0.3831728553 i\\\\0.0686478628\\\\0.0652594175 - 0.3831728553 i\\\\1.0\\end{matrix}\\right]$"
      ],
      "text/plain": [
       "Matrix([\n",
       "[                          1.0],\n",
       "[0.0652594175 + 0.3831728553*I],\n",
       "[                 0.0686478628],\n",
       "[0.0652594175 - 0.3831728553*I],\n",
       "[                          1.0]])"
      ]
     },
     "metadata": {},
     "output_type": "display_data"
    }
   ],
   "source": [
    "view(q.chi(v@v.T))"
   ]
  },
  {
   "cell_type": "code",
   "execution_count": 189,
   "id": "9cc2c16f",
   "metadata": {},
   "outputs": [
    {
     "data": {
      "text/latex": [
       "$\\displaystyle \\left[\\begin{matrix}-0.7911017155 + 0.6116846211 i & 0 & 0 & 0\\\\0 & 0.7627835467 + 0.6466538957 i & 0 & 0\\\\0 & 0 & -0.5893067756 - 0.807909354 i & 0\\\\0 & 0 & 0 & 0.5523655269 - 0.8336020182 i\\end{matrix}\\right]$"
      ],
      "text/plain": [
       "Matrix([\n",
       "[-0.7911017155 + 0.6116846211*I,                             0,                             0,                             0],\n",
       "[                             0, 0.7627835467 + 0.6466538957*I,                             0,                             0],\n",
       "[                             0,                             0, -0.5893067756 - 0.807909354*I,                             0],\n",
       "[                             0,                             0,                             0, 0.5523655269 - 0.8336020182*I]])"
      ]
     },
     "metadata": {},
     "output_type": "display_data"
    }
   ],
   "source": [
    "view(P1.T@u@u.T@P1)"
   ]
  },
  {
   "cell_type": "code",
   "execution_count": 190,
   "id": "7f4a4e49",
   "metadata": {},
   "outputs": [
    {
     "data": {
      "text/latex": [
       "$\\displaystyle \\left[\\begin{matrix}-0.7911017155 + 0.6116846211 i & 0 & 0 & 0\\\\0 & 0.7627835467 + 0.6466538957 i & 0 & 0\\\\0 & 0 & -0.5893067756 - 0.807909354 i & 0\\\\0 & 0 & 0 & 0.5523655269 - 0.8336020182 i\\end{matrix}\\right]$"
      ],
      "text/plain": [
       "Matrix([\n",
       "[-0.7911017155 + 0.6116846211*I,                             0,                             0,                             0],\n",
       "[                             0, 0.7627835467 + 0.6466538957*I,                             0,                             0],\n",
       "[                             0,                             0, -0.5893067756 - 0.807909354*I,                             0],\n",
       "[                             0,                             0,                             0, 0.5523655269 - 0.8336020182*I]])"
      ]
     },
     "metadata": {},
     "output_type": "display_data"
    }
   ],
   "source": [
    "view(P2.T@v@v.T@P2)"
   ]
  },
  {
   "cell_type": "code",
   "execution_count": 155,
   "id": "25b83c26",
   "metadata": {},
   "outputs": [],
   "source": [
    "a = P1\n",
    "b = P2\n",
    "\n",
    "c = np.conj(v).T @ b.T @ a @ u\n",
    "\n",
    "left_coset = np.conj(E).T @ b.T @ a @ E"
   ]
  },
  {
   "cell_type": "code",
   "execution_count": 157,
   "id": "76c8759d",
   "metadata": {},
   "outputs": [
    {
     "data": {
      "text/latex": [
       "$\\displaystyle \\left[\\begin{matrix}0.9598139709 - 0.2806370278 i\\\\0.8830328258 + 0.4693112278 i\\\\-0.9489079892 + 0.3155528927 i\\\\-0.9931648924 - 0.1167197352 i\\end{matrix}\\right]$"
      ],
      "text/plain": [
       "Matrix([\n",
       "[ 0.9598139709 - 0.2806370278*I],\n",
       "[ 0.8830328258 + 0.4693112278*I],\n",
       "[-0.9489079892 + 0.3155528927*I],\n",
       "[-0.9931648924 - 0.1167197352*I]])"
      ]
     },
     "metadata": {},
     "output_type": "display_data"
    }
   ],
   "source": [
    "view(D1)"
   ]
  },
  {
   "cell_type": "code",
   "execution_count": 158,
   "id": "1d7215d4",
   "metadata": {},
   "outputs": [
    {
     "data": {
      "text/latex": [
       "$\\displaystyle \\left[\\begin{matrix}0.9258405788 - 0.3779143059 i\\\\-0.7005123937 - 0.7136402359 i\\\\0.0945097089 - 0.9955239399 i\\\\-0.4809952521 - 0.8767231989 i\\end{matrix}\\right]$"
      ],
      "text/plain": [
       "Matrix([\n",
       "[ 0.9258405788 - 0.3779143059*I],\n",
       "[-0.7005123937 - 0.7136402359*I],\n",
       "[ 0.0945097089 - 0.9955239399*I],\n",
       "[-0.4809952521 - 0.8767231989*I]])"
      ]
     },
     "metadata": {},
     "output_type": "display_data"
    }
   ],
   "source": [
    "view(D2)"
   ]
  },
  {
   "cell_type": "code",
   "execution_count": 139,
   "id": "0e3983e3",
   "metadata": {},
   "outputs": [
    {
     "data": {
      "text/latex": [
       "$\\displaystyle \\left[\\begin{matrix}1.0\\\\-0.9817608421 + 0.3708473738 i\\\\0.2673700002\\\\-0.9817608421 - 0.3708473738 i\\\\1.0\\end{matrix}\\right]$"
      ],
      "text/plain": [
       "Matrix([\n",
       "[                           1.0],\n",
       "[-0.9817608421 + 0.3708473738*I],\n",
       "[                  0.2673700002],\n",
       "[-0.9817608421 - 0.3708473738*I],\n",
       "[                           1.0]])"
      ]
     },
     "metadata": {},
     "output_type": "display_data"
    }
   ],
   "source": [
    "view(q.chi(q.gamma(u)))"
   ]
  },
  {
   "cell_type": "code",
   "execution_count": 140,
   "id": "e7ea07ce",
   "metadata": {},
   "outputs": [
    {
     "data": {
      "text/latex": [
       "$\\displaystyle \\left[\\begin{matrix}1.0\\\\-0.9817608421 + 0.3708473738 i\\\\0.2673700002\\\\-0.9817608421 - 0.3708473738 i\\\\1.0\\end{matrix}\\right]$"
      ],
      "text/plain": [
       "Matrix([\n",
       "[                           1.0],\n",
       "[-0.9817608421 + 0.3708473738*I],\n",
       "[                  0.2673700002],\n",
       "[-0.9817608421 - 0.3708473738*I],\n",
       "[                           1.0]])"
      ]
     },
     "metadata": {},
     "output_type": "display_data"
    }
   ],
   "source": [
    "view(q.chi(q.gamma(u)))"
   ]
  },
  {
   "cell_type": "code",
   "execution_count": 122,
   "id": "167f871d",
   "metadata": {},
   "outputs": [
    {
     "data": {
      "text/plain": [
       "array([ 0.95778026-0.28750127j,  0.69474595-0.71925521j,\n",
       "       -0.54185165-0.84047415j, -0.99537741-0.0960407j ])"
      ]
     },
     "execution_count": 122,
     "metadata": {},
     "output_type": "execute_result"
    }
   ],
   "source": [
    "D1"
   ]
  },
  {
   "cell_type": "code",
   "execution_count": 123,
   "id": "264e6386",
   "metadata": {},
   "outputs": [
    {
     "data": {
      "text/plain": [
       "array([ 0.95778026-0.28750127j,  0.69474595-0.71925521j,\n",
       "       -0.54185165-0.84047415j, -0.99537741-0.0960407j ])"
      ]
     },
     "execution_count": 123,
     "metadata": {},
     "output_type": "execute_result"
    }
   ],
   "source": [
    "D2"
   ]
  },
  {
   "cell_type": "code",
   "execution_count": 113,
   "id": "f77fd794",
   "metadata": {},
   "outputs": [
    {
     "ename": "TypeError",
     "evalue": "double_cosets() missing 2 required positional arguments: 'g' and 'h'",
     "output_type": "error",
     "traceback": [
      "\u001b[0;31m---------------------------------------------------------------------------\u001b[0m",
      "\u001b[0;31mTypeError\u001b[0m                                 Traceback (most recent call last)",
      "\u001b[0;32m<ipython-input-113-3cae92214e05>\u001b[0m in \u001b[0;36m<module>\u001b[0;34m\u001b[0m\n\u001b[0;32m----> 1\u001b[0;31m \u001b[0mq\u001b[0m\u001b[0;34m.\u001b[0m\u001b[0mdouble_cosets\u001b[0m\u001b[0;34m(\u001b[0m\u001b[0;34m)\u001b[0m\u001b[0;34m\u001b[0m\u001b[0;34m\u001b[0m\u001b[0m\n\u001b[0m",
      "\u001b[0;31mTypeError\u001b[0m: double_cosets() missing 2 required positional arguments: 'g' and 'h'"
     ]
    }
   ],
   "source": [
    "def double_cosets(g, h):\n",
    "    E = Gates.Magic()\n",
    "\n",
    "    g, h = Maths.to_su(g), Maths.to_su(h)\n",
    "\n",
    "    u, v = np.conj(E).T @ g @ E, np.conj(E).T @ h @ E\n",
    "\n",
    "    D1, P1 = np.linalg.eig(u @ u.T)\n",
    "    D2, P2 = np.linalg.eig(v @ v.T)\n",
    "\n",
    "    idx = D1.argsort()[::-1]\n",
    "    D1 = D1[idx]\n",
    "    P1 = P1[:, idx]\n",
    "\n",
    "    idx = D2.argsort()[::-1]\n",
    "    D2 = D2[idx]\n",
    "    P2 = P2[:, idx]\n",
    "\n",
    "    if not np.isclose(D1[0], D2[0]):\n",
    "        D2 = -D2\n",
    "        idx = D2.argsort()[::-1]\n",
    "        D2 = D2[idx]\n",
    "        P2 = P2[:, idx]\n",
    "\n",
    "    a = P1.T\n",
    "    b = P2.T\n",
    "\n",
    "    c = np.conj(v).T @ b.T @ a @ u\n",
    "\n",
    "    left_coset = E @ b.T @ a @ np.conj(E).T\n",
    "    right_coset = E @ c.T @ np.conj(E).T\n",
    "\n",
    "    return left_coset, right_coset\n",
    "\n"
   ]
  },
  {
   "cell_type": "code",
   "execution_count": null,
   "id": "13a13835",
   "metadata": {},
   "outputs": [],
   "source": []
  }
 ],
 "metadata": {
  "kernelspec": {
   "display_name": "Python 3",
   "language": "python",
   "name": "python3"
  },
  "language_info": {
   "codemirror_mode": {
    "name": "ipython",
    "version": 3
   },
   "file_extension": ".py",
   "mimetype": "text/x-python",
   "name": "python",
   "nbconvert_exporter": "python",
   "pygments_lexer": "ipython3",
   "version": "3.8.8"
  }
 },
 "nbformat": 4,
 "nbformat_minor": 5
}
