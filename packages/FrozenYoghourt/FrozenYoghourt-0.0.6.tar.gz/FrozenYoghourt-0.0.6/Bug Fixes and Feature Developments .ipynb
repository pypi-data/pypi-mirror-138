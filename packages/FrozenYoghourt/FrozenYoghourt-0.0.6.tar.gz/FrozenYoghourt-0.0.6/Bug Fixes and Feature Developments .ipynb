{
 "cells": [
  {
   "cell_type": "code",
   "execution_count": 3,
   "id": "e686db10",
   "metadata": {},
   "outputs": [],
   "source": [
    "from gates import *\n",
    "from maths import *\n",
    "from quantum import *\n",
    "from mode import *"
   ]
  }
 ],
 "metadata": {
  "kernelspec": {
   "display_name": "Python 3",
   "language": "python",
   "name": "python3"
  },
  "language_info": {
   "codemirror_mode": {
    "name": "ipython",
    "version": 3
   },
   "file_extension": ".py",
   "mimetype": "text/x-python",
   "name": "python",
   "nbconvert_exporter": "python",
   "pygments_lexer": "ipython3",
   "version": "3.8.3"
  }
 },
 "nbformat": 4,
 "nbformat_minor": 5
}
