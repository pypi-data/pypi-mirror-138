{
 "cells": [
  {
   "cell_type": "markdown",
   "metadata": {
    "tags": []
   },
   "source": [
    "# Certis Quickstart"
   ]
  },
  {
   "cell_type": "code",
   "execution_count": 1,
   "metadata": {},
   "outputs": [],
   "source": [
    "import certis\n",
    "from typing import *"
   ]
  },
  {
   "cell_type": "markdown",
   "metadata": {
    "tags": []
   },
   "source": [
    "# Supported Order Types\n",
    "- LIMIT\n",
    "- MARKET\n",
    "- STOP_MARKET\n",
    "- STOP_LOSS_MARKET\n",
    "- TAKE_PROFIT_MARKET\n",
    "\n",
    "<a href=\"https://www.investor.gov/introduction-investing/investing-basics/how-stock-markets-work/types-orders\"> order type docs for beginners"
   ]
  },
  {
   "cell_type": "code",
   "execution_count": 2,
   "metadata": {},
   "outputs": [
    {
     "data": {
      "text/plain": [
       "['MARKET', 'LIMIT', 'STOP_MARKET', 'STOP_LOSS_MARKET', 'TAKE_PROFIT_MARKET']"
      ]
     },
     "execution_count": 2,
     "metadata": {},
     "output_type": "execute_result"
    }
   ],
   "source": [
    "certis.OrderType.ORDERS"
   ]
  },
  {
   "cell_type": "markdown",
   "metadata": {},
   "source": [
    "# Supportd Order Sides\n",
    "LONG: betting for upside  \n",
    "SHORT: betting for downside"
   ]
  },
  {
   "cell_type": "code",
   "execution_count": 3,
   "metadata": {},
   "outputs": [
    {
     "name": "stdout",
     "output_type": "stream",
     "text": [
      "certis.OrderSide.LONG: 1\n",
      "certis.OrderSide.SHORT: -1\n"
     ]
    }
   ],
   "source": [
    "print(\"certis.OrderSide.LONG:\", certis.OrderSide.LONG)\n",
    "print(\"certis.OrderSide.SHORT:\", certis.OrderSide.SHORT)"
   ]
  },
  {
   "cell_type": "code",
   "execution_count": 4,
   "metadata": {},
   "outputs": [],
   "source": [
    "from pprint import pprint"
   ]
  },
  {
   "cell_type": "code",
   "execution_count": 5,
   "metadata": {},
   "outputs": [
    {
     "name": "stdout",
     "output_type": "stream",
     "text": [
      "{'has_position': 'False',\n",
      "'margin': 10000,\n",
      "'portfolio_value': 10000.0,\n",
      "'position': {'avg_price': 0, 'side': 0, 'size': 0, 'unrealized_pnl': 0.0},\n",
      "'timestamp': 1579076100000000000}\n"
     ]
    }
   ],
   "source": [
    "pprint({\"margin\": 10000, \"portfolio_value\": 10000.0, \"position\": {\"size\": 0, \"side\": 0, \"avg_price\": 0, \"unrealized_pnl\": 0.0}, \"has_position\": \"False\", \"timestamp\": 1579076100000000000}, indent=False)"
   ]
  },
  {
   "cell_type": "markdown",
   "metadata": {},
   "source": [
    "# Writing Trading Strategy With Certis\n",
    "- function certis.Startegy.execute() -> executes order with given data and account info\n",
    "- function certis.Strategy.calculate() -> calculates indicators, etc with given raw data\n",
    "\n",
    "# MA Cross Strategy\n",
    "- In this Tutorial, We will write a simple strategy called \"MA Cross Strategy\"\n",
    "- BUY WHEN CLOSE > MA(CLOSE, 5)\n",
    "- SELL WHEN CLOSE < MA(CLOSE, 5)"
   ]
  },
  {
   "cell_type": "code",
   "execution_count": 6,
   "metadata": {},
   "outputs": [],
   "source": [
    "class MyFirstStrategy(certis.Strategy):\n",
    "    def __init__(self, config):\n",
    "        # config: Dict[str, Any]: config for this strategy\n",
    "        # name: str: name for this strategy\n",
    "        super().__init__(config, \"MyFirstStrategy\")\n",
    "        self.ma_period = config[\"MA_PERIOD\"]\n",
    "        \n",
    "    def calculate(self, data):\n",
    "        # data: pd.DataFrame contains [open, high, low, close, volume, timestamp]\n",
    "        # calculations here\n",
    "        data[\"MA\"] = data[\"close\"].rolling(self.ma_period).mean()\n",
    "        return data\n",
    "    \n",
    "    def execute(self, state_dict) -> List[certis.core.Action]:\n",
    "        actions = []\n",
    "        \n",
    "        \"\"\"\n",
    "        state_dict example:\n",
    "            {\n",
    "                'has_position': 0,\n",
    "                 'margin': 10000,\n",
    "                 'portfolio_value': 10000.0,\n",
    "                 'position': {\n",
    "                     'avg_price': 0, \n",
    "                     'side': 0, \n",
    "                     'size': 0, \n",
    "                     'unrealized_pnl': 0.0\n",
    "                 },\n",
    "                 'timestamp': 1579076100000000000\n",
    "            }\n",
    "        \"\"\"\n",
    "        \n",
    "        has_position = state_dict[\"account_info\"][\"has_position\"]\n",
    "        portfolio_value = state_dict[\"account_info\"][\"portfolio_value\"]\n",
    "        position_size = state_dict[\"account_info\"][\"position\"][\"size\"]\n",
    "        data = state_dict[\"data\"]\n",
    "                \n",
    "        if not state_dict[\"account_info\"][\"has_position\"]:\n",
    "            if data[\"close\"] > data[\"MA\"]: # if above ma\n",
    "                order = certis.Order(\n",
    "                    order_type=certis.OrderType.MARKET,\n",
    "                    order_quantity=portfolio_value / data[\"close\"], # full bet!,\n",
    "                    order_side=certis.OrderSide.LONG,\n",
    "                    order_price=None, # MARKET ORDER\n",
    "                    reduce_only=False\n",
    "                )\n",
    "                actions.append(order)\n",
    "        \n",
    "        else:\n",
    "            if data[\"close\"] < data[\"MA\"]:\n",
    "                order = certis.Order(\n",
    "                    order_type=certis.OrderType.MARKET,\n",
    "                    order_quantity=position_size, # full bet!,\n",
    "                    order_side=certis.OrderSide.SHORT,\n",
    "                    order_price=None, # MARKET ORDER\n",
    "                    reduce_only=True\n",
    "                )\n",
    "                actions.append(order)\n",
    "                \n",
    "        return actions\n",
    "    "
   ]
  },
  {
   "cell_type": "markdown",
   "metadata": {},
   "source": [
    "# Market Info Object\n",
    "- essential market info for the backtesting\n",
    "- maker fee: fee for limit orders\n",
    "- taker fee: fee for market orders\n",
    "- slippage: slippage applied for market orders\n",
    "- tick_size: tick size\n",
    "- minimum_order_size: minimum order size"
   ]
  },
  {
   "cell_type": "code",
   "execution_count": 7,
   "metadata": {},
   "outputs": [],
   "source": [
    "market_info = certis.MarketInfo(\n",
    "    maker_fee=0.001,\n",
    "    taker_fee=0.001,\n",
    "    slippage=0.001,\n",
    "    minimum_order_size=0.001,\n",
    "    tick_size=0.01\n",
    ")"
   ]
  },
  {
   "cell_type": "markdown",
   "metadata": {},
   "source": [
    "# Load data\n",
    "Certis Supports pandas DataFrame with [timestamp, open, high, low, close, volume] with datetime indexes"
   ]
  },
  {
   "cell_type": "code",
   "execution_count": 8,
   "metadata": {},
   "outputs": [],
   "source": [
    "from yfinance import Ticker\n",
    "\n",
    "data = Ticker(\"BTC-USD\").history(period=\"max\")\n",
    "data = data[data.columns[:5]]\n",
    "data.columns = [\"open\", \"high\", \"low\", \"close\", \"volume\"]\n",
    "data[\"timestamp\"] = data.index.astype(int)"
   ]
  },
  {
   "cell_type": "markdown",
   "metadata": {},
   "source": [
    "# Initialize Engine\n",
    "### to initialize certis backtesting engine, you need following components:\n",
    "- data: pandas DataFrame\n",
    "- initial margin: float\n",
    "- market info: MarketInfo Object\n",
    "- strategy: Strategy Class\n",
    "- strategy config: strategy config"
   ]
  },
  {
   "cell_type": "code",
   "execution_count": 9,
   "metadata": {},
   "outputs": [],
   "source": [
    "initial_margin = 100000\n",
    "strategy_config = {\"MA_PERIOD\": 28}\n",
    "\n",
    "engine = certis.Engine(\n",
    "    data,\n",
    "    initial_margin,\n",
    "    market_info,\n",
    "    MyFirstStrategy,\n",
    "    strategy_config\n",
    ")"
   ]
  },
  {
   "cell_type": "code",
   "execution_count": 10,
   "metadata": {},
   "outputs": [
    {
     "name": "stderr",
     "output_type": "stream",
     "text": [
      "100%|██████████| 2574/2574 [00:00<00:00, 100949.44it/s]\n"
     ]
    }
   ],
   "source": [
    "engine.run()"
   ]
  },
  {
   "cell_type": "markdown",
   "metadata": {},
   "source": [
    "# Analyzing Results\n",
    "- engine.logger.account_infos: account info for timestamp-by-timestamp\n",
    "- engine.logger.transactions: order fill (transactions)\n",
    "- engine.logger.unfilled_order: unfilled order for timestamp-by-timestamp"
   ]
  },
  {
   "cell_type": "code",
   "execution_count": 11,
   "metadata": {},
   "outputs": [],
   "source": [
    "import pandas as pd\n",
    "import matplotlib.pyplot as plt"
   ]
  },
  {
   "cell_type": "code",
   "execution_count": 12,
   "metadata": {},
   "outputs": [],
   "source": [
    "account_info_df = pd.DataFrame(engine.logger.account_infos)\n",
    "account_info_df.index = pd.to_datetime(account_info_df[\"timestamp\"])"
   ]
  },
  {
   "cell_type": "code",
   "execution_count": 13,
   "metadata": {},
   "outputs": [
    {
     "data": {
      "text/html": [
       "<div>\n",
       "<style scoped>\n",
       "    .dataframe tbody tr th:only-of-type {\n",
       "        vertical-align: middle;\n",
       "    }\n",
       "\n",
       "    .dataframe tbody tr th {\n",
       "        vertical-align: top;\n",
       "    }\n",
       "\n",
       "    .dataframe thead th {\n",
       "        text-align: right;\n",
       "    }\n",
       "</style>\n",
       "<table border=\"1\" class=\"dataframe\">\n",
       "  <thead>\n",
       "    <tr style=\"text-align: right;\">\n",
       "      <th></th>\n",
       "      <th>margin</th>\n",
       "      <th>portfolio_value</th>\n",
       "      <th>position</th>\n",
       "      <th>has_position</th>\n",
       "      <th>timestamp</th>\n",
       "    </tr>\n",
       "    <tr>\n",
       "      <th>timestamp</th>\n",
       "      <th></th>\n",
       "      <th></th>\n",
       "      <th></th>\n",
       "      <th></th>\n",
       "      <th></th>\n",
       "    </tr>\n",
       "  </thead>\n",
       "  <tbody>\n",
       "    <tr>\n",
       "      <th>2014-10-15</th>\n",
       "      <td>1.000000e+05</td>\n",
       "      <td>1.000000e+05</td>\n",
       "      <td>{'size': 0, 'side': 0, 'avg_price': 0, 'unreal...</td>\n",
       "      <td>0</td>\n",
       "      <td>1.413331e+18</td>\n",
       "    </tr>\n",
       "    <tr>\n",
       "      <th>2014-10-16</th>\n",
       "      <td>9.989988e+04</td>\n",
       "      <td>9.825920e+04</td>\n",
       "      <td>{'size': 249.457, 'side': 1.0, 'avg_price': 40...</td>\n",
       "      <td>1</td>\n",
       "      <td>1.413418e+18</td>\n",
       "    </tr>\n",
       "    <tr>\n",
       "      <th>2014-10-17</th>\n",
       "      <td>9.989988e+04</td>\n",
       "      <td>9.521159e+04</td>\n",
       "      <td>{'size': 249.457, 'side': 1.0, 'avg_price': 40...</td>\n",
       "      <td>1</td>\n",
       "      <td>1.413504e+18</td>\n",
       "    </tr>\n",
       "    <tr>\n",
       "      <th>2014-10-18</th>\n",
       "      <td>9.989988e+04</td>\n",
       "      <td>9.551143e+04</td>\n",
       "      <td>{'size': 249.457, 'side': 1.0, 'avg_price': 40...</td>\n",
       "      <td>1</td>\n",
       "      <td>1.413590e+18</td>\n",
       "    </tr>\n",
       "    <tr>\n",
       "      <th>2014-10-19</th>\n",
       "      <td>9.989988e+04</td>\n",
       "      <td>9.742826e+04</td>\n",
       "      <td>{'size': 249.457, 'side': 1.0, 'avg_price': 40...</td>\n",
       "      <td>1</td>\n",
       "      <td>1.413677e+18</td>\n",
       "    </tr>\n",
       "    <tr>\n",
       "      <th>...</th>\n",
       "      <td>...</td>\n",
       "      <td>...</td>\n",
       "      <td>...</td>\n",
       "      <td>...</td>\n",
       "      <td>...</td>\n",
       "    </tr>\n",
       "    <tr>\n",
       "      <th>2021-10-31</th>\n",
       "      <td>9.121182e+06</td>\n",
       "      <td>1.172140e+07</td>\n",
       "      <td>{'size': 189.752, 'side': 1.0, 'avg_price': 48...</td>\n",
       "      <td>1</td>\n",
       "      <td>1.635638e+18</td>\n",
       "    </tr>\n",
       "    <tr>\n",
       "      <th>2021-11-01</th>\n",
       "      <td>9.121182e+06</td>\n",
       "      <td>1.161326e+07</td>\n",
       "      <td>{'size': 189.752, 'side': 1.0, 'avg_price': 48...</td>\n",
       "      <td>1</td>\n",
       "      <td>1.635725e+18</td>\n",
       "    </tr>\n",
       "    <tr>\n",
       "      <th>2021-11-02</th>\n",
       "      <td>9.121182e+06</td>\n",
       "      <td>1.155358e+07</td>\n",
       "      <td>{'size': 189.752, 'side': 1.0, 'avg_price': 48...</td>\n",
       "      <td>1</td>\n",
       "      <td>1.635811e+18</td>\n",
       "    </tr>\n",
       "    <tr>\n",
       "      <th>2021-11-03</th>\n",
       "      <td>9.121182e+06</td>\n",
       "      <td>1.197520e+07</td>\n",
       "      <td>{'size': 189.752, 'side': 1.0, 'avg_price': 48...</td>\n",
       "      <td>1</td>\n",
       "      <td>1.635898e+18</td>\n",
       "    </tr>\n",
       "    <tr>\n",
       "      <th>2021-11-04</th>\n",
       "      <td>9.121182e+06</td>\n",
       "      <td>1.192656e+07</td>\n",
       "      <td>{'size': 189.752, 'side': 1.0, 'avg_price': 48...</td>\n",
       "      <td>1</td>\n",
       "      <td>1.635984e+18</td>\n",
       "    </tr>\n",
       "  </tbody>\n",
       "</table>\n",
       "<p>2574 rows × 5 columns</p>\n",
       "</div>"
      ],
      "text/plain": [
       "                  margin  portfolio_value  \\\n",
       "timestamp                                   \n",
       "2014-10-15  1.000000e+05     1.000000e+05   \n",
       "2014-10-16  9.989988e+04     9.825920e+04   \n",
       "2014-10-17  9.989988e+04     9.521159e+04   \n",
       "2014-10-18  9.989988e+04     9.551143e+04   \n",
       "2014-10-19  9.989988e+04     9.742826e+04   \n",
       "...                  ...              ...   \n",
       "2021-10-31  9.121182e+06     1.172140e+07   \n",
       "2021-11-01  9.121182e+06     1.161326e+07   \n",
       "2021-11-02  9.121182e+06     1.155358e+07   \n",
       "2021-11-03  9.121182e+06     1.197520e+07   \n",
       "2021-11-04  9.121182e+06     1.192656e+07   \n",
       "\n",
       "                                                     position  has_position  \\\n",
       "timestamp                                                                     \n",
       "2014-10-15  {'size': 0, 'side': 0, 'avg_price': 0, 'unreal...             0   \n",
       "2014-10-16  {'size': 249.457, 'side': 1.0, 'avg_price': 40...             1   \n",
       "2014-10-17  {'size': 249.457, 'side': 1.0, 'avg_price': 40...             1   \n",
       "2014-10-18  {'size': 249.457, 'side': 1.0, 'avg_price': 40...             1   \n",
       "2014-10-19  {'size': 249.457, 'side': 1.0, 'avg_price': 40...             1   \n",
       "...                                                       ...           ...   \n",
       "2021-10-31  {'size': 189.752, 'side': 1.0, 'avg_price': 48...             1   \n",
       "2021-11-01  {'size': 189.752, 'side': 1.0, 'avg_price': 48...             1   \n",
       "2021-11-02  {'size': 189.752, 'side': 1.0, 'avg_price': 48...             1   \n",
       "2021-11-03  {'size': 189.752, 'side': 1.0, 'avg_price': 48...             1   \n",
       "2021-11-04  {'size': 189.752, 'side': 1.0, 'avg_price': 48...             1   \n",
       "\n",
       "               timestamp  \n",
       "timestamp                 \n",
       "2014-10-15  1.413331e+18  \n",
       "2014-10-16  1.413418e+18  \n",
       "2014-10-17  1.413504e+18  \n",
       "2014-10-18  1.413590e+18  \n",
       "2014-10-19  1.413677e+18  \n",
       "...                  ...  \n",
       "2021-10-31  1.635638e+18  \n",
       "2021-11-01  1.635725e+18  \n",
       "2021-11-02  1.635811e+18  \n",
       "2021-11-03  1.635898e+18  \n",
       "2021-11-04  1.635984e+18  \n",
       "\n",
       "[2574 rows x 5 columns]"
      ]
     },
     "execution_count": 13,
     "metadata": {},
     "output_type": "execute_result"
    }
   ],
   "source": [
    "account_info_df"
   ]
  },
  {
   "cell_type": "code",
   "execution_count": 14,
   "metadata": {},
   "outputs": [
    {
     "data": {
      "text/plain": [
       "<matplotlib.legend.Legend at 0x7fa440521280>"
      ]
     },
     "execution_count": 14,
     "metadata": {},
     "output_type": "execute_result"
    },
    {
     "data": {
      "image/png": "[encoded data removed]",
      "text/plain": [
       "<Figure size 1440x720 with 1 Axes>"
      ]
     },
     "metadata": {
      "needs_background": "light"
     },
     "output_type": "display_data"
    }
   ],
   "source": [
    "(account_info_df[\"portfolio_value\"] / initial_margin).plot(label=\"equity\", figsize=(20, 10))\n",
    "(data[\"close\"] / data[\"close\"][0]).plot(label=\"BTC-USD\")\n",
    "plt.legend()"
   ]
  }
 ],
 "metadata": {
  "kernelspec": {
   "display_name": "Python 3",
   "language": "python",
   "name": "python3"
  },
  "language_info": {
   "codemirror_mode": {
    "name": "ipython",
    "version": 3
   },
   "file_extension": ".py",
   "mimetype": "text/x-python",
   "name": "python",
   "nbconvert_exporter": "python",
   "pygments_lexer": "ipython3",
   "version": "3.8.8"
  }
 },
 "nbformat": 4,
 "nbformat_minor": 4
}
