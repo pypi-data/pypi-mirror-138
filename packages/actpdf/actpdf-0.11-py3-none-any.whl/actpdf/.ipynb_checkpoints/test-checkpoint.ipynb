{
 "cells": [
  {
   "cell_type": "code",
   "execution_count": null,
   "id": "bdbebe11",
   "metadata": {},
   "outputs": [],
   "source": []
  },
  {
   "cell_type": "code",
   "execution_count": null,
   "id": "2c365808",
   "metadata": {},
   "outputs": [],
   "source": [
    "\n",
    "\n",
    "print('suhail')\n",
    "\n",
    "pip install "
   ]
  },
  {
   "cell_type": "code",
   "execution_count": null,
   "id": "df178d8c",
   "metadata": {},
   "outputs": [],
   "source": []
  },
  {
   "cell_type": "code",
   "execution_count": null,
   "id": "09cc6dc9",
   "metadata": {},
   "outputs": [],
   "source": [
    "yyyy"
   ]
  },
  {
   "cell_type": "code",
   "execution_count": null,
   "id": "60988ecf",
   "metadata": {},
   "outputs": [],
   "source": []
  },
  {
   "cell_type": "code",
   "execution_count": null,
   "id": "26788730",
   "metadata": {},
   "outputs": [],
   "source": []
  },
  {
   "cell_type": "code",
   "execution_count": null,
   "id": "5022987a",
   "metadata": {},
   "outputs": [],
   "source": []
  },
  {
   "cell_type": "code",
   "execution_count": null,
   "id": "dce5e783",
   "metadata": {},
   "outputs": [],
   "source": [
    "# This is a level 1 heading\n",
    "\n",
    "## This is a level 2 heading\n",
    "\n",
    "This is some plain text that forms a paragraph. Add emphasis via **bold** and __bold__, or *italic* and _italic_. \n",
    "\n",
    "Paragraphs must be separated by an empty line. \n"
   ]
  },
  {
   "cell_type": "code",
   "execution_count": null,
   "id": "a5e638e0",
   "metadata": {},
   "outputs": [],
   "source": []
  }
 ],
 "metadata": {
  "kernelspec": {
   "display_name": "Python 3 (ipykernel)",
   "language": "python",
   "name": "python3"
  },
  "language_info": {
   "codemirror_mode": {
    "name": "ipython",
    "version": 3
   },
   "file_extension": ".py",
   "mimetype": "text/x-python",
   "name": "python",
   "nbconvert_exporter": "python",
   "pygments_lexer": "ipython3",
   "version": "3.8.10"
  }
 },
 "nbformat": 4,
 "nbformat_minor": 5
}
