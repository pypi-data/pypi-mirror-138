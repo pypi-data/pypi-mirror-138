{
 "cells": [
  {
   "cell_type": "code",
   "execution_count": 1,
   "id": "2d8a36d4-c361-4a06-be2f-403aee165773",
   "metadata": {},
   "outputs": [],
   "source": [
    "from pathlib import Path\n",
    "\n",
    "from castle.config import settings"
   ]
  },
  {
   "cell_type": "code",
   "execution_count": 2,
   "id": "748bc844-f449-4cc3-91b1-8f2da432d8f5",
   "metadata": {},
   "outputs": [
    {
     "data": {
      "text/plain": [
       "PosixPath('/Users/jochen/castle')"
      ]
     },
     "execution_count": 2,
     "metadata": {},
     "output_type": "execute_result"
    }
   ],
   "source": [
    "settings.root"
   ]
  },
  {
   "cell_type": "code",
   "execution_count": null,
   "id": "4c269687-f932-4bfc-9a58-241ade852de6",
   "metadata": {},
   "outputs": [],
   "source": []
  }
 ],
 "metadata": {
  "kernelspec": {
   "display_name": "Python 3 (ipykernel)",
   "language": "python",
   "name": "python3"
  },
  "language_info": {
   "codemirror_mode": {
    "name": "ipython",
    "version": 3
   },
   "file_extension": ".py",
   "mimetype": "text/x-python",
   "name": "python",
   "nbconvert_exporter": "python",
   "pygments_lexer": "ipython3",
   "version": "3.10.2"
  }
 },
 "nbformat": 4,
 "nbformat_minor": 5
}
