{
 "cells": [
  {
   "cell_type": "code",
   "execution_count": 1,
   "id": "03d87362-996a-4cca-af11-d20491b4a63d",
   "metadata": {},
   "outputs": [],
   "source": [
    "from pathlib import Path\n",
    "\n",
    "from pydantic import parse_file_as\n",
    "\n",
    "from pdcst.config import settings\n",
    "from pdcst.repository import PodcastRepository, EpisodeRepository, EpisodeListInDb, EpisodeInDb"
   ]
  },
  {
   "cell_type": "code",
   "execution_count": 7,
   "id": "25fe9997-a90a-48d8-a32f-2392dccd294d",
   "metadata": {},
   "outputs": [
    {
     "name": "stdout",
     "output_type": "stream",
     "text": [
      "dict:  {'feed': {'url': 'https://python-podcast.de/show/feed/podcast/mp3/rss.xml', 'updated': datetime.datetime(2022, 2, 2, 6, 10, 22)}, 'title': 'Python Podcast', 'episodes_count': 38, 'file_name_pattern': '{index}_{title}.{file_format}', 'directory': 'python_podcast'}\n",
      "directory:  python_podcast\n",
      "dir in constructor:  python_podcast\n",
      "self dir:  python_podcast\n",
      "dir:  python_podcast\n"
     ]
    }
   ],
   "source": [
    "podcast_repo = PodcastRepository(settings.root)\n",
    "podcasts = podcast_repo.list()"
   ]
  },
  {
   "cell_type": "code",
   "execution_count": 9,
   "id": "962d8039-4b7f-4b11-975c-48f268141cce",
   "metadata": {},
   "outputs": [],
   "source": [
    "podcast = podcasts[0]"
   ]
  },
  {
   "cell_type": "code",
   "execution_count": 13,
   "id": "b5fc1e4c-3a89-411b-99ad-ee983ad7f31e",
   "metadata": {},
   "outputs": [],
   "source": [
    "episode_repo = EpisodeRepository(settings.root / podcast.directory)"
   ]
  },
  {
   "cell_type": "code",
   "execution_count": 19,
   "id": "5a455e48-b261-4b9d-94ec-c94fa60c1fa1",
   "metadata": {},
   "outputs": [
    {
     "data": {
      "text/plain": [
       "[EpisodeInDb(index=1, guid='e2907be0-8199-466c-bd12-cd1a6bb12f3c', audio='https://d2mmy4gxasde9x.cloudfront.net/cast_audio/pp_01.mp3', published=datetime.datetime(2018, 12, 1, 0, 0), title='PP01 - Die erste Sendung'),\n",
       " EpisodeInDb(index=2, guid='3761c305-6983-4eeb-ab72-e7f7a0bee46d', audio='https://d2mmy4gxasde9x.cloudfront.net/cast_audio/pp-02.mp3', published=datetime.datetime(2018, 12, 19, 23, 0), title='PP02 - Django'),\n",
       " EpisodeInDb(index=3, guid='e224dff1-32e8-4f87-8c73-ded96444c576', audio='https://d2mmy4gxasde9x.cloudfront.net/cast_audio/pp_03.mp3', published=datetime.datetime(2018, 12, 24, 0, 0), title='PP03 - Weihnachtsfolge'),\n",
       " EpisodeInDb(index=4, guid='c83f21b7-46ad-4f30-a234-327e977e4e56', audio='https://d2mmy4gxasde9x.cloudfront.net/cast_audio/pp_04.mp3', published=datetime.datetime(2019, 2, 20, 0, 0), title='PP04 - Python für Einsteiger'),\n",
       " EpisodeInDb(index=5, guid='2f565a04-b0a1-4e08-892f-536a9c0b8e63', audio='https://d2mmy4gxasde9x.cloudfront.net/cast_audio/pp05.mp3', published=datetime.datetime(2019, 2, 25, 0, 0), title='PP05 - Datenbanken'),\n",
       " EpisodeInDb(index=6, guid='a2a706c3-7274-4b08-9277-4ed816f36408', audio='https://d2mmy4gxasde9x.cloudfront.net/cast_audio/pp_06.mp3', published=datetime.datetime(2019, 3, 19, 0, 0), title='PP06 - Pandas'),\n",
       " EpisodeInDb(index=7, guid='17882456-f436-492b-8d69-8ed66877c891', audio='https://d2mmy4gxasde9x.cloudfront.net/cast_audio/pp_07.mp3', published=datetime.datetime(2019, 4, 18, 1, 0), title='PP07 - Machine Learning am Beispiel Textklassifikation'),\n",
       " EpisodeInDb(index=8, guid='318e301c-874d-4c8c-8b0f-a808a11d4e0f', audio='https://d2mmy4gxasde9x.cloudfront.net/cast_audio/pp_08.mp3', published=datetime.datetime(2019, 5, 2, 1, 0), title='PP08 - Machine Learning am Beispiel Bildklassifikation'),\n",
       " EpisodeInDb(index=9, guid='766691d7-bdf5-4e63-a742-b05d16b6937b', audio='https://d2mmy4gxasde9x.cloudfront.net/cast_audio/pp_09.mp3', published=datetime.datetime(2019, 5, 21, 1, 0), title='Content Management mit Django - Wagtail'),\n",
       " EpisodeInDb(index=10, guid='61cfb5d5-e3f1-4f7c-a54d-122e40bd357e', audio='https://d2mmy4gxasde9x.cloudfront.net/cast_audio/pp_10.mp3', published=datetime.datetime(2019, 5, 28, 23, 0), title='Devops'),\n",
       " EpisodeInDb(index=11, guid='820db0bd-5471-44b0-9ea0-cfb04cd51c12', audio='https://d2mmy4gxasde9x.cloudfront.net/cast_audio/pp_11_E273mH5.mp3', published=datetime.datetime(2019, 6, 30, 23, 0), title='Python in der Wissenschaft'),\n",
       " EpisodeInDb(index=12, guid='b4d38355-ddac-4e2e-874f-be713940fd91', audio='https://d2mmy4gxasde9x.cloudfront.net/cast_audio/pp_12.mp3', published=datetime.datetime(2019, 7, 30, 23, 0), title='Deployment von Webapplikationen'),\n",
       " EpisodeInDb(index=13, guid='611d92e8-41dc-4eb8-87c4-adc38077030a', audio='https://d2mmy4gxasde9x.cloudfront.net/cast_audio/pp_13.mp3', published=datetime.datetime(2019, 8, 27, 23, 0), title='Naive Bayes'),\n",
       " EpisodeInDb(index=14, guid='34234b8d-cfbc-4c2d-92de-bfa201097d06', audio='https://d2mmy4gxasde9x.cloudfront.net/cast_audio/pp_14.mp3', published=datetime.datetime(2019, 11, 12, 23, 0), title='Python 3.8'),\n",
       " EpisodeInDb(index=15, guid='0938b052-f8bb-4f1e-809d-7727e0056fd3', audio='https://d2mmy4gxasde9x.cloudfront.net/cast_audio/pp_15_HrP9n1F.mp3', published=datetime.datetime(2019, 12, 15, 23, 0), title='Fragen über Fragen'),\n",
       " EpisodeInDb(index=16, guid='4f283d30-c96e-4fb2-9edb-d6c7bdb998e7', audio='https://d2mmy4gxasde9x.cloudfront.net/cast_audio/pp_17_z3V7Jjh.mp3', published=datetime.datetime(2020, 2, 3, 23, 0), title='Python Entwicklungsumgebung 2020 Edition'),\n",
       " EpisodeInDb(index=17, guid='8ede0273-096e-475b-ab3f-38550b867b8a', audio='https://d2mmy4gxasde9x.cloudfront.net/cast_audio/pp_18_GSycQHb.mp3', published=datetime.datetime(2020, 2, 24, 23, 0), title='Suchmaschinen'),\n",
       " EpisodeInDb(index=18, guid='a73e8aaa-c5f7-4e65-8550-c47e2449e5c5', audio='https://d2mmy4gxasde9x.cloudfront.net/cast_audio/pp_19.mp3', published=datetime.datetime(2020, 3, 29, 23, 0), title='Corona aus der Data-Science Perspektive'),\n",
       " EpisodeInDb(index=19, guid='a0424e39-40d1-407e-bbac-0d2496678937', audio='https://d2mmy4gxasde9x.cloudfront.net/cast_audio/pp20.mp3', published=datetime.datetime(2020, 4, 23, 23, 0), title='Javascript Frontends'),\n",
       " EpisodeInDb(index=20, guid='736bac06-8909-4015-9460-5eb9ffa00e05', audio='https://d2mmy4gxasde9x.cloudfront.net/cast_audio/pp_21.mp3', published=datetime.datetime(2020, 5, 26, 23, 0), title='Open Source'),\n",
       " EpisodeInDb(index=21, guid='10833d54-ac2b-417a-8bff-828c5d00dcd3', audio='https://d2mmy4gxasde9x.cloudfront.net/cast_audio/pp22.mp3', published=datetime.datetime(2020, 6, 24, 23, 0), title='Projektmanagement - \"es ist alles nicht so einfach\"'),\n",
       " EpisodeInDb(index=22, guid='f83c687d-dc5d-4483-a58f-071f08992fd9', audio='https://d2mmy4gxasde9x.cloudfront.net/cast_audio/pp_23_dkPYjlc.mp3', published=datetime.datetime(2020, 7, 16, 23, 0), title='Python Async Teil 1 - am Beispiel von Django'),\n",
       " EpisodeInDb(index=23, guid='9d421c45-df08-40b9-8d28-5848aee65c05', audio='https://d2mmy4gxasde9x.cloudfront.net/cast_audio/pp24.mp3', published=datetime.datetime(2020, 8, 20, 23, 0), title='Tests'),\n",
       " EpisodeInDb(index=24, guid='6d855b03-aecd-4b96-a7b9-f2b2812a9506', audio='https://d2mmy4gxasde9x.cloudfront.net/cast_audio/pp_25.mp3', published=datetime.datetime(2020, 10, 20, 23, 0), title='Python 3.9 und Design Patterns (Teil 1)'),\n",
       " EpisodeInDb(index=25, guid='ab2beaa4-269d-4c4e-8b67-65ecb5a46402', audio='https://d2mmy4gxasde9x.cloudfront.net/cast_audio/pp26.mp3', published=datetime.datetime(2020, 11, 27, 23, 0), title='Security'),\n",
       " EpisodeInDb(index=26, guid='a2969eaf-3988-4010-b49f-4d39b9a9f944', audio='https://d2mmy4gxasde9x.cloudfront.net/cast_audio/pp_27.mp3', published=datetime.datetime(2020, 12, 13, 23, 0), title='Python Async Teil 2'),\n",
       " EpisodeInDb(index=27, guid='bd064da9-73de-45bf-adae-ac08bf4b5cc8', audio='https://d2mmy4gxasde9x.cloudfront.net/cast_audio/pp_28.mp3', published=datetime.datetime(2020, 12, 28, 23, 0), title='Wins and Fails'),\n",
       " EpisodeInDb(index=28, guid='c9c175db-4f00-42a1-a3b7-d2cb600816fa', audio='https://d2mmy4gxasde9x.cloudfront.net/cast_audio/pp29.mp3', published=datetime.datetime(2021, 2, 18, 23, 0), title='Vermischtes über Data Science, Machine Learning und nbdev'),\n",
       " EpisodeInDb(index=29, guid='f99b1968-8912-4010-b0b1-cedb193851c7', audio='https://d2mmy4gxasde9x.cloudfront.net/cast_audio/pp30.mp3', published=datetime.datetime(2021, 3, 5, 23, 0), title='REST'),\n",
       " EpisodeInDb(index=30, guid='983825f2-06c7-4b3f-bb60-718b80a60557', audio='https://d2mmy4gxasde9x.cloudfront.net/cast_audio/pp31.mp3', published=datetime.datetime(2021, 3, 28, 23, 0), title='Natural Language Processing mit spaCy'),\n",
       " EpisodeInDb(index=31, guid='2ad4dc37-c998-4344-9343-61cdf8943609', audio='https://d2mmy4gxasde9x.cloudfront.net/cast_audio/pp_32_mqLEQ3S.mp3', published=datetime.datetime(2021, 4, 26, 23, 0), title='Python in der Visual Effects Branche'),\n",
       " EpisodeInDb(index=32, guid='be8b2647-d31e-405b-b2c8-d135b81a9e9f', audio='https://d2mmy4gxasde9x.cloudfront.net/cast_audio/pp_33_nxfHwTT.mp3', published=datetime.datetime(2021, 6, 27, 23, 0), title='DjangoCon Europe 2021'),\n",
       " EpisodeInDb(index=33, guid='c677fe51-8437-4ab3-88df-825f5d61cb98', audio='https://d2mmy4gxasde9x.cloudfront.net/cast_audio/pp_34.mp3', published=datetime.datetime(2021, 7, 4, 23, 0), title='Python Packaging'),\n",
       " EpisodeInDb(index=34, guid='9cf8b363-245f-4286-b4b1-1e9e0332dcac', audio='https://d2mmy4gxasde9x.cloudfront.net/cast_audio/pp_35.mp3', published=datetime.datetime(2021, 8, 10, 23, 0), title='Das Python Importsystem'),\n",
       " EpisodeInDb(index=35, guid='622bd057-ab85-4133-990f-e39b141b84d2', audio='https://d2mmy4gxasde9x.cloudfront.net/cast_audio/python_podcast_35.mp3', published=datetime.datetime(2021, 10, 27, 23, 0), title='Python 3.10'),\n",
       " EpisodeInDb(index=36, guid='e8cdd0a3-3b42-46ac-97a8-fb15906a8b91', audio='https://d2mmy4gxasde9x.cloudfront.net/cast_audio/pp_37.mp3', published=datetime.datetime(2021, 11, 24, 23, 0), title='Was, wenn alles ein dict wäre?'),\n",
       " EpisodeInDb(index=37, guid='dfd60a58-8bd3-4fe2-8dab-87f55093a0c7', audio='https://d2mmy4gxasde9x.cloudfront.net/cast_audio/pp38_refactoring.mp3', published=datetime.datetime(2021, 12, 30, 23, 0), title='Refactoring'),\n",
       " EpisodeInDb(index=38, guid='b1b27014-7847-4457-b655-9e2340ddd4b7', audio='https://d2mmy4gxasde9x.cloudfront.net/cast_audio/pp_39_dOtx9aw.mp3', published=datetime.datetime(2022, 1, 30, 23, 0), title='HTMX')]"
      ]
     },
     "execution_count": 19,
     "metadata": {},
     "output_type": "execute_result"
    }
   ],
   "source": [
    "parse_file_as(list[EpisodeInDb], episode_repo.path)"
   ]
  },
  {
   "cell_type": "code",
   "execution_count": null,
   "id": "b25e7fc5-d1d6-4431-b210-3b6da7c1952d",
   "metadata": {},
   "outputs": [],
   "source": [
    "{model.pk: model for model in parse_file_as(list[self.storage_model_type], self.path)}"
   ]
  },
  {
   "cell_type": "code",
   "execution_count": 15,
   "id": "0c32a740-2c79-416d-ad1e-6f268dddfbc4",
   "metadata": {},
   "outputs": [
    {
     "ename": "ValidationError",
     "evalue": "38 validation errors for ParsingModel[list[castle.repository.EpisodeListInDb]]\n__root__ -> 0 -> __root__\n  value is not a valid list (type=type_error.list)\n__root__ -> 1 -> __root__\n  value is not a valid list (type=type_error.list)\n__root__ -> 2 -> __root__\n  value is not a valid list (type=type_error.list)\n__root__ -> 3 -> __root__\n  value is not a valid list (type=type_error.list)\n__root__ -> 4 -> __root__\n  value is not a valid list (type=type_error.list)\n__root__ -> 5 -> __root__\n  value is not a valid list (type=type_error.list)\n__root__ -> 6 -> __root__\n  value is not a valid list (type=type_error.list)\n__root__ -> 7 -> __root__\n  value is not a valid list (type=type_error.list)\n__root__ -> 8 -> __root__\n  value is not a valid list (type=type_error.list)\n__root__ -> 9 -> __root__\n  value is not a valid list (type=type_error.list)\n__root__ -> 10 -> __root__\n  value is not a valid list (type=type_error.list)\n__root__ -> 11 -> __root__\n  value is not a valid list (type=type_error.list)\n__root__ -> 12 -> __root__\n  value is not a valid list (type=type_error.list)\n__root__ -> 13 -> __root__\n  value is not a valid list (type=type_error.list)\n__root__ -> 14 -> __root__\n  value is not a valid list (type=type_error.list)\n__root__ -> 15 -> __root__\n  value is not a valid list (type=type_error.list)\n__root__ -> 16 -> __root__\n  value is not a valid list (type=type_error.list)\n__root__ -> 17 -> __root__\n  value is not a valid list (type=type_error.list)\n__root__ -> 18 -> __root__\n  value is not a valid list (type=type_error.list)\n__root__ -> 19 -> __root__\n  value is not a valid list (type=type_error.list)\n__root__ -> 20 -> __root__\n  value is not a valid list (type=type_error.list)\n__root__ -> 21 -> __root__\n  value is not a valid list (type=type_error.list)\n__root__ -> 22 -> __root__\n  value is not a valid list (type=type_error.list)\n__root__ -> 23 -> __root__\n  value is not a valid list (type=type_error.list)\n__root__ -> 24 -> __root__\n  value is not a valid list (type=type_error.list)\n__root__ -> 25 -> __root__\n  value is not a valid list (type=type_error.list)\n__root__ -> 26 -> __root__\n  value is not a valid list (type=type_error.list)\n__root__ -> 27 -> __root__\n  value is not a valid list (type=type_error.list)\n__root__ -> 28 -> __root__\n  value is not a valid list (type=type_error.list)\n__root__ -> 29 -> __root__\n  value is not a valid list (type=type_error.list)\n__root__ -> 30 -> __root__\n  value is not a valid list (type=type_error.list)\n__root__ -> 31 -> __root__\n  value is not a valid list (type=type_error.list)\n__root__ -> 32 -> __root__\n  value is not a valid list (type=type_error.list)\n__root__ -> 33 -> __root__\n  value is not a valid list (type=type_error.list)\n__root__ -> 34 -> __root__\n  value is not a valid list (type=type_error.list)\n__root__ -> 35 -> __root__\n  value is not a valid list (type=type_error.list)\n__root__ -> 36 -> __root__\n  value is not a valid list (type=type_error.list)\n__root__ -> 37 -> __root__\n  value is not a valid list (type=type_error.list)",
     "output_type": "error",
     "traceback": [
      "\u001b[0;31m---------------------------------------------------------------------------\u001b[0m",
      "\u001b[0;31mValidationError\u001b[0m                           Traceback (most recent call last)",
      "Input \u001b[0;32mIn [15]\u001b[0m, in \u001b[0;36m<module>\u001b[0;34m\u001b[0m\n\u001b[0;32m----> 1\u001b[0m \u001b[43mepisode_repo\u001b[49m\u001b[38;5;241;43m.\u001b[39;49m\u001b[43mlist\u001b[49m\u001b[43m(\u001b[49m\u001b[43m)\u001b[49m\n",
      "File \u001b[0;32m~/.virtualenvs/castle/lib/python3.10/site-packages/castle/repository.py:118\u001b[0m, in \u001b[0;36mEpisodeRepository.list\u001b[0;34m(self)\u001b[0m\n\u001b[1;32m    114\u001b[0m \u001b[38;5;28;01mdef\u001b[39;00m \u001b[38;5;21mlist\u001b[39m(\u001b[38;5;28mself\u001b[39m):\n\u001b[1;32m    115\u001b[0m     \u001b[38;5;124;03m\"\"\"\u001b[39;00m\n\u001b[1;32m    116\u001b[0m \u001b[38;5;124;03m    Build domain episodes from stored list of episodes.\u001b[39;00m\n\u001b[1;32m    117\u001b[0m \u001b[38;5;124;03m    \"\"\"\u001b[39;00m\n\u001b[0;32m--> 118\u001b[0m     \u001b[38;5;28;01mreturn\u001b[39;00m [Episode\u001b[38;5;241m.\u001b[39mfrom_dict(episode\u001b[38;5;241m.\u001b[39mdict() \u001b[38;5;241m|\u001b[39m {\u001b[38;5;124m\"\u001b[39m\u001b[38;5;124mpodcast\u001b[39m\u001b[38;5;124m\"\u001b[39m: \u001b[38;5;28mself\u001b[39m\u001b[38;5;241m.\u001b[39mpodcast}) \u001b[38;5;28;01mfor\u001b[39;00m episode \u001b[38;5;129;01min\u001b[39;00m \u001b[38;5;28;43mself\u001b[39;49m\u001b[38;5;241;43m.\u001b[39;49m\u001b[43mall\u001b[49m]\n",
      "File \u001b[0;32m~/.virtualenvs/castle/lib/python3.10/site-packages/castle/repository.py:95\u001b[0m, in \u001b[0;36mJsonRepository.all\u001b[0;34m(self)\u001b[0m\n\u001b[1;32m     91\u001b[0m \u001b[38;5;124;03m\"\"\"\u001b[39;00m\n\u001b[1;32m     92\u001b[0m \u001b[38;5;124;03mCache fetching all models from file.\u001b[39;00m\n\u001b[1;32m     93\u001b[0m \u001b[38;5;124;03m\"\"\"\u001b[39;00m\n\u001b[1;32m     94\u001b[0m \u001b[38;5;28;01mif\u001b[39;00m \u001b[38;5;28mself\u001b[39m\u001b[38;5;241m.\u001b[39m_all \u001b[38;5;129;01mis\u001b[39;00m \u001b[38;5;28;01mNone\u001b[39;00m:\n\u001b[0;32m---> 95\u001b[0m     \u001b[38;5;28mself\u001b[39m\u001b[38;5;241m.\u001b[39m_all \u001b[38;5;241m=\u001b[39m \u001b[38;5;28;43mself\u001b[39;49m\u001b[38;5;241;43m.\u001b[39;49m\u001b[43m_fetch_all\u001b[49m\u001b[43m(\u001b[49m\u001b[43m)\u001b[49m\n\u001b[1;32m     96\u001b[0m \u001b[38;5;28;01mreturn\u001b[39;00m \u001b[38;5;28mself\u001b[39m\u001b[38;5;241m.\u001b[39m_all\n",
      "File \u001b[0;32m~/.virtualenvs/castle/lib/python3.10/site-packages/castle/repository.py:85\u001b[0m, in \u001b[0;36mJsonRepository._fetch_all\u001b[0;34m(self)\u001b[0m\n\u001b[1;32m     81\u001b[0m \u001b[38;5;124;03m\"\"\"\u001b[39;00m\n\u001b[1;32m     82\u001b[0m \u001b[38;5;124;03mFetch dict of pydantic models from json in self.path\u001b[39;00m\n\u001b[1;32m     83\u001b[0m \u001b[38;5;124;03m\"\"\"\u001b[39;00m\n\u001b[1;32m     84\u001b[0m \u001b[38;5;28;01mtry\u001b[39;00m:\n\u001b[0;32m---> 85\u001b[0m     \u001b[38;5;28;01mreturn\u001b[39;00m {model\u001b[38;5;241m.\u001b[39mpk: model \u001b[38;5;28;01mfor\u001b[39;00m model \u001b[38;5;129;01min\u001b[39;00m \u001b[43mparse_file_as\u001b[49m\u001b[43m(\u001b[49m\u001b[38;5;28;43mlist\u001b[39;49m\u001b[43m[\u001b[49m\u001b[38;5;28;43mself\u001b[39;49m\u001b[38;5;241;43m.\u001b[39;49m\u001b[43mstorage_model_type\u001b[49m\u001b[43m]\u001b[49m\u001b[43m,\u001b[49m\u001b[43m \u001b[49m\u001b[38;5;28;43mself\u001b[39;49m\u001b[38;5;241;43m.\u001b[39;49m\u001b[43mpath\u001b[49m\u001b[43m)\u001b[49m}\n\u001b[1;32m     86\u001b[0m \u001b[38;5;28;01mexcept\u001b[39;00m \u001b[38;5;167;01mFileNotFoundError\u001b[39;00m:\n\u001b[1;32m     87\u001b[0m     \u001b[38;5;28;01mreturn\u001b[39;00m {}\n",
      "File \u001b[0;32m~/.virtualenvs/castle/lib/python3.10/site-packages/pydantic/tools.py:60\u001b[0m, in \u001b[0;36mpydantic.tools.parse_file_as\u001b[0;34m()\u001b[0m\n",
      "File \u001b[0;32m~/.virtualenvs/castle/lib/python3.10/site-packages/pydantic/tools.py:38\u001b[0m, in \u001b[0;36mpydantic.tools.parse_obj_as\u001b[0;34m()\u001b[0m\n",
      "File \u001b[0;32m~/.virtualenvs/castle/lib/python3.10/site-packages/pydantic/main.py:331\u001b[0m, in \u001b[0;36mpydantic.main.BaseModel.__init__\u001b[0;34m()\u001b[0m\n",
      "\u001b[0;31mValidationError\u001b[0m: 38 validation errors for ParsingModel[list[castle.repository.EpisodeListInDb]]\n__root__ -> 0 -> __root__\n  value is not a valid list (type=type_error.list)\n__root__ -> 1 -> __root__\n  value is not a valid list (type=type_error.list)\n__root__ -> 2 -> __root__\n  value is not a valid list (type=type_error.list)\n__root__ -> 3 -> __root__\n  value is not a valid list (type=type_error.list)\n__root__ -> 4 -> __root__\n  value is not a valid list (type=type_error.list)\n__root__ -> 5 -> __root__\n  value is not a valid list (type=type_error.list)\n__root__ -> 6 -> __root__\n  value is not a valid list (type=type_error.list)\n__root__ -> 7 -> __root__\n  value is not a valid list (type=type_error.list)\n__root__ -> 8 -> __root__\n  value is not a valid list (type=type_error.list)\n__root__ -> 9 -> __root__\n  value is not a valid list (type=type_error.list)\n__root__ -> 10 -> __root__\n  value is not a valid list (type=type_error.list)\n__root__ -> 11 -> __root__\n  value is not a valid list (type=type_error.list)\n__root__ -> 12 -> __root__\n  value is not a valid list (type=type_error.list)\n__root__ -> 13 -> __root__\n  value is not a valid list (type=type_error.list)\n__root__ -> 14 -> __root__\n  value is not a valid list (type=type_error.list)\n__root__ -> 15 -> __root__\n  value is not a valid list (type=type_error.list)\n__root__ -> 16 -> __root__\n  value is not a valid list (type=type_error.list)\n__root__ -> 17 -> __root__\n  value is not a valid list (type=type_error.list)\n__root__ -> 18 -> __root__\n  value is not a valid list (type=type_error.list)\n__root__ -> 19 -> __root__\n  value is not a valid list (type=type_error.list)\n__root__ -> 20 -> __root__\n  value is not a valid list (type=type_error.list)\n__root__ -> 21 -> __root__\n  value is not a valid list (type=type_error.list)\n__root__ -> 22 -> __root__\n  value is not a valid list (type=type_error.list)\n__root__ -> 23 -> __root__\n  value is not a valid list (type=type_error.list)\n__root__ -> 24 -> __root__\n  value is not a valid list (type=type_error.list)\n__root__ -> 25 -> __root__\n  value is not a valid list (type=type_error.list)\n__root__ -> 26 -> __root__\n  value is not a valid list (type=type_error.list)\n__root__ -> 27 -> __root__\n  value is not a valid list (type=type_error.list)\n__root__ -> 28 -> __root__\n  value is not a valid list (type=type_error.list)\n__root__ -> 29 -> __root__\n  value is not a valid list (type=type_error.list)\n__root__ -> 30 -> __root__\n  value is not a valid list (type=type_error.list)\n__root__ -> 31 -> __root__\n  value is not a valid list (type=type_error.list)\n__root__ -> 32 -> __root__\n  value is not a valid list (type=type_error.list)\n__root__ -> 33 -> __root__\n  value is not a valid list (type=type_error.list)\n__root__ -> 34 -> __root__\n  value is not a valid list (type=type_error.list)\n__root__ -> 35 -> __root__\n  value is not a valid list (type=type_error.list)\n__root__ -> 36 -> __root__\n  value is not a valid list (type=type_error.list)\n__root__ -> 37 -> __root__\n  value is not a valid list (type=type_error.list)"
     ]
    }
   ],
   "source": [
    "episode_repo.list()"
   ]
  },
  {
   "cell_type": "code",
   "execution_count": null,
   "id": "cb727bc0-7271-460f-8ca0-f251043012f2",
   "metadata": {},
   "outputs": [],
   "source": []
  }
 ],
 "metadata": {
  "kernelspec": {
   "display_name": "Python 3 (ipykernel)",
   "language": "python",
   "name": "python3"
  },
  "language_info": {
   "codemirror_mode": {
    "name": "ipython",
    "version": 3
   },
   "file_extension": ".py",
   "mimetype": "text/x-python",
   "name": "python",
   "nbconvert_exporter": "python",
   "pygments_lexer": "ipython3",
   "version": "3.10.2"
  }
 },
 "nbformat": 4,
 "nbformat_minor": 5
}
