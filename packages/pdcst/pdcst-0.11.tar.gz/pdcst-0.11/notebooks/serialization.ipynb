{
 "cells": [
  {
   "cell_type": "code",
   "execution_count": 1,
   "id": "3072b38f-27a7-491c-82fe-5fb563a7cd4f",
   "metadata": {},
   "outputs": [],
   "source": [
    "from datetime import datetime\n",
    "from typing import List\n",
    "\n",
    "from pydantic import BaseModel\n",
    "\n",
    "from pdcst.repository import PodcastInDb, EpisodeInDb, FeedInDb"
   ]
  },
  {
   "cell_type": "code",
   "execution_count": 2,
   "id": "9aeb524c-faca-43f5-802a-3e65b59cd36d",
   "metadata": {},
   "outputs": [],
   "source": [
    "updated1 = datetime(2022, 1, 1)\n",
    "feed1 = FeedInDb(url=\"https://example.com/rss.xml\", updated=updated1)\n",
    "podcast1 = PodcastInDb(feed=feed1, title=\"Python Podcast\")\n",
    "\n",
    "updated2 = datetime(2022, 2, 1)\n",
    "feed2 = FeedInDb(url=\"https://foobar.com/atom.xml\", updated=updated2)\n",
    "podcast2 = PodcastInDb(feed=feed2, title=\"Foo Bar\")"
   ]
  },
  {
   "cell_type": "code",
   "execution_count": 4,
   "id": "3b053a43-39c0-4116-b7b0-d1f68de62d4a",
   "metadata": {},
   "outputs": [
    {
     "data": {
      "text/plain": [
       "'{\"feed\": {\"url\": \"https://example.com/rss.xml\", \"updated\": \"2022-01-01T00:00:00\"}, \"title\": \"Python Podcast\"}'"
      ]
     },
     "execution_count": 4,
     "metadata": {},
     "output_type": "execute_result"
    }
   ],
   "source": [
    "podcast1.json()"
   ]
  },
  {
   "cell_type": "code",
   "execution_count": 5,
   "id": "02ad9622-893b-4f51-a008-35221946282e",
   "metadata": {},
   "outputs": [
    {
     "data": {
      "text/plain": [
       "{'feed': {'url': 'https://example.com/rss.xml',\n",
       "  'updated': datetime.datetime(2022, 1, 1, 0, 0)},\n",
       " 'title': 'Python Podcast',\n",
       " 'episodes': []}"
      ]
     },
     "execution_count": 5,
     "metadata": {},
     "output_type": "execute_result"
    }
   ],
   "source": [
    "podcast.dict()"
   ]
  },
  {
   "cell_type": "code",
   "execution_count": 6,
   "id": "04973bb9-b466-425a-af71-853f8a0b38d0",
   "metadata": {},
   "outputs": [],
   "source": [
    "class PodcastList(BaseModel):\n",
    "    __root__: List[PodcastInDb]"
   ]
  },
  {
   "cell_type": "code",
   "execution_count": 7,
   "id": "68193ddb-45d6-4440-95da-9d5f91867384",
   "metadata": {},
   "outputs": [],
   "source": [
    "pl = PodcastList(__root__=[podcast1, podcast2])"
   ]
  },
  {
   "cell_type": "code",
   "execution_count": 8,
   "id": "541f972a-b3d6-4c3f-897c-0b79599ea9f2",
   "metadata": {},
   "outputs": [
    {
     "data": {
      "text/plain": [
       "'[{\"feed\": {\"url\": \"https://example.com/rss.xml\", \"updated\": \"2022-01-01T00:00:00\"}, \"title\": \"Python Podcast\"}, {\"feed\": {\"url\": \"https://foobar.com/atom.xml\", \"updated\": \"2022-02-01T00:00:00\"}, \"title\": \"Foo Bar\"}]'"
      ]
     },
     "execution_count": 8,
     "metadata": {},
     "output_type": "execute_result"
    }
   ],
   "source": [
    "pl.json()"
   ]
  },
  {
   "cell_type": "code",
   "execution_count": 16,
   "id": "a7904cfa-c0a6-4a30-b30b-4e7497f93ebd",
   "metadata": {},
   "outputs": [
    {
     "data": {
      "text/plain": [
       "'[{\"feed\": {\"url\": \"https://example.com/rss.xml\", \"updated\": \"2022-01-01T00:00:00\"}, \"title\": \"Python Podcast\", \"episodes\": []}, {\"feed\": {\"url\": \"https://foobar.com/atom.xml\", \"updated\": \"2022-02-01T00:00:00\"}, \"title\": \"Foo Bar\", \"episodes\": []}]'"
      ]
     },
     "execution_count": 16,
     "metadata": {},
     "output_type": "execute_result"
    }
   ],
   "source": [
    "pl.json(exclude={\"episodes\"})"
   ]
  },
  {
   "cell_type": "code",
   "execution_count": 10,
   "id": "f7f327dd-1201-460e-bd1b-0070f9dd1c3b",
   "metadata": {},
   "outputs": [
    {
     "data": {
      "text/plain": [
       "[('__root__',\n",
       "  [PodcastInDb(feed=FeedInDb(url='https://example.com/rss.xml', updated=datetime.datetime(2022, 1, 1, 0, 0)), title='Python Podcast'),\n",
       "   PodcastInDb(feed=FeedInDb(url='https://foobar.com/atom.xml', updated=datetime.datetime(2022, 2, 1, 0, 0)), title='Foo Bar')])]"
      ]
     },
     "execution_count": 10,
     "metadata": {},
     "output_type": "execute_result"
    }
   ],
   "source": [
    "list(pl)"
   ]
  },
  {
   "cell_type": "code",
   "execution_count": 12,
   "id": "d97c3724-a96a-45b3-b0ec-2765c6809b3f",
   "metadata": {},
   "outputs": [
    {
     "name": "stdout",
     "output_type": "stream",
     "text": [
      "1 0\n",
      "2 1\n",
      "3 2\n",
      "4 3\n",
      "5 4\n",
      "6 5\n",
      "7 6\n",
      "8 7\n",
      "9 8\n",
      "10 9\n"
     ]
    }
   ],
   "source": [
    "for index, i in enumerate(range(10), 1):\n",
    "    print(index, i)"
   ]
  },
  {
   "cell_type": "code",
   "execution_count": null,
   "id": "e8d1b510-95b0-491a-a5f7-8e5eeb34312b",
   "metadata": {},
   "outputs": [],
   "source": []
  }
 ],
 "metadata": {
  "kernelspec": {
   "display_name": "Python 3 (ipykernel)",
   "language": "python",
   "name": "python3"
  },
  "language_info": {
   "codemirror_mode": {
    "name": "ipython",
    "version": 3
   },
   "file_extension": ".py",
   "mimetype": "text/x-python",
   "name": "python",
   "nbconvert_exporter": "python",
   "pygments_lexer": "ipython3",
   "version": "3.10.2"
  }
 },
 "nbformat": 4,
 "nbformat_minor": 5
}
