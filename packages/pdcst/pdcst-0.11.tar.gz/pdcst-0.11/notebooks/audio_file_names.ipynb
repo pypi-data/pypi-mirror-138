{
 "cells": [
  {
   "cell_type": "code",
   "execution_count": 1,
   "id": "9b378c9c-2853-4221-b159-5567a4fbb86d",
   "metadata": {},
   "outputs": [],
   "source": [
    "from pdcst import list_all_podcasts, subscribe, Podcast"
   ]
  },
  {
   "cell_type": "code",
   "execution_count": 2,
   "id": "0d6863e3-45ae-44c9-a9a8-f779bf1df029",
   "metadata": {},
   "outputs": [],
   "source": [
    "import os"
   ]
  },
  {
   "cell_type": "code",
   "execution_count": 3,
   "id": "08929468-96fc-4998-b3e6-43ecb68ed359",
   "metadata": {},
   "outputs": [],
   "source": [
    "podcasts = list_all_podcasts()"
   ]
  },
  {
   "cell_type": "code",
   "execution_count": 4,
   "id": "d625f80f-7a9a-4eae-b1a6-d7e12fb05e47",
   "metadata": {},
   "outputs": [
    {
     "data": {
      "text/plain": [
       "[]"
      ]
     },
     "execution_count": 4,
     "metadata": {},
     "output_type": "execute_result"
    }
   ],
   "source": [
    "podcasts"
   ]
  },
  {
   "cell_type": "code",
   "execution_count": 5,
   "id": "5274ebd6-a221-4bfe-b5b7-6d88e7b4edd7",
   "metadata": {},
   "outputs": [
    {
     "name": "stdout",
     "output_type": "stream",
     "text": [
      "{'index': 1, 'guid': 'e2907be0-8199-466c-bd12-cd1a6bb12f3c', 'audio': 'https://d2mmy4gxasde9x.cloudfront.net/cast_audio/pp_01.mp3', 'published': datetime.datetime(2018, 12, 1, 0, 0), 'title': 'PP01 - Die erste Sendung', 'podcast': Python Podcast - 38 episodes}\n",
      "[Python Podcast - 38 episodes, 1, 'e2907be0-8199-466c-bd12-cd1a6bb12f3c', 'https://d2mmy4gxasde9x.cloudfront.net/cast_audio/pp_01.mp3', datetime.datetime(2018, 12, 1, 0, 0), 'PP01 - Die erste Sendung']\n",
      "{'index': 2, 'guid': '3761c305-6983-4eeb-ab72-e7f7a0bee46d', 'audio': 'https://d2mmy4gxasde9x.cloudfront.net/cast_audio/pp-02.mp3', 'published': datetime.datetime(2018, 12, 19, 23, 0), 'title': 'PP02 - Django', 'podcast': Python Podcast - 38 episodes}\n",
      "[Python Podcast - 38 episodes, 2, '3761c305-6983-4eeb-ab72-e7f7a0bee46d', 'https://d2mmy4gxasde9x.cloudfront.net/cast_audio/pp-02.mp3', datetime.datetime(2018, 12, 19, 23, 0), 'PP02 - Django']\n",
      "{'index': 3, 'guid': 'e224dff1-32e8-4f87-8c73-ded96444c576', 'audio': 'https://d2mmy4gxasde9x.cloudfront.net/cast_audio/pp_03.mp3', 'published': datetime.datetime(2018, 12, 24, 0, 0), 'title': 'PP03 - Weihnachtsfolge', 'podcast': Python Podcast - 38 episodes}\n",
      "[Python Podcast - 38 episodes, 3, 'e224dff1-32e8-4f87-8c73-ded96444c576', 'https://d2mmy4gxasde9x.cloudfront.net/cast_audio/pp_03.mp3', datetime.datetime(2018, 12, 24, 0, 0), 'PP03 - Weihnachtsfolge']\n",
      "{'index': 4, 'guid': 'c83f21b7-46ad-4f30-a234-327e977e4e56', 'audio': 'https://d2mmy4gxasde9x.cloudfront.net/cast_audio/pp_04.mp3', 'published': datetime.datetime(2019, 2, 20, 0, 0), 'title': 'PP04 - Python für Einsteiger', 'podcast': Python Podcast - 38 episodes}\n",
      "[Python Podcast - 38 episodes, 4, 'c83f21b7-46ad-4f30-a234-327e977e4e56', 'https://d2mmy4gxasde9x.cloudfront.net/cast_audio/pp_04.mp3', datetime.datetime(2019, 2, 20, 0, 0), 'PP04 - Python für Einsteiger']\n",
      "{'index': 5, 'guid': '2f565a04-b0a1-4e08-892f-536a9c0b8e63', 'audio': 'https://d2mmy4gxasde9x.cloudfront.net/cast_audio/pp05.mp3', 'published': datetime.datetime(2019, 2, 25, 0, 0), 'title': 'PP05 - Datenbanken', 'podcast': Python Podcast - 38 episodes}\n",
      "[Python Podcast - 38 episodes, 5, '2f565a04-b0a1-4e08-892f-536a9c0b8e63', 'https://d2mmy4gxasde9x.cloudfront.net/cast_audio/pp05.mp3', datetime.datetime(2019, 2, 25, 0, 0), 'PP05 - Datenbanken']\n",
      "{'index': 6, 'guid': 'a2a706c3-7274-4b08-9277-4ed816f36408', 'audio': 'https://d2mmy4gxasde9x.cloudfront.net/cast_audio/pp_06.mp3', 'published': datetime.datetime(2019, 3, 19, 0, 0), 'title': 'PP06 - Pandas', 'podcast': Python Podcast - 38 episodes}\n",
      "[Python Podcast - 38 episodes, 6, 'a2a706c3-7274-4b08-9277-4ed816f36408', 'https://d2mmy4gxasde9x.cloudfront.net/cast_audio/pp_06.mp3', datetime.datetime(2019, 3, 19, 0, 0), 'PP06 - Pandas']\n",
      "{'index': 7, 'guid': '17882456-f436-492b-8d69-8ed66877c891', 'audio': 'https://d2mmy4gxasde9x.cloudfront.net/cast_audio/pp_07.mp3', 'published': datetime.datetime(2019, 4, 18, 1, 0), 'title': 'PP07 - Machine Learning am Beispiel Textklassifikation', 'podcast': Python Podcast - 38 episodes}\n",
      "[Python Podcast - 38 episodes, 7, '17882456-f436-492b-8d69-8ed66877c891', 'https://d2mmy4gxasde9x.cloudfront.net/cast_audio/pp_07.mp3', datetime.datetime(2019, 4, 18, 1, 0), 'PP07 - Machine Learning am Beispiel Textklassifikation']\n",
      "{'index': 8, 'guid': '318e301c-874d-4c8c-8b0f-a808a11d4e0f', 'audio': 'https://d2mmy4gxasde9x.cloudfront.net/cast_audio/pp_08.mp3', 'published': datetime.datetime(2019, 5, 2, 1, 0), 'title': 'PP08 - Machine Learning am Beispiel Bildklassifikation', 'podcast': Python Podcast - 38 episodes}\n",
      "[Python Podcast - 38 episodes, 8, '318e301c-874d-4c8c-8b0f-a808a11d4e0f', 'https://d2mmy4gxasde9x.cloudfront.net/cast_audio/pp_08.mp3', datetime.datetime(2019, 5, 2, 1, 0), 'PP08 - Machine Learning am Beispiel Bildklassifikation']\n",
      "{'index': 9, 'guid': '766691d7-bdf5-4e63-a742-b05d16b6937b', 'audio': 'https://d2mmy4gxasde9x.cloudfront.net/cast_audio/pp_09.mp3', 'published': datetime.datetime(2019, 5, 21, 1, 0), 'title': 'Content Management mit Django - Wagtail', 'podcast': Python Podcast - 38 episodes}\n",
      "[Python Podcast - 38 episodes, 9, '766691d7-bdf5-4e63-a742-b05d16b6937b', 'https://d2mmy4gxasde9x.cloudfront.net/cast_audio/pp_09.mp3', datetime.datetime(2019, 5, 21, 1, 0), 'Content Management mit Django - Wagtail']\n",
      "{'index': 10, 'guid': '61cfb5d5-e3f1-4f7c-a54d-122e40bd357e', 'audio': 'https://d2mmy4gxasde9x.cloudfront.net/cast_audio/pp_10.mp3', 'published': datetime.datetime(2019, 5, 28, 23, 0), 'title': 'Devops', 'podcast': Python Podcast - 38 episodes}\n",
      "[Python Podcast - 38 episodes, 10, '61cfb5d5-e3f1-4f7c-a54d-122e40bd357e', 'https://d2mmy4gxasde9x.cloudfront.net/cast_audio/pp_10.mp3', datetime.datetime(2019, 5, 28, 23, 0), 'Devops']\n",
      "{'index': 11, 'guid': '820db0bd-5471-44b0-9ea0-cfb04cd51c12', 'audio': 'https://d2mmy4gxasde9x.cloudfront.net/cast_audio/pp_11_E273mH5.mp3', 'published': datetime.datetime(2019, 6, 30, 23, 0), 'title': 'Python in der Wissenschaft', 'podcast': Python Podcast - 38 episodes}\n",
      "[Python Podcast - 38 episodes, 11, '820db0bd-5471-44b0-9ea0-cfb04cd51c12', 'https://d2mmy4gxasde9x.cloudfront.net/cast_audio/pp_11_E273mH5.mp3', datetime.datetime(2019, 6, 30, 23, 0), 'Python in der Wissenschaft']\n",
      "{'index': 12, 'guid': 'b4d38355-ddac-4e2e-874f-be713940fd91', 'audio': 'https://d2mmy4gxasde9x.cloudfront.net/cast_audio/pp_12.mp3', 'published': datetime.datetime(2019, 7, 30, 23, 0), 'title': 'Deployment von Webapplikationen', 'podcast': Python Podcast - 38 episodes}\n",
      "[Python Podcast - 38 episodes, 12, 'b4d38355-ddac-4e2e-874f-be713940fd91', 'https://d2mmy4gxasde9x.cloudfront.net/cast_audio/pp_12.mp3', datetime.datetime(2019, 7, 30, 23, 0), 'Deployment von Webapplikationen']\n",
      "{'index': 13, 'guid': '611d92e8-41dc-4eb8-87c4-adc38077030a', 'audio': 'https://d2mmy4gxasde9x.cloudfront.net/cast_audio/pp_13.mp3', 'published': datetime.datetime(2019, 8, 27, 23, 0), 'title': 'Naive Bayes', 'podcast': Python Podcast - 38 episodes}\n",
      "[Python Podcast - 38 episodes, 13, '611d92e8-41dc-4eb8-87c4-adc38077030a', 'https://d2mmy4gxasde9x.cloudfront.net/cast_audio/pp_13.mp3', datetime.datetime(2019, 8, 27, 23, 0), 'Naive Bayes']\n",
      "{'index': 14, 'guid': '34234b8d-cfbc-4c2d-92de-bfa201097d06', 'audio': 'https://d2mmy4gxasde9x.cloudfront.net/cast_audio/pp_14.mp3', 'published': datetime.datetime(2019, 11, 12, 23, 0), 'title': 'Python 3.8', 'podcast': Python Podcast - 38 episodes}\n",
      "[Python Podcast - 38 episodes, 14, '34234b8d-cfbc-4c2d-92de-bfa201097d06', 'https://d2mmy4gxasde9x.cloudfront.net/cast_audio/pp_14.mp3', datetime.datetime(2019, 11, 12, 23, 0), 'Python 3.8']\n",
      "{'index': 15, 'guid': '0938b052-f8bb-4f1e-809d-7727e0056fd3', 'audio': 'https://d2mmy4gxasde9x.cloudfront.net/cast_audio/pp_15_HrP9n1F.mp3', 'published': datetime.datetime(2019, 12, 15, 23, 0), 'title': 'Fragen über Fragen', 'podcast': Python Podcast - 38 episodes}\n",
      "[Python Podcast - 38 episodes, 15, '0938b052-f8bb-4f1e-809d-7727e0056fd3', 'https://d2mmy4gxasde9x.cloudfront.net/cast_audio/pp_15_HrP9n1F.mp3', datetime.datetime(2019, 12, 15, 23, 0), 'Fragen über Fragen']\n",
      "{'index': 16, 'guid': '4f283d30-c96e-4fb2-9edb-d6c7bdb998e7', 'audio': 'https://d2mmy4gxasde9x.cloudfront.net/cast_audio/pp_17_z3V7Jjh.mp3', 'published': datetime.datetime(2020, 2, 3, 23, 0), 'title': 'Python Entwicklungsumgebung 2020 Edition', 'podcast': Python Podcast - 38 episodes}\n",
      "[Python Podcast - 38 episodes, 16, '4f283d30-c96e-4fb2-9edb-d6c7bdb998e7', 'https://d2mmy4gxasde9x.cloudfront.net/cast_audio/pp_17_z3V7Jjh.mp3', datetime.datetime(2020, 2, 3, 23, 0), 'Python Entwicklungsumgebung 2020 Edition']\n",
      "{'index': 17, 'guid': '8ede0273-096e-475b-ab3f-38550b867b8a', 'audio': 'https://d2mmy4gxasde9x.cloudfront.net/cast_audio/pp_18_GSycQHb.mp3', 'published': datetime.datetime(2020, 2, 24, 23, 0), 'title': 'Suchmaschinen', 'podcast': Python Podcast - 38 episodes}\n",
      "[Python Podcast - 38 episodes, 17, '8ede0273-096e-475b-ab3f-38550b867b8a', 'https://d2mmy4gxasde9x.cloudfront.net/cast_audio/pp_18_GSycQHb.mp3', datetime.datetime(2020, 2, 24, 23, 0), 'Suchmaschinen']\n",
      "{'index': 18, 'guid': 'a73e8aaa-c5f7-4e65-8550-c47e2449e5c5', 'audio': 'https://d2mmy4gxasde9x.cloudfront.net/cast_audio/pp_19.mp3', 'published': datetime.datetime(2020, 3, 29, 23, 0), 'title': 'Corona aus der Data-Science Perspektive', 'podcast': Python Podcast - 38 episodes}\n",
      "[Python Podcast - 38 episodes, 18, 'a73e8aaa-c5f7-4e65-8550-c47e2449e5c5', 'https://d2mmy4gxasde9x.cloudfront.net/cast_audio/pp_19.mp3', datetime.datetime(2020, 3, 29, 23, 0), 'Corona aus der Data-Science Perspektive']\n",
      "{'index': 19, 'guid': 'a0424e39-40d1-407e-bbac-0d2496678937', 'audio': 'https://d2mmy4gxasde9x.cloudfront.net/cast_audio/pp20.mp3', 'published': datetime.datetime(2020, 4, 23, 23, 0), 'title': 'Javascript Frontends', 'podcast': Python Podcast - 38 episodes}\n",
      "[Python Podcast - 38 episodes, 19, 'a0424e39-40d1-407e-bbac-0d2496678937', 'https://d2mmy4gxasde9x.cloudfront.net/cast_audio/pp20.mp3', datetime.datetime(2020, 4, 23, 23, 0), 'Javascript Frontends']\n",
      "{'index': 20, 'guid': '736bac06-8909-4015-9460-5eb9ffa00e05', 'audio': 'https://d2mmy4gxasde9x.cloudfront.net/cast_audio/pp_21.mp3', 'published': datetime.datetime(2020, 5, 26, 23, 0), 'title': 'Open Source', 'podcast': Python Podcast - 38 episodes}\n",
      "[Python Podcast - 38 episodes, 20, '736bac06-8909-4015-9460-5eb9ffa00e05', 'https://d2mmy4gxasde9x.cloudfront.net/cast_audio/pp_21.mp3', datetime.datetime(2020, 5, 26, 23, 0), 'Open Source']\n",
      "{'index': 21, 'guid': '10833d54-ac2b-417a-8bff-828c5d00dcd3', 'audio': 'https://d2mmy4gxasde9x.cloudfront.net/cast_audio/pp22.mp3', 'published': datetime.datetime(2020, 6, 24, 23, 0), 'title': 'Projektmanagement - \"es ist alles nicht so einfach\"', 'podcast': Python Podcast - 38 episodes}\n",
      "[Python Podcast - 38 episodes, 21, '10833d54-ac2b-417a-8bff-828c5d00dcd3', 'https://d2mmy4gxasde9x.cloudfront.net/cast_audio/pp22.mp3', datetime.datetime(2020, 6, 24, 23, 0), 'Projektmanagement - \"es ist alles nicht so einfach\"']\n",
      "{'index': 22, 'guid': 'f83c687d-dc5d-4483-a58f-071f08992fd9', 'audio': 'https://d2mmy4gxasde9x.cloudfront.net/cast_audio/pp_23_dkPYjlc.mp3', 'published': datetime.datetime(2020, 7, 16, 23, 0), 'title': 'Python Async Teil 1 - am Beispiel von Django', 'podcast': Python Podcast - 38 episodes}\n",
      "[Python Podcast - 38 episodes, 22, 'f83c687d-dc5d-4483-a58f-071f08992fd9', 'https://d2mmy4gxasde9x.cloudfront.net/cast_audio/pp_23_dkPYjlc.mp3', datetime.datetime(2020, 7, 16, 23, 0), 'Python Async Teil 1 - am Beispiel von Django']\n",
      "{'index': 23, 'guid': '9d421c45-df08-40b9-8d28-5848aee65c05', 'audio': 'https://d2mmy4gxasde9x.cloudfront.net/cast_audio/pp24.mp3', 'published': datetime.datetime(2020, 8, 20, 23, 0), 'title': 'Tests', 'podcast': Python Podcast - 38 episodes}\n",
      "[Python Podcast - 38 episodes, 23, '9d421c45-df08-40b9-8d28-5848aee65c05', 'https://d2mmy4gxasde9x.cloudfront.net/cast_audio/pp24.mp3', datetime.datetime(2020, 8, 20, 23, 0), 'Tests']\n",
      "{'index': 24, 'guid': '6d855b03-aecd-4b96-a7b9-f2b2812a9506', 'audio': 'https://d2mmy4gxasde9x.cloudfront.net/cast_audio/pp_25.mp3', 'published': datetime.datetime(2020, 10, 20, 23, 0), 'title': 'Python 3.9 und Design Patterns (Teil 1)', 'podcast': Python Podcast - 38 episodes}\n",
      "[Python Podcast - 38 episodes, 24, '6d855b03-aecd-4b96-a7b9-f2b2812a9506', 'https://d2mmy4gxasde9x.cloudfront.net/cast_audio/pp_25.mp3', datetime.datetime(2020, 10, 20, 23, 0), 'Python 3.9 und Design Patterns (Teil 1)']\n",
      "{'index': 25, 'guid': 'ab2beaa4-269d-4c4e-8b67-65ecb5a46402', 'audio': 'https://d2mmy4gxasde9x.cloudfront.net/cast_audio/pp26.mp3', 'published': datetime.datetime(2020, 11, 27, 23, 0), 'title': 'Security', 'podcast': Python Podcast - 38 episodes}\n",
      "[Python Podcast - 38 episodes, 25, 'ab2beaa4-269d-4c4e-8b67-65ecb5a46402', 'https://d2mmy4gxasde9x.cloudfront.net/cast_audio/pp26.mp3', datetime.datetime(2020, 11, 27, 23, 0), 'Security']\n",
      "{'index': 26, 'guid': 'a2969eaf-3988-4010-b49f-4d39b9a9f944', 'audio': 'https://d2mmy4gxasde9x.cloudfront.net/cast_audio/pp_27.mp3', 'published': datetime.datetime(2020, 12, 13, 23, 0), 'title': 'Python Async Teil 2', 'podcast': Python Podcast - 38 episodes}\n",
      "[Python Podcast - 38 episodes, 26, 'a2969eaf-3988-4010-b49f-4d39b9a9f944', 'https://d2mmy4gxasde9x.cloudfront.net/cast_audio/pp_27.mp3', datetime.datetime(2020, 12, 13, 23, 0), 'Python Async Teil 2']\n",
      "{'index': 27, 'guid': 'bd064da9-73de-45bf-adae-ac08bf4b5cc8', 'audio': 'https://d2mmy4gxasde9x.cloudfront.net/cast_audio/pp_28.mp3', 'published': datetime.datetime(2020, 12, 28, 23, 0), 'title': 'Wins and Fails', 'podcast': Python Podcast - 38 episodes}\n",
      "[Python Podcast - 38 episodes, 27, 'bd064da9-73de-45bf-adae-ac08bf4b5cc8', 'https://d2mmy4gxasde9x.cloudfront.net/cast_audio/pp_28.mp3', datetime.datetime(2020, 12, 28, 23, 0), 'Wins and Fails']\n",
      "{'index': 28, 'guid': 'c9c175db-4f00-42a1-a3b7-d2cb600816fa', 'audio': 'https://d2mmy4gxasde9x.cloudfront.net/cast_audio/pp29.mp3', 'published': datetime.datetime(2021, 2, 18, 23, 0), 'title': 'Vermischtes über Data Science, Machine Learning und nbdev', 'podcast': Python Podcast - 38 episodes}\n",
      "[Python Podcast - 38 episodes, 28, 'c9c175db-4f00-42a1-a3b7-d2cb600816fa', 'https://d2mmy4gxasde9x.cloudfront.net/cast_audio/pp29.mp3', datetime.datetime(2021, 2, 18, 23, 0), 'Vermischtes über Data Science, Machine Learning und nbdev']\n",
      "{'index': 29, 'guid': 'f99b1968-8912-4010-b0b1-cedb193851c7', 'audio': 'https://d2mmy4gxasde9x.cloudfront.net/cast_audio/pp30.mp3', 'published': datetime.datetime(2021, 3, 5, 23, 0), 'title': 'REST', 'podcast': Python Podcast - 38 episodes}\n",
      "[Python Podcast - 38 episodes, 29, 'f99b1968-8912-4010-b0b1-cedb193851c7', 'https://d2mmy4gxasde9x.cloudfront.net/cast_audio/pp30.mp3', datetime.datetime(2021, 3, 5, 23, 0), 'REST']\n",
      "{'index': 30, 'guid': '983825f2-06c7-4b3f-bb60-718b80a60557', 'audio': 'https://d2mmy4gxasde9x.cloudfront.net/cast_audio/pp31.mp3', 'published': datetime.datetime(2021, 3, 28, 23, 0), 'title': 'Natural Language Processing mit spaCy', 'podcast': Python Podcast - 38 episodes}\n",
      "[Python Podcast - 38 episodes, 30, '983825f2-06c7-4b3f-bb60-718b80a60557', 'https://d2mmy4gxasde9x.cloudfront.net/cast_audio/pp31.mp3', datetime.datetime(2021, 3, 28, 23, 0), 'Natural Language Processing mit spaCy']\n",
      "{'index': 31, 'guid': '2ad4dc37-c998-4344-9343-61cdf8943609', 'audio': 'https://d2mmy4gxasde9x.cloudfront.net/cast_audio/pp_32_mqLEQ3S.mp3', 'published': datetime.datetime(2021, 4, 26, 23, 0), 'title': 'Python in der Visual Effects Branche', 'podcast': Python Podcast - 38 episodes}\n",
      "[Python Podcast - 38 episodes, 31, '2ad4dc37-c998-4344-9343-61cdf8943609', 'https://d2mmy4gxasde9x.cloudfront.net/cast_audio/pp_32_mqLEQ3S.mp3', datetime.datetime(2021, 4, 26, 23, 0), 'Python in der Visual Effects Branche']\n",
      "{'index': 32, 'guid': 'be8b2647-d31e-405b-b2c8-d135b81a9e9f', 'audio': 'https://d2mmy4gxasde9x.cloudfront.net/cast_audio/pp_33_nxfHwTT.mp3', 'published': datetime.datetime(2021, 6, 27, 23, 0), 'title': 'DjangoCon Europe 2021', 'podcast': Python Podcast - 38 episodes}\n",
      "[Python Podcast - 38 episodes, 32, 'be8b2647-d31e-405b-b2c8-d135b81a9e9f', 'https://d2mmy4gxasde9x.cloudfront.net/cast_audio/pp_33_nxfHwTT.mp3', datetime.datetime(2021, 6, 27, 23, 0), 'DjangoCon Europe 2021']\n",
      "{'index': 33, 'guid': 'c677fe51-8437-4ab3-88df-825f5d61cb98', 'audio': 'https://d2mmy4gxasde9x.cloudfront.net/cast_audio/pp_34.mp3', 'published': datetime.datetime(2021, 7, 4, 23, 0), 'title': 'Python Packaging', 'podcast': Python Podcast - 38 episodes}\n",
      "[Python Podcast - 38 episodes, 33, 'c677fe51-8437-4ab3-88df-825f5d61cb98', 'https://d2mmy4gxasde9x.cloudfront.net/cast_audio/pp_34.mp3', datetime.datetime(2021, 7, 4, 23, 0), 'Python Packaging']\n",
      "{'index': 34, 'guid': '9cf8b363-245f-4286-b4b1-1e9e0332dcac', 'audio': 'https://d2mmy4gxasde9x.cloudfront.net/cast_audio/pp_35.mp3', 'published': datetime.datetime(2021, 8, 10, 23, 0), 'title': 'Das Python Importsystem', 'podcast': Python Podcast - 38 episodes}\n",
      "[Python Podcast - 38 episodes, 34, '9cf8b363-245f-4286-b4b1-1e9e0332dcac', 'https://d2mmy4gxasde9x.cloudfront.net/cast_audio/pp_35.mp3', datetime.datetime(2021, 8, 10, 23, 0), 'Das Python Importsystem']\n",
      "{'index': 35, 'guid': '622bd057-ab85-4133-990f-e39b141b84d2', 'audio': 'https://d2mmy4gxasde9x.cloudfront.net/cast_audio/python_podcast_35.mp3', 'published': datetime.datetime(2021, 10, 27, 23, 0), 'title': 'Python 3.10', 'podcast': Python Podcast - 38 episodes}\n",
      "[Python Podcast - 38 episodes, 35, '622bd057-ab85-4133-990f-e39b141b84d2', 'https://d2mmy4gxasde9x.cloudfront.net/cast_audio/python_podcast_35.mp3', datetime.datetime(2021, 10, 27, 23, 0), 'Python 3.10']\n",
      "{'index': 36, 'guid': 'e8cdd0a3-3b42-46ac-97a8-fb15906a8b91', 'audio': 'https://d2mmy4gxasde9x.cloudfront.net/cast_audio/pp_37.mp3', 'published': datetime.datetime(2021, 11, 24, 23, 0), 'title': 'Was, wenn alles ein dict wäre?', 'podcast': Python Podcast - 38 episodes}\n",
      "[Python Podcast - 38 episodes, 36, 'e8cdd0a3-3b42-46ac-97a8-fb15906a8b91', 'https://d2mmy4gxasde9x.cloudfront.net/cast_audio/pp_37.mp3', datetime.datetime(2021, 11, 24, 23, 0), 'Was, wenn alles ein dict wäre?']\n",
      "{'index': 37, 'guid': 'dfd60a58-8bd3-4fe2-8dab-87f55093a0c7', 'audio': 'https://d2mmy4gxasde9x.cloudfront.net/cast_audio/pp38_refactoring.mp3', 'published': datetime.datetime(2021, 12, 30, 23, 0), 'title': 'Refactoring', 'podcast': Python Podcast - 38 episodes}\n",
      "[Python Podcast - 38 episodes, 37, 'dfd60a58-8bd3-4fe2-8dab-87f55093a0c7', 'https://d2mmy4gxasde9x.cloudfront.net/cast_audio/pp38_refactoring.mp3', datetime.datetime(2021, 12, 30, 23, 0), 'Refactoring']\n",
      "{'index': 38, 'guid': 'b1b27014-7847-4457-b655-9e2340ddd4b7', 'audio': 'https://d2mmy4gxasde9x.cloudfront.net/cast_audio/pp_39_dOtx9aw.mp3', 'published': datetime.datetime(2022, 1, 30, 23, 0), 'title': 'HTMX', 'podcast': Python Podcast - 38 episodes}\n",
      "[Python Podcast - 38 episodes, 38, 'b1b27014-7847-4457-b655-9e2340ddd4b7', 'https://d2mmy4gxasde9x.cloudfront.net/cast_audio/pp_39_dOtx9aw.mp3', datetime.datetime(2022, 1, 30, 23, 0), 'HTMX']\n"
     ]
    }
   ],
   "source": [
    "podcast = subscribe(\"https://python-podcast.de/show/feed/podcast/mp3/rss.xml\", name_pattern=Podcast.file_name_pattern)"
   ]
  },
  {
   "cell_type": "code",
   "execution_count": 6,
   "id": "9466ba3f-9802-4c7a-a0c5-a198aaa0c9d1",
   "metadata": {},
   "outputs": [],
   "source": [
    "episode = podcast.episodes[0]"
   ]
  },
  {
   "cell_type": "code",
   "execution_count": 7,
   "id": "7fc948ef-9611-4a8f-b8aa-424d4d8eaeb1",
   "metadata": {},
   "outputs": [
    {
     "name": "stdout",
     "output_type": "stream",
     "text": [
      "None\n"
     ]
    }
   ],
   "source": [
    "print(episode.audio_file_name)"
   ]
  },
  {
   "cell_type": "code",
   "execution_count": 8,
   "id": "498bfbc0-b552-4253-85b6-50f2d676bec7",
   "metadata": {},
   "outputs": [
    {
     "data": {
      "text/plain": [
       "{'index': 1,\n",
       " 'guid': 'e2907be0-8199-466c-bd12-cd1a6bb12f3c',\n",
       " 'audio': 'https://d2mmy4gxasde9x.cloudfront.net/cast_audio/pp_01.mp3',\n",
       " 'published': datetime.datetime(2018, 12, 1, 0, 0),\n",
       " 'title': 'PP01 - Die erste Sendung'}"
      ]
     },
     "execution_count": 8,
     "metadata": {},
     "output_type": "execute_result"
    }
   ],
   "source": [
    "episode.dict()"
   ]
  },
  {
   "cell_type": "code",
   "execution_count": 9,
   "id": "fc89e082-1b02-48a3-a6f3-e028883a37aa",
   "metadata": {},
   "outputs": [
    {
     "data": {
      "text/plain": [
       "1"
      ]
     },
     "execution_count": 9,
     "metadata": {},
     "output_type": "execute_result"
    }
   ],
   "source": [
    "episode.index"
   ]
  },
  {
   "cell_type": "code",
   "execution_count": 10,
   "id": "030bf598-2d58-425f-b90a-3b3ab8f96fee",
   "metadata": {},
   "outputs": [
    {
     "ename": "KeyError",
     "evalue": "'file_format'",
     "output_type": "error",
     "traceback": [
      "\u001b[0;31m---------------------------------------------------------------------------\u001b[0m",
      "\u001b[0;31mKeyError\u001b[0m                                  Traceback (most recent call last)",
      "Input \u001b[0;32mIn [10]\u001b[0m, in \u001b[0;36m<module>\u001b[0;34m\u001b[0m\n\u001b[0;32m----> 1\u001b[0m \u001b[43mPodcast\u001b[49m\u001b[38;5;241;43m.\u001b[39;49m\u001b[43mfile_name_pattern\u001b[49m\u001b[38;5;241;43m.\u001b[39;49m\u001b[43mformat\u001b[49m\u001b[43m(\u001b[49m\u001b[38;5;241;43m*\u001b[39;49m\u001b[38;5;241;43m*\u001b[39;49m\u001b[43mepisode\u001b[49m\u001b[38;5;241;43m.\u001b[39;49m\u001b[43mdict\u001b[49m\u001b[43m(\u001b[49m\u001b[43m)\u001b[49m\u001b[43m)\u001b[49m\n",
      "\u001b[0;31mKeyError\u001b[0m: 'file_format'"
     ]
    }
   ],
   "source": [
    "Podcast.file_name_pattern.format(**episode.dict())"
   ]
  },
  {
   "cell_type": "code",
   "execution_count": 11,
   "id": "0114f6c4-8378-4e1f-8290-333735a7f1a6",
   "metadata": {},
   "outputs": [],
   "source": [
    "details = {\n",
    "    # FIXME proper suffix from path? Or take info about format from feed?\n",
    "    \"file_format\": episode.audio.split(\".\")[-1],\n",
    "    \"index\": episode.index,\n",
    "    \"title\": episode.title.lower().replace(\" \", \"_\"),\n",
    "}"
   ]
  },
  {
   "cell_type": "code",
   "execution_count": 12,
   "id": "be21e769-f8bb-4946-9c1e-706a56aeb107",
   "metadata": {},
   "outputs": [
    {
     "data": {
      "text/plain": [
       "'1_pp01_-_die_erste_sendung.mp3'"
      ]
     },
     "execution_count": 12,
     "metadata": {},
     "output_type": "execute_result"
    }
   ],
   "source": [
    "Podcast.file_name_pattern.format(**details)"
   ]
  },
  {
   "cell_type": "code",
   "execution_count": 13,
   "id": "1eed7ddb-fce9-4c39-834e-d187169c8eb7",
   "metadata": {},
   "outputs": [
    {
     "data": {
      "text/plain": [
       "'1_pp01_-_die_erste_sendung.mp3'"
      ]
     },
     "execution_count": 13,
     "metadata": {},
     "output_type": "execute_result"
    }
   ],
   "source": [
    "podcast.get_audio_file_name(episode)"
   ]
  },
  {
   "cell_type": "code",
   "execution_count": null,
   "id": "d217e343-6ae8-4346-ac43-fa5cb939e8a7",
   "metadata": {},
   "outputs": [],
   "source": []
  }
 ],
 "metadata": {
  "kernelspec": {
   "display_name": "Python 3 (ipykernel)",
   "language": "python",
   "name": "python3"
  },
  "language_info": {
   "codemirror_mode": {
    "name": "ipython",
    "version": 3
   },
   "file_extension": ".py",
   "mimetype": "text/x-python",
   "name": "python",
   "nbconvert_exporter": "python",
   "pygments_lexer": "ipython3",
   "version": "3.10.2"
  }
 },
 "nbformat": 4,
 "nbformat_minor": 5
}
